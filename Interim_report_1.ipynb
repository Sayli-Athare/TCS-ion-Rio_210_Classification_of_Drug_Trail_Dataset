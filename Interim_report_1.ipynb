{
  "nbformat": 4,
  "nbformat_minor": 0,
  "metadata": {
    "colab": {
      "provenance": [],
      "authorship_tag": "ABX9TyOE6ABtLTrdmpbDcrNF3/7b",
      "include_colab_link": true
    },
    "kernelspec": {
      "name": "python3",
      "display_name": "Python 3"
    },
    "language_info": {
      "name": "python"
    }
  },
  "cells": [
    {
      "cell_type": "markdown",
      "metadata": {
        "id": "view-in-github",
        "colab_type": "text"
      },
      "source": [
        "<a href=\"https://colab.research.google.com/github/Sayli-Athare/TCS-ion-Rio_210_Classification_of_Drug_Trail_Dataset/blob/main/Interim_report_1.ipynb\" target=\"_parent\"><img src=\"https://colab.research.google.com/assets/colab-badge.svg\" alt=\"Open In Colab\"/></a>"
      ]
    },
    {
      "cell_type": "markdown",
      "source": [
        "**TCS-ion-Rio_210_Classification_of_Drug_Trail_Dataset**"
      ],
      "metadata": {
        "id": "W6FKjPAatrcs"
      }
    },
    {
      "cell_type": "code",
      "source": [
        "pip install faker"
      ],
      "metadata": {
        "colab": {
          "base_uri": "https://localhost:8080/"
        },
        "id": "tEOugq_zxQpW",
        "outputId": "5d96534f-f8e1-4d27-ddfe-452b29ca411a"
      },
      "execution_count": null,
      "outputs": [
        {
          "output_type": "stream",
          "name": "stdout",
          "text": [
            "Looking in indexes: https://pypi.org/simple, https://us-python.pkg.dev/colab-wheels/public/simple/\n",
            "Collecting faker\n",
            "  Downloading Faker-18.4.0-py3-none-any.whl (1.7 MB)\n",
            "\u001b[2K     \u001b[90m━━━━━━━━━━━━━━━━━━━━━━━━━━━━━━━━━━━━━━━━\u001b[0m \u001b[32m1.7/1.7 MB\u001b[0m \u001b[31m32.7 MB/s\u001b[0m eta \u001b[36m0:00:00\u001b[0m\n",
            "\u001b[?25hRequirement already satisfied: python-dateutil>=2.4 in /usr/local/lib/python3.9/dist-packages (from faker) (2.8.2)\n",
            "Requirement already satisfied: six>=1.5 in /usr/local/lib/python3.9/dist-packages (from python-dateutil>=2.4->faker) (1.16.0)\n",
            "Installing collected packages: faker\n",
            "Successfully installed faker-18.4.0\n"
          ]
        }
      ]
    },
    {
      "cell_type": "markdown",
      "source": [
        " **Importing standard libraries**"
      ],
      "metadata": {
        "id": "7TN4R0VSx4c8"
      }
    },
    {
      "cell_type": "code",
      "source": [
        "from faker import Faker\n",
        "import numpy as np\n",
        "import pandas as pd\n",
        "from random import choice, sample\n",
        "import matplotlib.pyplot as plt\n",
        "import seaborn as sns\n",
        "%matplotlib inline\n",
        "\n",
        "import warnings\n",
        "warnings.filterwarnings('ignore')"
      ],
      "metadata": {
        "id": "grrhVjJ9yDn6"
      },
      "execution_count": null,
      "outputs": []
    },
    {
      "cell_type": "code",
      "source": [
        "df1 = Faker()"
      ],
      "metadata": {
        "id": "WQRKQUPeyULi"
      },
      "execution_count": null,
      "outputs": []
    },
    {
      "cell_type": "markdown",
      "source": [
        "**Creating name column with Faker**"
      ],
      "metadata": {
        "id": "fhBBAqK0ybAS"
      }
    },
    {
      "cell_type": "code",
      "source": [
        "def create_names(n):\n",
        "   name = []\n",
        "   for _ in range(0, n):\n",
        "        name.append(df1.name())\n",
        "   return name"
      ],
      "metadata": {
        "id": "lPC5tWVYyhKB"
      },
      "execution_count": null,
      "outputs": []
    },
    {
      "cell_type": "code",
      "source": [
        "name = create_names(362806)"
      ],
      "metadata": {
        "id": "XGyM1R2YyjF1"
      },
      "execution_count": null,
      "outputs": []
    },
    {
      "cell_type": "code",
      "source": [
        "df_name = pd.DataFrame(list(zip(name)),columns = ['Name'])"
      ],
      "metadata": {
        "id": "nRNXvQPRylsM"
      },
      "execution_count": null,
      "outputs": []
    },
    {
      "cell_type": "code",
      "source": [
        "df_name.head()"
      ],
      "metadata": {
        "id": "0uCtp_iTynIl",
        "colab": {
          "base_uri": "https://localhost:8080/",
          "height": 206
        },
        "outputId": "5cb1add3-5160-4616-e758-cd816c1fd017"
      },
      "execution_count": null,
      "outputs": [
        {
          "output_type": "execute_result",
          "data": {
            "text/plain": [
              "                Name\n",
              "0    Danielle Cannon\n",
              "1       Hunter Logan\n",
              "2  Matthew Robertson\n",
              "3       Isaiah Smith\n",
              "4     Sandra Ellison"
            ],
            "text/html": [
              "\n",
              "  <div id=\"df-912233c9-0eec-4fd0-95d6-864a08d51103\">\n",
              "    <div class=\"colab-df-container\">\n",
              "      <div>\n",
              "<style scoped>\n",
              "    .dataframe tbody tr th:only-of-type {\n",
              "        vertical-align: middle;\n",
              "    }\n",
              "\n",
              "    .dataframe tbody tr th {\n",
              "        vertical-align: top;\n",
              "    }\n",
              "\n",
              "    .dataframe thead th {\n",
              "        text-align: right;\n",
              "    }\n",
              "</style>\n",
              "<table border=\"1\" class=\"dataframe\">\n",
              "  <thead>\n",
              "    <tr style=\"text-align: right;\">\n",
              "      <th></th>\n",
              "      <th>Name</th>\n",
              "    </tr>\n",
              "  </thead>\n",
              "  <tbody>\n",
              "    <tr>\n",
              "      <th>0</th>\n",
              "      <td>Danielle Cannon</td>\n",
              "    </tr>\n",
              "    <tr>\n",
              "      <th>1</th>\n",
              "      <td>Hunter Logan</td>\n",
              "    </tr>\n",
              "    <tr>\n",
              "      <th>2</th>\n",
              "      <td>Matthew Robertson</td>\n",
              "    </tr>\n",
              "    <tr>\n",
              "      <th>3</th>\n",
              "      <td>Isaiah Smith</td>\n",
              "    </tr>\n",
              "    <tr>\n",
              "      <th>4</th>\n",
              "      <td>Sandra Ellison</td>\n",
              "    </tr>\n",
              "  </tbody>\n",
              "</table>\n",
              "</div>\n",
              "      <button class=\"colab-df-convert\" onclick=\"convertToInteractive('df-912233c9-0eec-4fd0-95d6-864a08d51103')\"\n",
              "              title=\"Convert this dataframe to an interactive table.\"\n",
              "              style=\"display:none;\">\n",
              "        \n",
              "  <svg xmlns=\"http://www.w3.org/2000/svg\" height=\"24px\"viewBox=\"0 0 24 24\"\n",
              "       width=\"24px\">\n",
              "    <path d=\"M0 0h24v24H0V0z\" fill=\"none\"/>\n",
              "    <path d=\"M18.56 5.44l.94 2.06.94-2.06 2.06-.94-2.06-.94-.94-2.06-.94 2.06-2.06.94zm-11 1L8.5 8.5l.94-2.06 2.06-.94-2.06-.94L8.5 2.5l-.94 2.06-2.06.94zm10 10l.94 2.06.94-2.06 2.06-.94-2.06-.94-.94-2.06-.94 2.06-2.06.94z\"/><path d=\"M17.41 7.96l-1.37-1.37c-.4-.4-.92-.59-1.43-.59-.52 0-1.04.2-1.43.59L10.3 9.45l-7.72 7.72c-.78.78-.78 2.05 0 2.83L4 21.41c.39.39.9.59 1.41.59.51 0 1.02-.2 1.41-.59l7.78-7.78 2.81-2.81c.8-.78.8-2.07 0-2.86zM5.41 20L4 18.59l7.72-7.72 1.47 1.35L5.41 20z\"/>\n",
              "  </svg>\n",
              "      </button>\n",
              "      \n",
              "  <style>\n",
              "    .colab-df-container {\n",
              "      display:flex;\n",
              "      flex-wrap:wrap;\n",
              "      gap: 12px;\n",
              "    }\n",
              "\n",
              "    .colab-df-convert {\n",
              "      background-color: #E8F0FE;\n",
              "      border: none;\n",
              "      border-radius: 50%;\n",
              "      cursor: pointer;\n",
              "      display: none;\n",
              "      fill: #1967D2;\n",
              "      height: 32px;\n",
              "      padding: 0 0 0 0;\n",
              "      width: 32px;\n",
              "    }\n",
              "\n",
              "    .colab-df-convert:hover {\n",
              "      background-color: #E2EBFA;\n",
              "      box-shadow: 0px 1px 2px rgba(60, 64, 67, 0.3), 0px 1px 3px 1px rgba(60, 64, 67, 0.15);\n",
              "      fill: #174EA6;\n",
              "    }\n",
              "\n",
              "    [theme=dark] .colab-df-convert {\n",
              "      background-color: #3B4455;\n",
              "      fill: #D2E3FC;\n",
              "    }\n",
              "\n",
              "    [theme=dark] .colab-df-convert:hover {\n",
              "      background-color: #434B5C;\n",
              "      box-shadow: 0px 1px 3px 1px rgba(0, 0, 0, 0.15);\n",
              "      filter: drop-shadow(0px 1px 2px rgba(0, 0, 0, 0.3));\n",
              "      fill: #FFFFFF;\n",
              "    }\n",
              "  </style>\n",
              "\n",
              "      <script>\n",
              "        const buttonEl =\n",
              "          document.querySelector('#df-912233c9-0eec-4fd0-95d6-864a08d51103 button.colab-df-convert');\n",
              "        buttonEl.style.display =\n",
              "          google.colab.kernel.accessAllowed ? 'block' : 'none';\n",
              "\n",
              "        async function convertToInteractive(key) {\n",
              "          const element = document.querySelector('#df-912233c9-0eec-4fd0-95d6-864a08d51103');\n",
              "          const dataTable =\n",
              "            await google.colab.kernel.invokeFunction('convertToInteractive',\n",
              "                                                     [key], {});\n",
              "          if (!dataTable) return;\n",
              "\n",
              "          const docLinkHtml = 'Like what you see? Visit the ' +\n",
              "            '<a target=\"_blank\" href=https://colab.research.google.com/notebooks/data_table.ipynb>data table notebook</a>'\n",
              "            + ' to learn more about interactive tables.';\n",
              "          element.innerHTML = '';\n",
              "          dataTable['output_type'] = 'display_data';\n",
              "          await google.colab.output.renderOutput(dataTable, element);\n",
              "          const docLink = document.createElement('div');\n",
              "          docLink.innerHTML = docLinkHtml;\n",
              "          element.appendChild(docLink);\n",
              "        }\n",
              "      </script>\n",
              "    </div>\n",
              "  </div>\n",
              "  "
            ]
          },
          "metadata": {},
          "execution_count": 8
        }
      ]
    },
    {
      "cell_type": "code",
      "source": [
        "df_name.shape"
      ],
      "metadata": {
        "colab": {
          "base_uri": "https://localhost:8080/"
        },
        "id": "ucfw8BB3p_Rg",
        "outputId": "4f24e6e3-9cdf-491d-bd35-2ad8114d049a"
      },
      "execution_count": null,
      "outputs": [
        {
          "output_type": "execute_result",
          "data": {
            "text/plain": [
              "(362806, 1)"
            ]
          },
          "metadata": {},
          "execution_count": 9
        }
      ]
    },
    {
      "cell_type": "markdown",
      "source": [
        "**Creating race column**"
      ],
      "metadata": {
        "id": "mT-8avZZqm1y"
      }
    },
    {
      "cell_type": "code",
      "source": [
        "def weighted_cartesian_choice(*iterables):\n",
        "    # An arbitrary number of tuple or lists,each consisting of population and weights.weighted_cartesian_choice returns a list \n",
        "    #with a chocie from each population\n",
        "    \n",
        "    res = []\n",
        "    for population, weights in iterables:\n",
        "     #normalize weight:\n",
        "        weights = np.array(weights) / sum(weights)\n",
        "        lst = np.random.choice(population, p=weights)\n",
        "        res.append(lst)\n",
        "    return res\n",
        "race = (['White','Hispanic', 'Black','Asian'], \n",
        "        [.32,.28,.22,.18])\n",
        "\n",
        "list=[]\n",
        "for i in range(362806):\n",
        "    res = weighted_cartesian_choice(race)\n",
        "    list.append(res)"
      ],
      "metadata": {
        "id": "_BngTV9lqghu"
      },
      "execution_count": null,
      "outputs": []
    },
    {
      "cell_type": "code",
      "source": [
        "df_race=pd.DataFrame(list, columns = ['Race'])"
      ],
      "metadata": {
        "id": "kz0W0KttqsVn"
      },
      "execution_count": null,
      "outputs": []
    },
    {
      "cell_type": "code",
      "source": [
        "df_race.head()"
      ],
      "metadata": {
        "colab": {
          "base_uri": "https://localhost:8080/",
          "height": 206
        },
        "id": "3CA8Rkn9qukU",
        "outputId": "521b4743-5b32-4651-a8ce-6ba580ab2b91"
      },
      "execution_count": null,
      "outputs": [
        {
          "output_type": "execute_result",
          "data": {
            "text/plain": [
              "       Race\n",
              "0  Hispanic\n",
              "1  Hispanic\n",
              "2     White\n",
              "3     Black\n",
              "4     White"
            ],
            "text/html": [
              "\n",
              "  <div id=\"df-1da6fb77-d78d-462c-9680-1ee918d55dcb\">\n",
              "    <div class=\"colab-df-container\">\n",
              "      <div>\n",
              "<style scoped>\n",
              "    .dataframe tbody tr th:only-of-type {\n",
              "        vertical-align: middle;\n",
              "    }\n",
              "\n",
              "    .dataframe tbody tr th {\n",
              "        vertical-align: top;\n",
              "    }\n",
              "\n",
              "    .dataframe thead th {\n",
              "        text-align: right;\n",
              "    }\n",
              "</style>\n",
              "<table border=\"1\" class=\"dataframe\">\n",
              "  <thead>\n",
              "    <tr style=\"text-align: right;\">\n",
              "      <th></th>\n",
              "      <th>Race</th>\n",
              "    </tr>\n",
              "  </thead>\n",
              "  <tbody>\n",
              "    <tr>\n",
              "      <th>0</th>\n",
              "      <td>Hispanic</td>\n",
              "    </tr>\n",
              "    <tr>\n",
              "      <th>1</th>\n",
              "      <td>Hispanic</td>\n",
              "    </tr>\n",
              "    <tr>\n",
              "      <th>2</th>\n",
              "      <td>White</td>\n",
              "    </tr>\n",
              "    <tr>\n",
              "      <th>3</th>\n",
              "      <td>Black</td>\n",
              "    </tr>\n",
              "    <tr>\n",
              "      <th>4</th>\n",
              "      <td>White</td>\n",
              "    </tr>\n",
              "  </tbody>\n",
              "</table>\n",
              "</div>\n",
              "      <button class=\"colab-df-convert\" onclick=\"convertToInteractive('df-1da6fb77-d78d-462c-9680-1ee918d55dcb')\"\n",
              "              title=\"Convert this dataframe to an interactive table.\"\n",
              "              style=\"display:none;\">\n",
              "        \n",
              "  <svg xmlns=\"http://www.w3.org/2000/svg\" height=\"24px\"viewBox=\"0 0 24 24\"\n",
              "       width=\"24px\">\n",
              "    <path d=\"M0 0h24v24H0V0z\" fill=\"none\"/>\n",
              "    <path d=\"M18.56 5.44l.94 2.06.94-2.06 2.06-.94-2.06-.94-.94-2.06-.94 2.06-2.06.94zm-11 1L8.5 8.5l.94-2.06 2.06-.94-2.06-.94L8.5 2.5l-.94 2.06-2.06.94zm10 10l.94 2.06.94-2.06 2.06-.94-2.06-.94-.94-2.06-.94 2.06-2.06.94z\"/><path d=\"M17.41 7.96l-1.37-1.37c-.4-.4-.92-.59-1.43-.59-.52 0-1.04.2-1.43.59L10.3 9.45l-7.72 7.72c-.78.78-.78 2.05 0 2.83L4 21.41c.39.39.9.59 1.41.59.51 0 1.02-.2 1.41-.59l7.78-7.78 2.81-2.81c.8-.78.8-2.07 0-2.86zM5.41 20L4 18.59l7.72-7.72 1.47 1.35L5.41 20z\"/>\n",
              "  </svg>\n",
              "      </button>\n",
              "      \n",
              "  <style>\n",
              "    .colab-df-container {\n",
              "      display:flex;\n",
              "      flex-wrap:wrap;\n",
              "      gap: 12px;\n",
              "    }\n",
              "\n",
              "    .colab-df-convert {\n",
              "      background-color: #E8F0FE;\n",
              "      border: none;\n",
              "      border-radius: 50%;\n",
              "      cursor: pointer;\n",
              "      display: none;\n",
              "      fill: #1967D2;\n",
              "      height: 32px;\n",
              "      padding: 0 0 0 0;\n",
              "      width: 32px;\n",
              "    }\n",
              "\n",
              "    .colab-df-convert:hover {\n",
              "      background-color: #E2EBFA;\n",
              "      box-shadow: 0px 1px 2px rgba(60, 64, 67, 0.3), 0px 1px 3px 1px rgba(60, 64, 67, 0.15);\n",
              "      fill: #174EA6;\n",
              "    }\n",
              "\n",
              "    [theme=dark] .colab-df-convert {\n",
              "      background-color: #3B4455;\n",
              "      fill: #D2E3FC;\n",
              "    }\n",
              "\n",
              "    [theme=dark] .colab-df-convert:hover {\n",
              "      background-color: #434B5C;\n",
              "      box-shadow: 0px 1px 3px 1px rgba(0, 0, 0, 0.15);\n",
              "      filter: drop-shadow(0px 1px 2px rgba(0, 0, 0, 0.3));\n",
              "      fill: #FFFFFF;\n",
              "    }\n",
              "  </style>\n",
              "\n",
              "      <script>\n",
              "        const buttonEl =\n",
              "          document.querySelector('#df-1da6fb77-d78d-462c-9680-1ee918d55dcb button.colab-df-convert');\n",
              "        buttonEl.style.display =\n",
              "          google.colab.kernel.accessAllowed ? 'block' : 'none';\n",
              "\n",
              "        async function convertToInteractive(key) {\n",
              "          const element = document.querySelector('#df-1da6fb77-d78d-462c-9680-1ee918d55dcb');\n",
              "          const dataTable =\n",
              "            await google.colab.kernel.invokeFunction('convertToInteractive',\n",
              "                                                     [key], {});\n",
              "          if (!dataTable) return;\n",
              "\n",
              "          const docLinkHtml = 'Like what you see? Visit the ' +\n",
              "            '<a target=\"_blank\" href=https://colab.research.google.com/notebooks/data_table.ipynb>data table notebook</a>'\n",
              "            + ' to learn more about interactive tables.';\n",
              "          element.innerHTML = '';\n",
              "          dataTable['output_type'] = 'display_data';\n",
              "          await google.colab.output.renderOutput(dataTable, element);\n",
              "          const docLink = document.createElement('div');\n",
              "          docLink.innerHTML = docLinkHtml;\n",
              "          element.appendChild(docLink);\n",
              "        }\n",
              "      </script>\n",
              "    </div>\n",
              "  </div>\n",
              "  "
            ]
          },
          "metadata": {},
          "execution_count": 12
        }
      ]
    },
    {
      "cell_type": "markdown",
      "source": [
        "**Concatenating name and race columns**"
      ],
      "metadata": {
        "id": "fT_OkbDhqyuY"
      }
    },
    {
      "cell_type": "code",
      "source": [
        "df_nr = pd.concat([df_name, df_race], axis=1).reindex(df_race.index)"
      ],
      "metadata": {
        "id": "VfSUQ7n4qv7Q"
      },
      "execution_count": null,
      "outputs": []
    },
    {
      "cell_type": "code",
      "source": [
        "from google.colab import drive\n",
        "drive.mount('/content/drive')"
      ],
      "metadata": {
        "colab": {
          "base_uri": "https://localhost:8080/"
        },
        "id": "ho15X0b3rtUd",
        "outputId": "18057cbf-1903-4f53-a3e3-6f483dc4e392"
      },
      "execution_count": null,
      "outputs": [
        {
          "output_type": "stream",
          "name": "stdout",
          "text": [
            "Mounted at /content/drive\n"
          ]
        }
      ]
    },
    {
      "cell_type": "code",
      "source": [
        "df_drugs = pd.read_csv('/content/drive/MyDrive/webmd.csv')"
      ],
      "metadata": {
        "id": "q_A63o0Rq2jY"
      },
      "execution_count": null,
      "outputs": []
    },
    {
      "cell_type": "markdown",
      "source": [
        "**Creating the final dataset**"
      ],
      "metadata": {
        "id": "-TlaMT1WsGf8"
      }
    },
    {
      "cell_type": "code",
      "source": [
        "data_drugs = pd.concat([df_nr, df_drugs], axis=1).reindex(df_drugs.index)\n",
        "data_drugs.head()"
      ],
      "metadata": {
        "colab": {
          "base_uri": "https://localhost:8080/",
          "height": 371
        },
        "id": "J78lot2Zq4CP",
        "outputId": "f96ec9e1-9d20-49a3-f431-38a60731921b"
      },
      "execution_count": null,
      "outputs": [
        {
          "output_type": "execute_result",
          "data": {
            "text/plain": [
              "                Name      Race         Age      Condition       Date  \\\n",
              "0    Danielle Cannon  Hispanic  75 or over    Stuffy Nose  9/21/2014   \n",
              "1       Hunter Logan  Hispanic       25-34  Cold Symptoms  1/13/2011   \n",
              "2  Matthew Robertson     White       65-74          Other  7/16/2012   \n",
              "3       Isaiah Smith     Black  75 or over          Other  9/23/2010   \n",
              "4     Sandra Ellison     White       35-44          Other   1/6/2009   \n",
              "\n",
              "                           Drug  DrugId  EaseofUse  Effectiveness  \\\n",
              "0                  25dph-7.5peh  146724          5              5   \n",
              "1                  25dph-7.5peh  146724          5              5   \n",
              "2  warfarin (bulk) 100 % powder  144731          2              3   \n",
              "3  warfarin (bulk) 100 % powder  144731          2              2   \n",
              "4  warfarin (bulk) 100 % powder  144731          1              1   \n",
              "\n",
              "                                             Reviews  Satisfaction     Sex  \\\n",
              "0  I'm a retired physician and of all the meds I ...             5    Male   \n",
              "1  cleared me right up even with my throat hurtin...             5  Female   \n",
              "2  why did my PTINR go from a normal of 2.5 to ov...             3  Female   \n",
              "3                       FALLING AND DON'T REALISE IT             1  Female   \n",
              "4  My grandfather was prescribed this medication ...             1    Male   \n",
              "\n",
              "                                               Sides  UsefulCount  \n",
              "0  Drowsiness,  dizziness ,  dry mouth /nose/thro...            0  \n",
              "1  Drowsiness,  dizziness ,  dry mouth /nose/thro...            1  \n",
              "2                                                               0  \n",
              "3                                                               0  \n",
              "4                                                               1  "
            ],
            "text/html": [
              "\n",
              "  <div id=\"df-109ec8b5-545b-43e3-b55f-90e11c11e5f4\">\n",
              "    <div class=\"colab-df-container\">\n",
              "      <div>\n",
              "<style scoped>\n",
              "    .dataframe tbody tr th:only-of-type {\n",
              "        vertical-align: middle;\n",
              "    }\n",
              "\n",
              "    .dataframe tbody tr th {\n",
              "        vertical-align: top;\n",
              "    }\n",
              "\n",
              "    .dataframe thead th {\n",
              "        text-align: right;\n",
              "    }\n",
              "</style>\n",
              "<table border=\"1\" class=\"dataframe\">\n",
              "  <thead>\n",
              "    <tr style=\"text-align: right;\">\n",
              "      <th></th>\n",
              "      <th>Name</th>\n",
              "      <th>Race</th>\n",
              "      <th>Age</th>\n",
              "      <th>Condition</th>\n",
              "      <th>Date</th>\n",
              "      <th>Drug</th>\n",
              "      <th>DrugId</th>\n",
              "      <th>EaseofUse</th>\n",
              "      <th>Effectiveness</th>\n",
              "      <th>Reviews</th>\n",
              "      <th>Satisfaction</th>\n",
              "      <th>Sex</th>\n",
              "      <th>Sides</th>\n",
              "      <th>UsefulCount</th>\n",
              "    </tr>\n",
              "  </thead>\n",
              "  <tbody>\n",
              "    <tr>\n",
              "      <th>0</th>\n",
              "      <td>Danielle Cannon</td>\n",
              "      <td>Hispanic</td>\n",
              "      <td>75 or over</td>\n",
              "      <td>Stuffy Nose</td>\n",
              "      <td>9/21/2014</td>\n",
              "      <td>25dph-7.5peh</td>\n",
              "      <td>146724</td>\n",
              "      <td>5</td>\n",
              "      <td>5</td>\n",
              "      <td>I'm a retired physician and of all the meds I ...</td>\n",
              "      <td>5</td>\n",
              "      <td>Male</td>\n",
              "      <td>Drowsiness,  dizziness ,  dry mouth /nose/thro...</td>\n",
              "      <td>0</td>\n",
              "    </tr>\n",
              "    <tr>\n",
              "      <th>1</th>\n",
              "      <td>Hunter Logan</td>\n",
              "      <td>Hispanic</td>\n",
              "      <td>25-34</td>\n",
              "      <td>Cold Symptoms</td>\n",
              "      <td>1/13/2011</td>\n",
              "      <td>25dph-7.5peh</td>\n",
              "      <td>146724</td>\n",
              "      <td>5</td>\n",
              "      <td>5</td>\n",
              "      <td>cleared me right up even with my throat hurtin...</td>\n",
              "      <td>5</td>\n",
              "      <td>Female</td>\n",
              "      <td>Drowsiness,  dizziness ,  dry mouth /nose/thro...</td>\n",
              "      <td>1</td>\n",
              "    </tr>\n",
              "    <tr>\n",
              "      <th>2</th>\n",
              "      <td>Matthew Robertson</td>\n",
              "      <td>White</td>\n",
              "      <td>65-74</td>\n",
              "      <td>Other</td>\n",
              "      <td>7/16/2012</td>\n",
              "      <td>warfarin (bulk) 100 % powder</td>\n",
              "      <td>144731</td>\n",
              "      <td>2</td>\n",
              "      <td>3</td>\n",
              "      <td>why did my PTINR go from a normal of 2.5 to ov...</td>\n",
              "      <td>3</td>\n",
              "      <td>Female</td>\n",
              "      <td></td>\n",
              "      <td>0</td>\n",
              "    </tr>\n",
              "    <tr>\n",
              "      <th>3</th>\n",
              "      <td>Isaiah Smith</td>\n",
              "      <td>Black</td>\n",
              "      <td>75 or over</td>\n",
              "      <td>Other</td>\n",
              "      <td>9/23/2010</td>\n",
              "      <td>warfarin (bulk) 100 % powder</td>\n",
              "      <td>144731</td>\n",
              "      <td>2</td>\n",
              "      <td>2</td>\n",
              "      <td>FALLING AND DON'T REALISE IT</td>\n",
              "      <td>1</td>\n",
              "      <td>Female</td>\n",
              "      <td></td>\n",
              "      <td>0</td>\n",
              "    </tr>\n",
              "    <tr>\n",
              "      <th>4</th>\n",
              "      <td>Sandra Ellison</td>\n",
              "      <td>White</td>\n",
              "      <td>35-44</td>\n",
              "      <td>Other</td>\n",
              "      <td>1/6/2009</td>\n",
              "      <td>warfarin (bulk) 100 % powder</td>\n",
              "      <td>144731</td>\n",
              "      <td>1</td>\n",
              "      <td>1</td>\n",
              "      <td>My grandfather was prescribed this medication ...</td>\n",
              "      <td>1</td>\n",
              "      <td>Male</td>\n",
              "      <td></td>\n",
              "      <td>1</td>\n",
              "    </tr>\n",
              "  </tbody>\n",
              "</table>\n",
              "</div>\n",
              "      <button class=\"colab-df-convert\" onclick=\"convertToInteractive('df-109ec8b5-545b-43e3-b55f-90e11c11e5f4')\"\n",
              "              title=\"Convert this dataframe to an interactive table.\"\n",
              "              style=\"display:none;\">\n",
              "        \n",
              "  <svg xmlns=\"http://www.w3.org/2000/svg\" height=\"24px\"viewBox=\"0 0 24 24\"\n",
              "       width=\"24px\">\n",
              "    <path d=\"M0 0h24v24H0V0z\" fill=\"none\"/>\n",
              "    <path d=\"M18.56 5.44l.94 2.06.94-2.06 2.06-.94-2.06-.94-.94-2.06-.94 2.06-2.06.94zm-11 1L8.5 8.5l.94-2.06 2.06-.94-2.06-.94L8.5 2.5l-.94 2.06-2.06.94zm10 10l.94 2.06.94-2.06 2.06-.94-2.06-.94-.94-2.06-.94 2.06-2.06.94z\"/><path d=\"M17.41 7.96l-1.37-1.37c-.4-.4-.92-.59-1.43-.59-.52 0-1.04.2-1.43.59L10.3 9.45l-7.72 7.72c-.78.78-.78 2.05 0 2.83L4 21.41c.39.39.9.59 1.41.59.51 0 1.02-.2 1.41-.59l7.78-7.78 2.81-2.81c.8-.78.8-2.07 0-2.86zM5.41 20L4 18.59l7.72-7.72 1.47 1.35L5.41 20z\"/>\n",
              "  </svg>\n",
              "      </button>\n",
              "      \n",
              "  <style>\n",
              "    .colab-df-container {\n",
              "      display:flex;\n",
              "      flex-wrap:wrap;\n",
              "      gap: 12px;\n",
              "    }\n",
              "\n",
              "    .colab-df-convert {\n",
              "      background-color: #E8F0FE;\n",
              "      border: none;\n",
              "      border-radius: 50%;\n",
              "      cursor: pointer;\n",
              "      display: none;\n",
              "      fill: #1967D2;\n",
              "      height: 32px;\n",
              "      padding: 0 0 0 0;\n",
              "      width: 32px;\n",
              "    }\n",
              "\n",
              "    .colab-df-convert:hover {\n",
              "      background-color: #E2EBFA;\n",
              "      box-shadow: 0px 1px 2px rgba(60, 64, 67, 0.3), 0px 1px 3px 1px rgba(60, 64, 67, 0.15);\n",
              "      fill: #174EA6;\n",
              "    }\n",
              "\n",
              "    [theme=dark] .colab-df-convert {\n",
              "      background-color: #3B4455;\n",
              "      fill: #D2E3FC;\n",
              "    }\n",
              "\n",
              "    [theme=dark] .colab-df-convert:hover {\n",
              "      background-color: #434B5C;\n",
              "      box-shadow: 0px 1px 3px 1px rgba(0, 0, 0, 0.15);\n",
              "      filter: drop-shadow(0px 1px 2px rgba(0, 0, 0, 0.3));\n",
              "      fill: #FFFFFF;\n",
              "    }\n",
              "  </style>\n",
              "\n",
              "      <script>\n",
              "        const buttonEl =\n",
              "          document.querySelector('#df-109ec8b5-545b-43e3-b55f-90e11c11e5f4 button.colab-df-convert');\n",
              "        buttonEl.style.display =\n",
              "          google.colab.kernel.accessAllowed ? 'block' : 'none';\n",
              "\n",
              "        async function convertToInteractive(key) {\n",
              "          const element = document.querySelector('#df-109ec8b5-545b-43e3-b55f-90e11c11e5f4');\n",
              "          const dataTable =\n",
              "            await google.colab.kernel.invokeFunction('convertToInteractive',\n",
              "                                                     [key], {});\n",
              "          if (!dataTable) return;\n",
              "\n",
              "          const docLinkHtml = 'Like what you see? Visit the ' +\n",
              "            '<a target=\"_blank\" href=https://colab.research.google.com/notebooks/data_table.ipynb>data table notebook</a>'\n",
              "            + ' to learn more about interactive tables.';\n",
              "          element.innerHTML = '';\n",
              "          dataTable['output_type'] = 'display_data';\n",
              "          await google.colab.output.renderOutput(dataTable, element);\n",
              "          const docLink = document.createElement('div');\n",
              "          docLink.innerHTML = docLinkHtml;\n",
              "          element.appendChild(docLink);\n",
              "        }\n",
              "      </script>\n",
              "    </div>\n",
              "  </div>\n",
              "  "
            ]
          },
          "metadata": {},
          "execution_count": 17
        }
      ]
    },
    {
      "cell_type": "markdown",
      "source": [
        "**Converting the dataframe to csv file**"
      ],
      "metadata": {
        "id": "9L-47FCZsSEx"
      }
    },
    {
      "cell_type": "code",
      "source": [
        "data_drugs = data_drugs.to_csv('dataset_drugs.csv', index=False)"
      ],
      "metadata": {
        "id": "wTA_12JusK_5"
      },
      "execution_count": null,
      "outputs": []
    },
    {
      "cell_type": "markdown",
      "source": [
        "**Loading the dataset**"
      ],
      "metadata": {
        "id": "yk2HbXCSsapl"
      }
    },
    {
      "cell_type": "code",
      "source": [
        "data = pd.read_csv('dataset_drugs.csv')\n",
        "data.head()"
      ],
      "metadata": {
        "colab": {
          "base_uri": "https://localhost:8080/",
          "height": 371
        },
        "id": "zXRzrwkzsXo0",
        "outputId": "65cd83b6-c11f-4d03-ed80-9ccb878fe074"
      },
      "execution_count": null,
      "outputs": [
        {
          "output_type": "execute_result",
          "data": {
            "text/plain": [
              "                Name      Race         Age      Condition       Date  \\\n",
              "0    Danielle Cannon  Hispanic  75 or over    Stuffy Nose  9/21/2014   \n",
              "1       Hunter Logan  Hispanic       25-34  Cold Symptoms  1/13/2011   \n",
              "2  Matthew Robertson     White       65-74          Other  7/16/2012   \n",
              "3       Isaiah Smith     Black  75 or over          Other  9/23/2010   \n",
              "4     Sandra Ellison     White       35-44          Other   1/6/2009   \n",
              "\n",
              "                           Drug  DrugId  EaseofUse  Effectiveness  \\\n",
              "0                  25dph-7.5peh  146724          5              5   \n",
              "1                  25dph-7.5peh  146724          5              5   \n",
              "2  warfarin (bulk) 100 % powder  144731          2              3   \n",
              "3  warfarin (bulk) 100 % powder  144731          2              2   \n",
              "4  warfarin (bulk) 100 % powder  144731          1              1   \n",
              "\n",
              "                                             Reviews  Satisfaction     Sex  \\\n",
              "0  I'm a retired physician and of all the meds I ...             5    Male   \n",
              "1  cleared me right up even with my throat hurtin...             5  Female   \n",
              "2  why did my PTINR go from a normal of 2.5 to ov...             3  Female   \n",
              "3                       FALLING AND DON'T REALISE IT             1  Female   \n",
              "4  My grandfather was prescribed this medication ...             1    Male   \n",
              "\n",
              "                                               Sides  UsefulCount  \n",
              "0  Drowsiness,  dizziness ,  dry mouth /nose/thro...            0  \n",
              "1  Drowsiness,  dizziness ,  dry mouth /nose/thro...            1  \n",
              "2                                                               0  \n",
              "3                                                               0  \n",
              "4                                                               1  "
            ],
            "text/html": [
              "\n",
              "  <div id=\"df-ed9a190f-64c5-4174-bc5a-b5d016c69369\">\n",
              "    <div class=\"colab-df-container\">\n",
              "      <div>\n",
              "<style scoped>\n",
              "    .dataframe tbody tr th:only-of-type {\n",
              "        vertical-align: middle;\n",
              "    }\n",
              "\n",
              "    .dataframe tbody tr th {\n",
              "        vertical-align: top;\n",
              "    }\n",
              "\n",
              "    .dataframe thead th {\n",
              "        text-align: right;\n",
              "    }\n",
              "</style>\n",
              "<table border=\"1\" class=\"dataframe\">\n",
              "  <thead>\n",
              "    <tr style=\"text-align: right;\">\n",
              "      <th></th>\n",
              "      <th>Name</th>\n",
              "      <th>Race</th>\n",
              "      <th>Age</th>\n",
              "      <th>Condition</th>\n",
              "      <th>Date</th>\n",
              "      <th>Drug</th>\n",
              "      <th>DrugId</th>\n",
              "      <th>EaseofUse</th>\n",
              "      <th>Effectiveness</th>\n",
              "      <th>Reviews</th>\n",
              "      <th>Satisfaction</th>\n",
              "      <th>Sex</th>\n",
              "      <th>Sides</th>\n",
              "      <th>UsefulCount</th>\n",
              "    </tr>\n",
              "  </thead>\n",
              "  <tbody>\n",
              "    <tr>\n",
              "      <th>0</th>\n",
              "      <td>Danielle Cannon</td>\n",
              "      <td>Hispanic</td>\n",
              "      <td>75 or over</td>\n",
              "      <td>Stuffy Nose</td>\n",
              "      <td>9/21/2014</td>\n",
              "      <td>25dph-7.5peh</td>\n",
              "      <td>146724</td>\n",
              "      <td>5</td>\n",
              "      <td>5</td>\n",
              "      <td>I'm a retired physician and of all the meds I ...</td>\n",
              "      <td>5</td>\n",
              "      <td>Male</td>\n",
              "      <td>Drowsiness,  dizziness ,  dry mouth /nose/thro...</td>\n",
              "      <td>0</td>\n",
              "    </tr>\n",
              "    <tr>\n",
              "      <th>1</th>\n",
              "      <td>Hunter Logan</td>\n",
              "      <td>Hispanic</td>\n",
              "      <td>25-34</td>\n",
              "      <td>Cold Symptoms</td>\n",
              "      <td>1/13/2011</td>\n",
              "      <td>25dph-7.5peh</td>\n",
              "      <td>146724</td>\n",
              "      <td>5</td>\n",
              "      <td>5</td>\n",
              "      <td>cleared me right up even with my throat hurtin...</td>\n",
              "      <td>5</td>\n",
              "      <td>Female</td>\n",
              "      <td>Drowsiness,  dizziness ,  dry mouth /nose/thro...</td>\n",
              "      <td>1</td>\n",
              "    </tr>\n",
              "    <tr>\n",
              "      <th>2</th>\n",
              "      <td>Matthew Robertson</td>\n",
              "      <td>White</td>\n",
              "      <td>65-74</td>\n",
              "      <td>Other</td>\n",
              "      <td>7/16/2012</td>\n",
              "      <td>warfarin (bulk) 100 % powder</td>\n",
              "      <td>144731</td>\n",
              "      <td>2</td>\n",
              "      <td>3</td>\n",
              "      <td>why did my PTINR go from a normal of 2.5 to ov...</td>\n",
              "      <td>3</td>\n",
              "      <td>Female</td>\n",
              "      <td></td>\n",
              "      <td>0</td>\n",
              "    </tr>\n",
              "    <tr>\n",
              "      <th>3</th>\n",
              "      <td>Isaiah Smith</td>\n",
              "      <td>Black</td>\n",
              "      <td>75 or over</td>\n",
              "      <td>Other</td>\n",
              "      <td>9/23/2010</td>\n",
              "      <td>warfarin (bulk) 100 % powder</td>\n",
              "      <td>144731</td>\n",
              "      <td>2</td>\n",
              "      <td>2</td>\n",
              "      <td>FALLING AND DON'T REALISE IT</td>\n",
              "      <td>1</td>\n",
              "      <td>Female</td>\n",
              "      <td></td>\n",
              "      <td>0</td>\n",
              "    </tr>\n",
              "    <tr>\n",
              "      <th>4</th>\n",
              "      <td>Sandra Ellison</td>\n",
              "      <td>White</td>\n",
              "      <td>35-44</td>\n",
              "      <td>Other</td>\n",
              "      <td>1/6/2009</td>\n",
              "      <td>warfarin (bulk) 100 % powder</td>\n",
              "      <td>144731</td>\n",
              "      <td>1</td>\n",
              "      <td>1</td>\n",
              "      <td>My grandfather was prescribed this medication ...</td>\n",
              "      <td>1</td>\n",
              "      <td>Male</td>\n",
              "      <td></td>\n",
              "      <td>1</td>\n",
              "    </tr>\n",
              "  </tbody>\n",
              "</table>\n",
              "</div>\n",
              "      <button class=\"colab-df-convert\" onclick=\"convertToInteractive('df-ed9a190f-64c5-4174-bc5a-b5d016c69369')\"\n",
              "              title=\"Convert this dataframe to an interactive table.\"\n",
              "              style=\"display:none;\">\n",
              "        \n",
              "  <svg xmlns=\"http://www.w3.org/2000/svg\" height=\"24px\"viewBox=\"0 0 24 24\"\n",
              "       width=\"24px\">\n",
              "    <path d=\"M0 0h24v24H0V0z\" fill=\"none\"/>\n",
              "    <path d=\"M18.56 5.44l.94 2.06.94-2.06 2.06-.94-2.06-.94-.94-2.06-.94 2.06-2.06.94zm-11 1L8.5 8.5l.94-2.06 2.06-.94-2.06-.94L8.5 2.5l-.94 2.06-2.06.94zm10 10l.94 2.06.94-2.06 2.06-.94-2.06-.94-.94-2.06-.94 2.06-2.06.94z\"/><path d=\"M17.41 7.96l-1.37-1.37c-.4-.4-.92-.59-1.43-.59-.52 0-1.04.2-1.43.59L10.3 9.45l-7.72 7.72c-.78.78-.78 2.05 0 2.83L4 21.41c.39.39.9.59 1.41.59.51 0 1.02-.2 1.41-.59l7.78-7.78 2.81-2.81c.8-.78.8-2.07 0-2.86zM5.41 20L4 18.59l7.72-7.72 1.47 1.35L5.41 20z\"/>\n",
              "  </svg>\n",
              "      </button>\n",
              "      \n",
              "  <style>\n",
              "    .colab-df-container {\n",
              "      display:flex;\n",
              "      flex-wrap:wrap;\n",
              "      gap: 12px;\n",
              "    }\n",
              "\n",
              "    .colab-df-convert {\n",
              "      background-color: #E8F0FE;\n",
              "      border: none;\n",
              "      border-radius: 50%;\n",
              "      cursor: pointer;\n",
              "      display: none;\n",
              "      fill: #1967D2;\n",
              "      height: 32px;\n",
              "      padding: 0 0 0 0;\n",
              "      width: 32px;\n",
              "    }\n",
              "\n",
              "    .colab-df-convert:hover {\n",
              "      background-color: #E2EBFA;\n",
              "      box-shadow: 0px 1px 2px rgba(60, 64, 67, 0.3), 0px 1px 3px 1px rgba(60, 64, 67, 0.15);\n",
              "      fill: #174EA6;\n",
              "    }\n",
              "\n",
              "    [theme=dark] .colab-df-convert {\n",
              "      background-color: #3B4455;\n",
              "      fill: #D2E3FC;\n",
              "    }\n",
              "\n",
              "    [theme=dark] .colab-df-convert:hover {\n",
              "      background-color: #434B5C;\n",
              "      box-shadow: 0px 1px 3px 1px rgba(0, 0, 0, 0.15);\n",
              "      filter: drop-shadow(0px 1px 2px rgba(0, 0, 0, 0.3));\n",
              "      fill: #FFFFFF;\n",
              "    }\n",
              "  </style>\n",
              "\n",
              "      <script>\n",
              "        const buttonEl =\n",
              "          document.querySelector('#df-ed9a190f-64c5-4174-bc5a-b5d016c69369 button.colab-df-convert');\n",
              "        buttonEl.style.display =\n",
              "          google.colab.kernel.accessAllowed ? 'block' : 'none';\n",
              "\n",
              "        async function convertToInteractive(key) {\n",
              "          const element = document.querySelector('#df-ed9a190f-64c5-4174-bc5a-b5d016c69369');\n",
              "          const dataTable =\n",
              "            await google.colab.kernel.invokeFunction('convertToInteractive',\n",
              "                                                     [key], {});\n",
              "          if (!dataTable) return;\n",
              "\n",
              "          const docLinkHtml = 'Like what you see? Visit the ' +\n",
              "            '<a target=\"_blank\" href=https://colab.research.google.com/notebooks/data_table.ipynb>data table notebook</a>'\n",
              "            + ' to learn more about interactive tables.';\n",
              "          element.innerHTML = '';\n",
              "          dataTable['output_type'] = 'display_data';\n",
              "          await google.colab.output.renderOutput(dataTable, element);\n",
              "          const docLink = document.createElement('div');\n",
              "          docLink.innerHTML = docLinkHtml;\n",
              "          element.appendChild(docLink);\n",
              "        }\n",
              "      </script>\n",
              "    </div>\n",
              "  </div>\n",
              "  "
            ]
          },
          "metadata": {},
          "execution_count": 19
        }
      ]
    },
    {
      "cell_type": "markdown",
      "source": [
        "**Description of the dataset**\n",
        "\n",
        "Name : Name of the patient\n",
        "\n",
        "Race : Race of the patient\n",
        "\n",
        "Age : Age of the patient\n",
        "\n",
        "Condition : Condition/symptom from which the patient is suffering\n",
        "\n",
        "Date : Date of usage\n",
        "\n",
        "Drug : Name of the drug\n",
        "\n",
        "DrugId : Identity/code of drug\n",
        "\n",
        "EaseofUse : Patient's 10-Star rating on the ease of use of drug\n",
        "\n",
        "Effectiveness : Patient's 10-Star rating on the effectiveness of drug\n",
        "\n",
        "Reviews : Patient's review\n",
        "\n",
        "Satisfaction : Patient's 10-Star rating on satisfaction\n",
        "\n",
        "Sex : Gender of the patient\n",
        "\n",
        "Sides : Side effects of the drug\n",
        "\n",
        "UsefulCount : Number of users who found the review useful"
      ],
      "metadata": {
        "id": "wo7HpqyPstpR"
      }
    },
    {
      "cell_type": "markdown",
      "source": [
        "**DATA EXPLORATION**"
      ],
      "metadata": {
        "id": "Jn3Zb3xgs2ic"
      }
    },
    {
      "cell_type": "markdown",
      "source": [
        "**To display first five rows of the dataset**"
      ],
      "metadata": {
        "id": "2PKTJXljs5LV"
      }
    },
    {
      "cell_type": "code",
      "source": [
        "data.head()"
      ],
      "metadata": {
        "colab": {
          "base_uri": "https://localhost:8080/",
          "height": 371
        },
        "id": "39fmE0Nfsesa",
        "outputId": "03dcadd1-2572-478a-a77e-34b3bd0ad69e"
      },
      "execution_count": null,
      "outputs": [
        {
          "output_type": "execute_result",
          "data": {
            "text/plain": [
              "                Name      Race         Age      Condition       Date  \\\n",
              "0    Danielle Cannon  Hispanic  75 or over    Stuffy Nose  9/21/2014   \n",
              "1       Hunter Logan  Hispanic       25-34  Cold Symptoms  1/13/2011   \n",
              "2  Matthew Robertson     White       65-74          Other  7/16/2012   \n",
              "3       Isaiah Smith     Black  75 or over          Other  9/23/2010   \n",
              "4     Sandra Ellison     White       35-44          Other   1/6/2009   \n",
              "\n",
              "                           Drug  DrugId  EaseofUse  Effectiveness  \\\n",
              "0                  25dph-7.5peh  146724          5              5   \n",
              "1                  25dph-7.5peh  146724          5              5   \n",
              "2  warfarin (bulk) 100 % powder  144731          2              3   \n",
              "3  warfarin (bulk) 100 % powder  144731          2              2   \n",
              "4  warfarin (bulk) 100 % powder  144731          1              1   \n",
              "\n",
              "                                             Reviews  Satisfaction     Sex  \\\n",
              "0  I'm a retired physician and of all the meds I ...             5    Male   \n",
              "1  cleared me right up even with my throat hurtin...             5  Female   \n",
              "2  why did my PTINR go from a normal of 2.5 to ov...             3  Female   \n",
              "3                       FALLING AND DON'T REALISE IT             1  Female   \n",
              "4  My grandfather was prescribed this medication ...             1    Male   \n",
              "\n",
              "                                               Sides  UsefulCount  \n",
              "0  Drowsiness,  dizziness ,  dry mouth /nose/thro...            0  \n",
              "1  Drowsiness,  dizziness ,  dry mouth /nose/thro...            1  \n",
              "2                                                               0  \n",
              "3                                                               0  \n",
              "4                                                               1  "
            ],
            "text/html": [
              "\n",
              "  <div id=\"df-03ba8965-2f40-4e0b-b0cd-8b0c6ff1b20b\">\n",
              "    <div class=\"colab-df-container\">\n",
              "      <div>\n",
              "<style scoped>\n",
              "    .dataframe tbody tr th:only-of-type {\n",
              "        vertical-align: middle;\n",
              "    }\n",
              "\n",
              "    .dataframe tbody tr th {\n",
              "        vertical-align: top;\n",
              "    }\n",
              "\n",
              "    .dataframe thead th {\n",
              "        text-align: right;\n",
              "    }\n",
              "</style>\n",
              "<table border=\"1\" class=\"dataframe\">\n",
              "  <thead>\n",
              "    <tr style=\"text-align: right;\">\n",
              "      <th></th>\n",
              "      <th>Name</th>\n",
              "      <th>Race</th>\n",
              "      <th>Age</th>\n",
              "      <th>Condition</th>\n",
              "      <th>Date</th>\n",
              "      <th>Drug</th>\n",
              "      <th>DrugId</th>\n",
              "      <th>EaseofUse</th>\n",
              "      <th>Effectiveness</th>\n",
              "      <th>Reviews</th>\n",
              "      <th>Satisfaction</th>\n",
              "      <th>Sex</th>\n",
              "      <th>Sides</th>\n",
              "      <th>UsefulCount</th>\n",
              "    </tr>\n",
              "  </thead>\n",
              "  <tbody>\n",
              "    <tr>\n",
              "      <th>0</th>\n",
              "      <td>Danielle Cannon</td>\n",
              "      <td>Hispanic</td>\n",
              "      <td>75 or over</td>\n",
              "      <td>Stuffy Nose</td>\n",
              "      <td>9/21/2014</td>\n",
              "      <td>25dph-7.5peh</td>\n",
              "      <td>146724</td>\n",
              "      <td>5</td>\n",
              "      <td>5</td>\n",
              "      <td>I'm a retired physician and of all the meds I ...</td>\n",
              "      <td>5</td>\n",
              "      <td>Male</td>\n",
              "      <td>Drowsiness,  dizziness ,  dry mouth /nose/thro...</td>\n",
              "      <td>0</td>\n",
              "    </tr>\n",
              "    <tr>\n",
              "      <th>1</th>\n",
              "      <td>Hunter Logan</td>\n",
              "      <td>Hispanic</td>\n",
              "      <td>25-34</td>\n",
              "      <td>Cold Symptoms</td>\n",
              "      <td>1/13/2011</td>\n",
              "      <td>25dph-7.5peh</td>\n",
              "      <td>146724</td>\n",
              "      <td>5</td>\n",
              "      <td>5</td>\n",
              "      <td>cleared me right up even with my throat hurtin...</td>\n",
              "      <td>5</td>\n",
              "      <td>Female</td>\n",
              "      <td>Drowsiness,  dizziness ,  dry mouth /nose/thro...</td>\n",
              "      <td>1</td>\n",
              "    </tr>\n",
              "    <tr>\n",
              "      <th>2</th>\n",
              "      <td>Matthew Robertson</td>\n",
              "      <td>White</td>\n",
              "      <td>65-74</td>\n",
              "      <td>Other</td>\n",
              "      <td>7/16/2012</td>\n",
              "      <td>warfarin (bulk) 100 % powder</td>\n",
              "      <td>144731</td>\n",
              "      <td>2</td>\n",
              "      <td>3</td>\n",
              "      <td>why did my PTINR go from a normal of 2.5 to ov...</td>\n",
              "      <td>3</td>\n",
              "      <td>Female</td>\n",
              "      <td></td>\n",
              "      <td>0</td>\n",
              "    </tr>\n",
              "    <tr>\n",
              "      <th>3</th>\n",
              "      <td>Isaiah Smith</td>\n",
              "      <td>Black</td>\n",
              "      <td>75 or over</td>\n",
              "      <td>Other</td>\n",
              "      <td>9/23/2010</td>\n",
              "      <td>warfarin (bulk) 100 % powder</td>\n",
              "      <td>144731</td>\n",
              "      <td>2</td>\n",
              "      <td>2</td>\n",
              "      <td>FALLING AND DON'T REALISE IT</td>\n",
              "      <td>1</td>\n",
              "      <td>Female</td>\n",
              "      <td></td>\n",
              "      <td>0</td>\n",
              "    </tr>\n",
              "    <tr>\n",
              "      <th>4</th>\n",
              "      <td>Sandra Ellison</td>\n",
              "      <td>White</td>\n",
              "      <td>35-44</td>\n",
              "      <td>Other</td>\n",
              "      <td>1/6/2009</td>\n",
              "      <td>warfarin (bulk) 100 % powder</td>\n",
              "      <td>144731</td>\n",
              "      <td>1</td>\n",
              "      <td>1</td>\n",
              "      <td>My grandfather was prescribed this medication ...</td>\n",
              "      <td>1</td>\n",
              "      <td>Male</td>\n",
              "      <td></td>\n",
              "      <td>1</td>\n",
              "    </tr>\n",
              "  </tbody>\n",
              "</table>\n",
              "</div>\n",
              "      <button class=\"colab-df-convert\" onclick=\"convertToInteractive('df-03ba8965-2f40-4e0b-b0cd-8b0c6ff1b20b')\"\n",
              "              title=\"Convert this dataframe to an interactive table.\"\n",
              "              style=\"display:none;\">\n",
              "        \n",
              "  <svg xmlns=\"http://www.w3.org/2000/svg\" height=\"24px\"viewBox=\"0 0 24 24\"\n",
              "       width=\"24px\">\n",
              "    <path d=\"M0 0h24v24H0V0z\" fill=\"none\"/>\n",
              "    <path d=\"M18.56 5.44l.94 2.06.94-2.06 2.06-.94-2.06-.94-.94-2.06-.94 2.06-2.06.94zm-11 1L8.5 8.5l.94-2.06 2.06-.94-2.06-.94L8.5 2.5l-.94 2.06-2.06.94zm10 10l.94 2.06.94-2.06 2.06-.94-2.06-.94-.94-2.06-.94 2.06-2.06.94z\"/><path d=\"M17.41 7.96l-1.37-1.37c-.4-.4-.92-.59-1.43-.59-.52 0-1.04.2-1.43.59L10.3 9.45l-7.72 7.72c-.78.78-.78 2.05 0 2.83L4 21.41c.39.39.9.59 1.41.59.51 0 1.02-.2 1.41-.59l7.78-7.78 2.81-2.81c.8-.78.8-2.07 0-2.86zM5.41 20L4 18.59l7.72-7.72 1.47 1.35L5.41 20z\"/>\n",
              "  </svg>\n",
              "      </button>\n",
              "      \n",
              "  <style>\n",
              "    .colab-df-container {\n",
              "      display:flex;\n",
              "      flex-wrap:wrap;\n",
              "      gap: 12px;\n",
              "    }\n",
              "\n",
              "    .colab-df-convert {\n",
              "      background-color: #E8F0FE;\n",
              "      border: none;\n",
              "      border-radius: 50%;\n",
              "      cursor: pointer;\n",
              "      display: none;\n",
              "      fill: #1967D2;\n",
              "      height: 32px;\n",
              "      padding: 0 0 0 0;\n",
              "      width: 32px;\n",
              "    }\n",
              "\n",
              "    .colab-df-convert:hover {\n",
              "      background-color: #E2EBFA;\n",
              "      box-shadow: 0px 1px 2px rgba(60, 64, 67, 0.3), 0px 1px 3px 1px rgba(60, 64, 67, 0.15);\n",
              "      fill: #174EA6;\n",
              "    }\n",
              "\n",
              "    [theme=dark] .colab-df-convert {\n",
              "      background-color: #3B4455;\n",
              "      fill: #D2E3FC;\n",
              "    }\n",
              "\n",
              "    [theme=dark] .colab-df-convert:hover {\n",
              "      background-color: #434B5C;\n",
              "      box-shadow: 0px 1px 3px 1px rgba(0, 0, 0, 0.15);\n",
              "      filter: drop-shadow(0px 1px 2px rgba(0, 0, 0, 0.3));\n",
              "      fill: #FFFFFF;\n",
              "    }\n",
              "  </style>\n",
              "\n",
              "      <script>\n",
              "        const buttonEl =\n",
              "          document.querySelector('#df-03ba8965-2f40-4e0b-b0cd-8b0c6ff1b20b button.colab-df-convert');\n",
              "        buttonEl.style.display =\n",
              "          google.colab.kernel.accessAllowed ? 'block' : 'none';\n",
              "\n",
              "        async function convertToInteractive(key) {\n",
              "          const element = document.querySelector('#df-03ba8965-2f40-4e0b-b0cd-8b0c6ff1b20b');\n",
              "          const dataTable =\n",
              "            await google.colab.kernel.invokeFunction('convertToInteractive',\n",
              "                                                     [key], {});\n",
              "          if (!dataTable) return;\n",
              "\n",
              "          const docLinkHtml = 'Like what you see? Visit the ' +\n",
              "            '<a target=\"_blank\" href=https://colab.research.google.com/notebooks/data_table.ipynb>data table notebook</a>'\n",
              "            + ' to learn more about interactive tables.';\n",
              "          element.innerHTML = '';\n",
              "          dataTable['output_type'] = 'display_data';\n",
              "          await google.colab.output.renderOutput(dataTable, element);\n",
              "          const docLink = document.createElement('div');\n",
              "          docLink.innerHTML = docLinkHtml;\n",
              "          element.appendChild(docLink);\n",
              "        }\n",
              "      </script>\n",
              "    </div>\n",
              "  </div>\n",
              "  "
            ]
          },
          "metadata": {},
          "execution_count": 20
        }
      ]
    },
    {
      "cell_type": "markdown",
      "source": [
        "**To display the last five rows of the dataset**"
      ],
      "metadata": {
        "id": "Qt9hYoSGtB1k"
      }
    },
    {
      "cell_type": "code",
      "source": [
        "data.tail()"
      ],
      "metadata": {
        "colab": {
          "base_uri": "https://localhost:8080/",
          "height": 337
        },
        "id": "UbvzQm7us-vr",
        "outputId": "0df08516-11f3-44a7-dd34-2617918b9264"
      },
      "execution_count": null,
      "outputs": [
        {
          "output_type": "execute_result",
          "data": {
            "text/plain": [
              "                      Name      Race    Age     Condition        Date  \\\n",
              "362801   Stephanie Douglas  Hispanic  55-64  Stop Smoking  11/14/2008   \n",
              "362802         Jesus Burns     Asian                Other  11/14/2008   \n",
              "362803       Dominic Allen     Asian  25-34  Stop Smoking  11/13/2008   \n",
              "362804       Stephen Perez     White  55-64  Stop Smoking  11/13/2008   \n",
              "362805  Patricia Schroeder     Asian  45-54  Stop Smoking  11/12/2008   \n",
              "\n",
              "           Drug  DrugId  EaseofUse  Effectiveness  \\\n",
              "362801  chantix  144470          5              5   \n",
              "362802  chantix  144470          2              3   \n",
              "362803  chantix  144470          2              4   \n",
              "362804  chantix  144470          5              5   \n",
              "362805  chantix  144470          4              5   \n",
              "\n",
              "                                                  Reviews  Satisfaction  \\\n",
              "362801  I took the whole 12 weeks.I could have stopped...             5   \n",
              "362802  My dad strated taking Chantix about 1 month ag...             1   \n",
              "362803  As long as I was on chantix, I didn't smoke.  ...             2   \n",
              "362804  Started this medication Oct 5th 2008. Haven't ...             5   \n",
              "362805  One year ago, I tried Chantix and had to stop ...             5   \n",
              "\n",
              "           Sex                                              Sides  UsefulCount  \n",
              "362801  Female  Nausea ,  headache ,  vomiting , drowsiness, g...            2  \n",
              "362802          Nausea ,  headache ,  vomiting , drowsiness, g...           16  \n",
              "362803  Female  Nausea ,  headache ,  vomiting , drowsiness, g...            3  \n",
              "362804    Male  Nausea ,  headache ,  vomiting , drowsiness, g...            1  \n",
              "362805  Female  Nausea ,  headache ,  vomiting , drowsiness, g...            3  "
            ],
            "text/html": [
              "\n",
              "  <div id=\"df-8ef0c018-6113-4e99-8c60-43c5a62dda0a\">\n",
              "    <div class=\"colab-df-container\">\n",
              "      <div>\n",
              "<style scoped>\n",
              "    .dataframe tbody tr th:only-of-type {\n",
              "        vertical-align: middle;\n",
              "    }\n",
              "\n",
              "    .dataframe tbody tr th {\n",
              "        vertical-align: top;\n",
              "    }\n",
              "\n",
              "    .dataframe thead th {\n",
              "        text-align: right;\n",
              "    }\n",
              "</style>\n",
              "<table border=\"1\" class=\"dataframe\">\n",
              "  <thead>\n",
              "    <tr style=\"text-align: right;\">\n",
              "      <th></th>\n",
              "      <th>Name</th>\n",
              "      <th>Race</th>\n",
              "      <th>Age</th>\n",
              "      <th>Condition</th>\n",
              "      <th>Date</th>\n",
              "      <th>Drug</th>\n",
              "      <th>DrugId</th>\n",
              "      <th>EaseofUse</th>\n",
              "      <th>Effectiveness</th>\n",
              "      <th>Reviews</th>\n",
              "      <th>Satisfaction</th>\n",
              "      <th>Sex</th>\n",
              "      <th>Sides</th>\n",
              "      <th>UsefulCount</th>\n",
              "    </tr>\n",
              "  </thead>\n",
              "  <tbody>\n",
              "    <tr>\n",
              "      <th>362801</th>\n",
              "      <td>Stephanie Douglas</td>\n",
              "      <td>Hispanic</td>\n",
              "      <td>55-64</td>\n",
              "      <td>Stop Smoking</td>\n",
              "      <td>11/14/2008</td>\n",
              "      <td>chantix</td>\n",
              "      <td>144470</td>\n",
              "      <td>5</td>\n",
              "      <td>5</td>\n",
              "      <td>I took the whole 12 weeks.I could have stopped...</td>\n",
              "      <td>5</td>\n",
              "      <td>Female</td>\n",
              "      <td>Nausea ,  headache ,  vomiting , drowsiness, g...</td>\n",
              "      <td>2</td>\n",
              "    </tr>\n",
              "    <tr>\n",
              "      <th>362802</th>\n",
              "      <td>Jesus Burns</td>\n",
              "      <td>Asian</td>\n",
              "      <td></td>\n",
              "      <td>Other</td>\n",
              "      <td>11/14/2008</td>\n",
              "      <td>chantix</td>\n",
              "      <td>144470</td>\n",
              "      <td>2</td>\n",
              "      <td>3</td>\n",
              "      <td>My dad strated taking Chantix about 1 month ag...</td>\n",
              "      <td>1</td>\n",
              "      <td></td>\n",
              "      <td>Nausea ,  headache ,  vomiting , drowsiness, g...</td>\n",
              "      <td>16</td>\n",
              "    </tr>\n",
              "    <tr>\n",
              "      <th>362803</th>\n",
              "      <td>Dominic Allen</td>\n",
              "      <td>Asian</td>\n",
              "      <td>25-34</td>\n",
              "      <td>Stop Smoking</td>\n",
              "      <td>11/13/2008</td>\n",
              "      <td>chantix</td>\n",
              "      <td>144470</td>\n",
              "      <td>2</td>\n",
              "      <td>4</td>\n",
              "      <td>As long as I was on chantix, I didn't smoke.  ...</td>\n",
              "      <td>2</td>\n",
              "      <td>Female</td>\n",
              "      <td>Nausea ,  headache ,  vomiting , drowsiness, g...</td>\n",
              "      <td>3</td>\n",
              "    </tr>\n",
              "    <tr>\n",
              "      <th>362804</th>\n",
              "      <td>Stephen Perez</td>\n",
              "      <td>White</td>\n",
              "      <td>55-64</td>\n",
              "      <td>Stop Smoking</td>\n",
              "      <td>11/13/2008</td>\n",
              "      <td>chantix</td>\n",
              "      <td>144470</td>\n",
              "      <td>5</td>\n",
              "      <td>5</td>\n",
              "      <td>Started this medication Oct 5th 2008. Haven't ...</td>\n",
              "      <td>5</td>\n",
              "      <td>Male</td>\n",
              "      <td>Nausea ,  headache ,  vomiting , drowsiness, g...</td>\n",
              "      <td>1</td>\n",
              "    </tr>\n",
              "    <tr>\n",
              "      <th>362805</th>\n",
              "      <td>Patricia Schroeder</td>\n",
              "      <td>Asian</td>\n",
              "      <td>45-54</td>\n",
              "      <td>Stop Smoking</td>\n",
              "      <td>11/12/2008</td>\n",
              "      <td>chantix</td>\n",
              "      <td>144470</td>\n",
              "      <td>4</td>\n",
              "      <td>5</td>\n",
              "      <td>One year ago, I tried Chantix and had to stop ...</td>\n",
              "      <td>5</td>\n",
              "      <td>Female</td>\n",
              "      <td>Nausea ,  headache ,  vomiting , drowsiness, g...</td>\n",
              "      <td>3</td>\n",
              "    </tr>\n",
              "  </tbody>\n",
              "</table>\n",
              "</div>\n",
              "      <button class=\"colab-df-convert\" onclick=\"convertToInteractive('df-8ef0c018-6113-4e99-8c60-43c5a62dda0a')\"\n",
              "              title=\"Convert this dataframe to an interactive table.\"\n",
              "              style=\"display:none;\">\n",
              "        \n",
              "  <svg xmlns=\"http://www.w3.org/2000/svg\" height=\"24px\"viewBox=\"0 0 24 24\"\n",
              "       width=\"24px\">\n",
              "    <path d=\"M0 0h24v24H0V0z\" fill=\"none\"/>\n",
              "    <path d=\"M18.56 5.44l.94 2.06.94-2.06 2.06-.94-2.06-.94-.94-2.06-.94 2.06-2.06.94zm-11 1L8.5 8.5l.94-2.06 2.06-.94-2.06-.94L8.5 2.5l-.94 2.06-2.06.94zm10 10l.94 2.06.94-2.06 2.06-.94-2.06-.94-.94-2.06-.94 2.06-2.06.94z\"/><path d=\"M17.41 7.96l-1.37-1.37c-.4-.4-.92-.59-1.43-.59-.52 0-1.04.2-1.43.59L10.3 9.45l-7.72 7.72c-.78.78-.78 2.05 0 2.83L4 21.41c.39.39.9.59 1.41.59.51 0 1.02-.2 1.41-.59l7.78-7.78 2.81-2.81c.8-.78.8-2.07 0-2.86zM5.41 20L4 18.59l7.72-7.72 1.47 1.35L5.41 20z\"/>\n",
              "  </svg>\n",
              "      </button>\n",
              "      \n",
              "  <style>\n",
              "    .colab-df-container {\n",
              "      display:flex;\n",
              "      flex-wrap:wrap;\n",
              "      gap: 12px;\n",
              "    }\n",
              "\n",
              "    .colab-df-convert {\n",
              "      background-color: #E8F0FE;\n",
              "      border: none;\n",
              "      border-radius: 50%;\n",
              "      cursor: pointer;\n",
              "      display: none;\n",
              "      fill: #1967D2;\n",
              "      height: 32px;\n",
              "      padding: 0 0 0 0;\n",
              "      width: 32px;\n",
              "    }\n",
              "\n",
              "    .colab-df-convert:hover {\n",
              "      background-color: #E2EBFA;\n",
              "      box-shadow: 0px 1px 2px rgba(60, 64, 67, 0.3), 0px 1px 3px 1px rgba(60, 64, 67, 0.15);\n",
              "      fill: #174EA6;\n",
              "    }\n",
              "\n",
              "    [theme=dark] .colab-df-convert {\n",
              "      background-color: #3B4455;\n",
              "      fill: #D2E3FC;\n",
              "    }\n",
              "\n",
              "    [theme=dark] .colab-df-convert:hover {\n",
              "      background-color: #434B5C;\n",
              "      box-shadow: 0px 1px 3px 1px rgba(0, 0, 0, 0.15);\n",
              "      filter: drop-shadow(0px 1px 2px rgba(0, 0, 0, 0.3));\n",
              "      fill: #FFFFFF;\n",
              "    }\n",
              "  </style>\n",
              "\n",
              "      <script>\n",
              "        const buttonEl =\n",
              "          document.querySelector('#df-8ef0c018-6113-4e99-8c60-43c5a62dda0a button.colab-df-convert');\n",
              "        buttonEl.style.display =\n",
              "          google.colab.kernel.accessAllowed ? 'block' : 'none';\n",
              "\n",
              "        async function convertToInteractive(key) {\n",
              "          const element = document.querySelector('#df-8ef0c018-6113-4e99-8c60-43c5a62dda0a');\n",
              "          const dataTable =\n",
              "            await google.colab.kernel.invokeFunction('convertToInteractive',\n",
              "                                                     [key], {});\n",
              "          if (!dataTable) return;\n",
              "\n",
              "          const docLinkHtml = 'Like what you see? Visit the ' +\n",
              "            '<a target=\"_blank\" href=https://colab.research.google.com/notebooks/data_table.ipynb>data table notebook</a>'\n",
              "            + ' to learn more about interactive tables.';\n",
              "          element.innerHTML = '';\n",
              "          dataTable['output_type'] = 'display_data';\n",
              "          await google.colab.output.renderOutput(dataTable, element);\n",
              "          const docLink = document.createElement('div');\n",
              "          docLink.innerHTML = docLinkHtml;\n",
              "          element.appendChild(docLink);\n",
              "        }\n",
              "      </script>\n",
              "    </div>\n",
              "  </div>\n",
              "  "
            ]
          },
          "metadata": {},
          "execution_count": 21
        }
      ]
    },
    {
      "cell_type": "markdown",
      "source": [
        "**To display more information**"
      ],
      "metadata": {
        "id": "8c8Ur7W8tL1N"
      }
    },
    {
      "cell_type": "code",
      "source": [
        "data.info()"
      ],
      "metadata": {
        "colab": {
          "base_uri": "https://localhost:8080/"
        },
        "id": "5aep7GaftHBr",
        "outputId": "e18b91c8-80e6-4cf3-bc0f-973b1e21b4aa"
      },
      "execution_count": null,
      "outputs": [
        {
          "output_type": "stream",
          "name": "stdout",
          "text": [
            "<class 'pandas.core.frame.DataFrame'>\n",
            "RangeIndex: 362806 entries, 0 to 362805\n",
            "Data columns (total 14 columns):\n",
            " #   Column         Non-Null Count   Dtype \n",
            "---  ------         --------------   ----- \n",
            " 0   Name           362806 non-null  object\n",
            " 1   Race           362806 non-null  object\n",
            " 2   Age            362806 non-null  object\n",
            " 3   Condition      362806 non-null  object\n",
            " 4   Date           362806 non-null  object\n",
            " 5   Drug           362806 non-null  object\n",
            " 6   DrugId         362806 non-null  int64 \n",
            " 7   EaseofUse      362806 non-null  int64 \n",
            " 8   Effectiveness  362806 non-null  int64 \n",
            " 9   Reviews        362769 non-null  object\n",
            " 10  Satisfaction   362806 non-null  int64 \n",
            " 11  Sex            362806 non-null  object\n",
            " 12  Sides          362806 non-null  object\n",
            " 13  UsefulCount    362806 non-null  int64 \n",
            "dtypes: int64(5), object(9)\n",
            "memory usage: 38.8+ MB\n"
          ]
        }
      ]
    },
    {
      "cell_type": "markdown",
      "source": [
        "**Insight:**\n",
        "\n",
        "The info() method will give summary of the dataset. We can know the basic information about the dataset including the type of columns, non-null values and memory usage. This dataset contains 9 categorical variables and 5 integer variables."
      ],
      "metadata": {
        "id": "8TF5sBfTtSp1"
      }
    },
    {
      "cell_type": "code",
      "source": [
        "data.shape"
      ],
      "metadata": {
        "colab": {
          "base_uri": "https://localhost:8080/"
        },
        "id": "0LKaI1oXtbZA",
        "outputId": "7f0c5b4b-8d0b-4e34-ce7b-00f66b4864c2"
      },
      "execution_count": null,
      "outputs": [
        {
          "output_type": "execute_result",
          "data": {
            "text/plain": [
              "(362806, 14)"
            ]
          },
          "metadata": {},
          "execution_count": 23
        }
      ]
    },
    {
      "cell_type": "markdown",
      "source": [
        "**Insight:**\n",
        "\n",
        "The dataset contains 362806 rows and 14 columns."
      ],
      "metadata": {
        "id": "uesTCJTAtYLX"
      }
    },
    {
      "cell_type": "markdown",
      "source": [
        "**Checking for any NULL values**"
      ],
      "metadata": {
        "id": "6F94b9s6tkK0"
      }
    },
    {
      "cell_type": "code",
      "source": [
        "data.isnull().any()"
      ],
      "metadata": {
        "colab": {
          "base_uri": "https://localhost:8080/"
        },
        "id": "5nlNdvOStPgW",
        "outputId": "102223ea-f018-430f-9104-949dbff871b5"
      },
      "execution_count": null,
      "outputs": [
        {
          "output_type": "execute_result",
          "data": {
            "text/plain": [
              "Name             False\n",
              "Race             False\n",
              "Age              False\n",
              "Condition        False\n",
              "Date             False\n",
              "Drug             False\n",
              "DrugId           False\n",
              "EaseofUse        False\n",
              "Effectiveness    False\n",
              "Reviews           True\n",
              "Satisfaction     False\n",
              "Sex              False\n",
              "Sides            False\n",
              "UsefulCount      False\n",
              "dtype: bool"
            ]
          },
          "metadata": {},
          "execution_count": 24
        }
      ]
    },
    {
      "cell_type": "markdown",
      "source": [
        "**Insight :**\n",
        "'Reviews' has missing values."
      ],
      "metadata": {
        "id": "hyo99YituUcA"
      }
    },
    {
      "cell_type": "code",
      "source": [
        "data.isna().sum()"
      ],
      "metadata": {
        "colab": {
          "base_uri": "https://localhost:8080/"
        },
        "id": "AaUH2jQVuRpT",
        "outputId": "2f4b7415-d3d0-45ae-c485-325fef804b42"
      },
      "execution_count": null,
      "outputs": [
        {
          "output_type": "execute_result",
          "data": {
            "text/plain": [
              "Name              0\n",
              "Race              0\n",
              "Age               0\n",
              "Condition         0\n",
              "Date              0\n",
              "Drug              0\n",
              "DrugId            0\n",
              "EaseofUse         0\n",
              "Effectiveness     0\n",
              "Reviews          37\n",
              "Satisfaction      0\n",
              "Sex               0\n",
              "Sides             0\n",
              "UsefulCount       0\n",
              "dtype: int64"
            ]
          },
          "metadata": {},
          "execution_count": 25
        }
      ]
    },
    {
      "cell_type": "markdown",
      "source": [
        "**Insight:**\n",
        "'Reviews' column has 37 missing values."
      ],
      "metadata": {
        "id": "muL-1djVudnJ"
      }
    },
    {
      "cell_type": "markdown",
      "source": [
        "**Datatypes of columns:**"
      ],
      "metadata": {
        "id": "64CChR1ruldg"
      }
    },
    {
      "cell_type": "code",
      "source": [
        "data.dtypes"
      ],
      "metadata": {
        "colab": {
          "base_uri": "https://localhost:8080/"
        },
        "id": "Bo1qq41Uuc-b",
        "outputId": "0cbf69de-7062-4cf5-b411-f5dc5f355593"
      },
      "execution_count": null,
      "outputs": [
        {
          "output_type": "execute_result",
          "data": {
            "text/plain": [
              "Name             object\n",
              "Race             object\n",
              "Age              object\n",
              "Condition        object\n",
              "Date             object\n",
              "Drug             object\n",
              "DrugId            int64\n",
              "EaseofUse         int64\n",
              "Effectiveness     int64\n",
              "Reviews          object\n",
              "Satisfaction      int64\n",
              "Sex              object\n",
              "Sides            object\n",
              "UsefulCount       int64\n",
              "dtype: object"
            ]
          },
          "metadata": {},
          "execution_count": 26
        }
      ]
    },
    {
      "cell_type": "markdown",
      "source": [
        "**Insight:**\n",
        "The dataset contains five integer datatype fields and nine object datatype fields."
      ],
      "metadata": {
        "id": "Ic2EArJ3uxez"
      }
    },
    {
      "cell_type": "markdown",
      "source": [
        "**Descriptive statistics**"
      ],
      "metadata": {
        "id": "nq0rtp9Fu0iX"
      }
    },
    {
      "cell_type": "code",
      "source": [
        "data.describe()"
      ],
      "metadata": {
        "colab": {
          "base_uri": "https://localhost:8080/",
          "height": 300
        },
        "id": "csO43UkQutn3",
        "outputId": "4c48a83a-42b1-4dce-eb93-a1ccc1de08df"
      },
      "execution_count": null,
      "outputs": [
        {
          "output_type": "execute_result",
          "data": {
            "text/plain": [
              "              DrugId      EaseofUse  Effectiveness   Satisfaction  \\\n",
              "count  362806.000000  362806.000000  362806.000000  362806.000000   \n",
              "mean    36879.370774       4.019829       3.532061       3.135408   \n",
              "std     52624.412971       1.317711       1.455961       1.611106   \n",
              "min         1.000000       1.000000       1.000000       1.000000   \n",
              "25%      4896.000000       3.000000       3.000000       1.000000   \n",
              "50%      9548.000000       5.000000       4.000000       3.000000   \n",
              "75%     63522.000000       5.000000       5.000000       5.000000   \n",
              "max    178546.000000      10.000000      10.000000      10.000000   \n",
              "\n",
              "         UsefulCount  \n",
              "count  362806.000000  \n",
              "mean        6.744916  \n",
              "std         9.324240  \n",
              "min         0.000000  \n",
              "25%         1.000000  \n",
              "50%         4.000000  \n",
              "75%         9.000000  \n",
              "max       255.000000  "
            ],
            "text/html": [
              "\n",
              "  <div id=\"df-2511401c-eee7-4d58-850c-989683f02e59\">\n",
              "    <div class=\"colab-df-container\">\n",
              "      <div>\n",
              "<style scoped>\n",
              "    .dataframe tbody tr th:only-of-type {\n",
              "        vertical-align: middle;\n",
              "    }\n",
              "\n",
              "    .dataframe tbody tr th {\n",
              "        vertical-align: top;\n",
              "    }\n",
              "\n",
              "    .dataframe thead th {\n",
              "        text-align: right;\n",
              "    }\n",
              "</style>\n",
              "<table border=\"1\" class=\"dataframe\">\n",
              "  <thead>\n",
              "    <tr style=\"text-align: right;\">\n",
              "      <th></th>\n",
              "      <th>DrugId</th>\n",
              "      <th>EaseofUse</th>\n",
              "      <th>Effectiveness</th>\n",
              "      <th>Satisfaction</th>\n",
              "      <th>UsefulCount</th>\n",
              "    </tr>\n",
              "  </thead>\n",
              "  <tbody>\n",
              "    <tr>\n",
              "      <th>count</th>\n",
              "      <td>362806.000000</td>\n",
              "      <td>362806.000000</td>\n",
              "      <td>362806.000000</td>\n",
              "      <td>362806.000000</td>\n",
              "      <td>362806.000000</td>\n",
              "    </tr>\n",
              "    <tr>\n",
              "      <th>mean</th>\n",
              "      <td>36879.370774</td>\n",
              "      <td>4.019829</td>\n",
              "      <td>3.532061</td>\n",
              "      <td>3.135408</td>\n",
              "      <td>6.744916</td>\n",
              "    </tr>\n",
              "    <tr>\n",
              "      <th>std</th>\n",
              "      <td>52624.412971</td>\n",
              "      <td>1.317711</td>\n",
              "      <td>1.455961</td>\n",
              "      <td>1.611106</td>\n",
              "      <td>9.324240</td>\n",
              "    </tr>\n",
              "    <tr>\n",
              "      <th>min</th>\n",
              "      <td>1.000000</td>\n",
              "      <td>1.000000</td>\n",
              "      <td>1.000000</td>\n",
              "      <td>1.000000</td>\n",
              "      <td>0.000000</td>\n",
              "    </tr>\n",
              "    <tr>\n",
              "      <th>25%</th>\n",
              "      <td>4896.000000</td>\n",
              "      <td>3.000000</td>\n",
              "      <td>3.000000</td>\n",
              "      <td>1.000000</td>\n",
              "      <td>1.000000</td>\n",
              "    </tr>\n",
              "    <tr>\n",
              "      <th>50%</th>\n",
              "      <td>9548.000000</td>\n",
              "      <td>5.000000</td>\n",
              "      <td>4.000000</td>\n",
              "      <td>3.000000</td>\n",
              "      <td>4.000000</td>\n",
              "    </tr>\n",
              "    <tr>\n",
              "      <th>75%</th>\n",
              "      <td>63522.000000</td>\n",
              "      <td>5.000000</td>\n",
              "      <td>5.000000</td>\n",
              "      <td>5.000000</td>\n",
              "      <td>9.000000</td>\n",
              "    </tr>\n",
              "    <tr>\n",
              "      <th>max</th>\n",
              "      <td>178546.000000</td>\n",
              "      <td>10.000000</td>\n",
              "      <td>10.000000</td>\n",
              "      <td>10.000000</td>\n",
              "      <td>255.000000</td>\n",
              "    </tr>\n",
              "  </tbody>\n",
              "</table>\n",
              "</div>\n",
              "      <button class=\"colab-df-convert\" onclick=\"convertToInteractive('df-2511401c-eee7-4d58-850c-989683f02e59')\"\n",
              "              title=\"Convert this dataframe to an interactive table.\"\n",
              "              style=\"display:none;\">\n",
              "        \n",
              "  <svg xmlns=\"http://www.w3.org/2000/svg\" height=\"24px\"viewBox=\"0 0 24 24\"\n",
              "       width=\"24px\">\n",
              "    <path d=\"M0 0h24v24H0V0z\" fill=\"none\"/>\n",
              "    <path d=\"M18.56 5.44l.94 2.06.94-2.06 2.06-.94-2.06-.94-.94-2.06-.94 2.06-2.06.94zm-11 1L8.5 8.5l.94-2.06 2.06-.94-2.06-.94L8.5 2.5l-.94 2.06-2.06.94zm10 10l.94 2.06.94-2.06 2.06-.94-2.06-.94-.94-2.06-.94 2.06-2.06.94z\"/><path d=\"M17.41 7.96l-1.37-1.37c-.4-.4-.92-.59-1.43-.59-.52 0-1.04.2-1.43.59L10.3 9.45l-7.72 7.72c-.78.78-.78 2.05 0 2.83L4 21.41c.39.39.9.59 1.41.59.51 0 1.02-.2 1.41-.59l7.78-7.78 2.81-2.81c.8-.78.8-2.07 0-2.86zM5.41 20L4 18.59l7.72-7.72 1.47 1.35L5.41 20z\"/>\n",
              "  </svg>\n",
              "      </button>\n",
              "      \n",
              "  <style>\n",
              "    .colab-df-container {\n",
              "      display:flex;\n",
              "      flex-wrap:wrap;\n",
              "      gap: 12px;\n",
              "    }\n",
              "\n",
              "    .colab-df-convert {\n",
              "      background-color: #E8F0FE;\n",
              "      border: none;\n",
              "      border-radius: 50%;\n",
              "      cursor: pointer;\n",
              "      display: none;\n",
              "      fill: #1967D2;\n",
              "      height: 32px;\n",
              "      padding: 0 0 0 0;\n",
              "      width: 32px;\n",
              "    }\n",
              "\n",
              "    .colab-df-convert:hover {\n",
              "      background-color: #E2EBFA;\n",
              "      box-shadow: 0px 1px 2px rgba(60, 64, 67, 0.3), 0px 1px 3px 1px rgba(60, 64, 67, 0.15);\n",
              "      fill: #174EA6;\n",
              "    }\n",
              "\n",
              "    [theme=dark] .colab-df-convert {\n",
              "      background-color: #3B4455;\n",
              "      fill: #D2E3FC;\n",
              "    }\n",
              "\n",
              "    [theme=dark] .colab-df-convert:hover {\n",
              "      background-color: #434B5C;\n",
              "      box-shadow: 0px 1px 3px 1px rgba(0, 0, 0, 0.15);\n",
              "      filter: drop-shadow(0px 1px 2px rgba(0, 0, 0, 0.3));\n",
              "      fill: #FFFFFF;\n",
              "    }\n",
              "  </style>\n",
              "\n",
              "      <script>\n",
              "        const buttonEl =\n",
              "          document.querySelector('#df-2511401c-eee7-4d58-850c-989683f02e59 button.colab-df-convert');\n",
              "        buttonEl.style.display =\n",
              "          google.colab.kernel.accessAllowed ? 'block' : 'none';\n",
              "\n",
              "        async function convertToInteractive(key) {\n",
              "          const element = document.querySelector('#df-2511401c-eee7-4d58-850c-989683f02e59');\n",
              "          const dataTable =\n",
              "            await google.colab.kernel.invokeFunction('convertToInteractive',\n",
              "                                                     [key], {});\n",
              "          if (!dataTable) return;\n",
              "\n",
              "          const docLinkHtml = 'Like what you see? Visit the ' +\n",
              "            '<a target=\"_blank\" href=https://colab.research.google.com/notebooks/data_table.ipynb>data table notebook</a>'\n",
              "            + ' to learn more about interactive tables.';\n",
              "          element.innerHTML = '';\n",
              "          dataTable['output_type'] = 'display_data';\n",
              "          await google.colab.output.renderOutput(dataTable, element);\n",
              "          const docLink = document.createElement('div');\n",
              "          docLink.innerHTML = docLinkHtml;\n",
              "          element.appendChild(docLink);\n",
              "        }\n",
              "      </script>\n",
              "    </div>\n",
              "  </div>\n",
              "  "
            ]
          },
          "metadata": {},
          "execution_count": 27
        }
      ]
    },
    {
      "cell_type": "markdown",
      "source": [],
      "metadata": {
        "id": "oOnvG2-ivB24"
      }
    },
    {
      "cell_type": "markdown",
      "source": [
        "**Insight:**\n",
        "Displays the summary statistics such as count, mean, standard deviation, minimum and maximum value, first, second and third quartile values."
      ],
      "metadata": {
        "id": "Qoc19zTfvCCN"
      }
    },
    {
      "cell_type": "code",
      "source": [
        "data.describe().T"
      ],
      "metadata": {
        "colab": {
          "base_uri": "https://localhost:8080/",
          "height": 206
        },
        "id": "PUc12wZou-hH",
        "outputId": "970f6321-e311-459d-dd38-6180b53d17fc"
      },
      "execution_count": null,
      "outputs": [
        {
          "output_type": "execute_result",
          "data": {
            "text/plain": [
              "                  count          mean           std  min     25%     50%  \\\n",
              "DrugId         362806.0  36879.370774  52624.412971  1.0  4896.0  9548.0   \n",
              "EaseofUse      362806.0      4.019829      1.317711  1.0     3.0     5.0   \n",
              "Effectiveness  362806.0      3.532061      1.455961  1.0     3.0     4.0   \n",
              "Satisfaction   362806.0      3.135408      1.611106  1.0     1.0     3.0   \n",
              "UsefulCount    362806.0      6.744916      9.324240  0.0     1.0     4.0   \n",
              "\n",
              "                   75%       max  \n",
              "DrugId         63522.0  178546.0  \n",
              "EaseofUse          5.0      10.0  \n",
              "Effectiveness      5.0      10.0  \n",
              "Satisfaction       5.0      10.0  \n",
              "UsefulCount        9.0     255.0  "
            ],
            "text/html": [
              "\n",
              "  <div id=\"df-25ba8778-1a95-4a53-9cb6-80b97e29cc47\">\n",
              "    <div class=\"colab-df-container\">\n",
              "      <div>\n",
              "<style scoped>\n",
              "    .dataframe tbody tr th:only-of-type {\n",
              "        vertical-align: middle;\n",
              "    }\n",
              "\n",
              "    .dataframe tbody tr th {\n",
              "        vertical-align: top;\n",
              "    }\n",
              "\n",
              "    .dataframe thead th {\n",
              "        text-align: right;\n",
              "    }\n",
              "</style>\n",
              "<table border=\"1\" class=\"dataframe\">\n",
              "  <thead>\n",
              "    <tr style=\"text-align: right;\">\n",
              "      <th></th>\n",
              "      <th>count</th>\n",
              "      <th>mean</th>\n",
              "      <th>std</th>\n",
              "      <th>min</th>\n",
              "      <th>25%</th>\n",
              "      <th>50%</th>\n",
              "      <th>75%</th>\n",
              "      <th>max</th>\n",
              "    </tr>\n",
              "  </thead>\n",
              "  <tbody>\n",
              "    <tr>\n",
              "      <th>DrugId</th>\n",
              "      <td>362806.0</td>\n",
              "      <td>36879.370774</td>\n",
              "      <td>52624.412971</td>\n",
              "      <td>1.0</td>\n",
              "      <td>4896.0</td>\n",
              "      <td>9548.0</td>\n",
              "      <td>63522.0</td>\n",
              "      <td>178546.0</td>\n",
              "    </tr>\n",
              "    <tr>\n",
              "      <th>EaseofUse</th>\n",
              "      <td>362806.0</td>\n",
              "      <td>4.019829</td>\n",
              "      <td>1.317711</td>\n",
              "      <td>1.0</td>\n",
              "      <td>3.0</td>\n",
              "      <td>5.0</td>\n",
              "      <td>5.0</td>\n",
              "      <td>10.0</td>\n",
              "    </tr>\n",
              "    <tr>\n",
              "      <th>Effectiveness</th>\n",
              "      <td>362806.0</td>\n",
              "      <td>3.532061</td>\n",
              "      <td>1.455961</td>\n",
              "      <td>1.0</td>\n",
              "      <td>3.0</td>\n",
              "      <td>4.0</td>\n",
              "      <td>5.0</td>\n",
              "      <td>10.0</td>\n",
              "    </tr>\n",
              "    <tr>\n",
              "      <th>Satisfaction</th>\n",
              "      <td>362806.0</td>\n",
              "      <td>3.135408</td>\n",
              "      <td>1.611106</td>\n",
              "      <td>1.0</td>\n",
              "      <td>1.0</td>\n",
              "      <td>3.0</td>\n",
              "      <td>5.0</td>\n",
              "      <td>10.0</td>\n",
              "    </tr>\n",
              "    <tr>\n",
              "      <th>UsefulCount</th>\n",
              "      <td>362806.0</td>\n",
              "      <td>6.744916</td>\n",
              "      <td>9.324240</td>\n",
              "      <td>0.0</td>\n",
              "      <td>1.0</td>\n",
              "      <td>4.0</td>\n",
              "      <td>9.0</td>\n",
              "      <td>255.0</td>\n",
              "    </tr>\n",
              "  </tbody>\n",
              "</table>\n",
              "</div>\n",
              "      <button class=\"colab-df-convert\" onclick=\"convertToInteractive('df-25ba8778-1a95-4a53-9cb6-80b97e29cc47')\"\n",
              "              title=\"Convert this dataframe to an interactive table.\"\n",
              "              style=\"display:none;\">\n",
              "        \n",
              "  <svg xmlns=\"http://www.w3.org/2000/svg\" height=\"24px\"viewBox=\"0 0 24 24\"\n",
              "       width=\"24px\">\n",
              "    <path d=\"M0 0h24v24H0V0z\" fill=\"none\"/>\n",
              "    <path d=\"M18.56 5.44l.94 2.06.94-2.06 2.06-.94-2.06-.94-.94-2.06-.94 2.06-2.06.94zm-11 1L8.5 8.5l.94-2.06 2.06-.94-2.06-.94L8.5 2.5l-.94 2.06-2.06.94zm10 10l.94 2.06.94-2.06 2.06-.94-2.06-.94-.94-2.06-.94 2.06-2.06.94z\"/><path d=\"M17.41 7.96l-1.37-1.37c-.4-.4-.92-.59-1.43-.59-.52 0-1.04.2-1.43.59L10.3 9.45l-7.72 7.72c-.78.78-.78 2.05 0 2.83L4 21.41c.39.39.9.59 1.41.59.51 0 1.02-.2 1.41-.59l7.78-7.78 2.81-2.81c.8-.78.8-2.07 0-2.86zM5.41 20L4 18.59l7.72-7.72 1.47 1.35L5.41 20z\"/>\n",
              "  </svg>\n",
              "      </button>\n",
              "      \n",
              "  <style>\n",
              "    .colab-df-container {\n",
              "      display:flex;\n",
              "      flex-wrap:wrap;\n",
              "      gap: 12px;\n",
              "    }\n",
              "\n",
              "    .colab-df-convert {\n",
              "      background-color: #E8F0FE;\n",
              "      border: none;\n",
              "      border-radius: 50%;\n",
              "      cursor: pointer;\n",
              "      display: none;\n",
              "      fill: #1967D2;\n",
              "      height: 32px;\n",
              "      padding: 0 0 0 0;\n",
              "      width: 32px;\n",
              "    }\n",
              "\n",
              "    .colab-df-convert:hover {\n",
              "      background-color: #E2EBFA;\n",
              "      box-shadow: 0px 1px 2px rgba(60, 64, 67, 0.3), 0px 1px 3px 1px rgba(60, 64, 67, 0.15);\n",
              "      fill: #174EA6;\n",
              "    }\n",
              "\n",
              "    [theme=dark] .colab-df-convert {\n",
              "      background-color: #3B4455;\n",
              "      fill: #D2E3FC;\n",
              "    }\n",
              "\n",
              "    [theme=dark] .colab-df-convert:hover {\n",
              "      background-color: #434B5C;\n",
              "      box-shadow: 0px 1px 3px 1px rgba(0, 0, 0, 0.15);\n",
              "      filter: drop-shadow(0px 1px 2px rgba(0, 0, 0, 0.3));\n",
              "      fill: #FFFFFF;\n",
              "    }\n",
              "  </style>\n",
              "\n",
              "      <script>\n",
              "        const buttonEl =\n",
              "          document.querySelector('#df-25ba8778-1a95-4a53-9cb6-80b97e29cc47 button.colab-df-convert');\n",
              "        buttonEl.style.display =\n",
              "          google.colab.kernel.accessAllowed ? 'block' : 'none';\n",
              "\n",
              "        async function convertToInteractive(key) {\n",
              "          const element = document.querySelector('#df-25ba8778-1a95-4a53-9cb6-80b97e29cc47');\n",
              "          const dataTable =\n",
              "            await google.colab.kernel.invokeFunction('convertToInteractive',\n",
              "                                                     [key], {});\n",
              "          if (!dataTable) return;\n",
              "\n",
              "          const docLinkHtml = 'Like what you see? Visit the ' +\n",
              "            '<a target=\"_blank\" href=https://colab.research.google.com/notebooks/data_table.ipynb>data table notebook</a>'\n",
              "            + ' to learn more about interactive tables.';\n",
              "          element.innerHTML = '';\n",
              "          dataTable['output_type'] = 'display_data';\n",
              "          await google.colab.output.renderOutput(dataTable, element);\n",
              "          const docLink = document.createElement('div');\n",
              "          docLink.innerHTML = docLinkHtml;\n",
              "          element.appendChild(docLink);\n",
              "        }\n",
              "      </script>\n",
              "    </div>\n",
              "  </div>\n",
              "  "
            ]
          },
          "metadata": {},
          "execution_count": 28
        }
      ]
    },
    {
      "cell_type": "markdown",
      "source": [
        "**Insight:**\n",
        "EaseofUse, Effectiveness and Satisfaction ranges from 1 to 10. UsefulCount varies from 0 to 255."
      ],
      "metadata": {
        "id": "tYTTeXKhvJrf"
      }
    },
    {
      "cell_type": "markdown",
      "source": [
        "**Summary statistics - object datatype**"
      ],
      "metadata": {
        "id": "acjh70TmvPOe"
      }
    },
    {
      "cell_type": "code",
      "source": [
        "data.describe(include='object').T"
      ],
      "metadata": {
        "colab": {
          "base_uri": "https://localhost:8080/",
          "height": 331
        },
        "id": "8Xv6gHM2vGwU",
        "outputId": "98b2949f-0786-4ff3-83e1-e6ac7a049a7f"
      },
      "execution_count": null,
      "outputs": [
        {
          "output_type": "execute_result",
          "data": {
            "text/plain": [
              "            count  unique            top    freq\n",
              "Name       362806  180949  Michael Smith     167\n",
              "Race       362806       4          White  115926\n",
              "Age        362806      12          45-54   80043\n",
              "Condition  362806    1806          Other   49765\n",
              "Date       362806    4524     10/29/2007     404\n",
              "Drug       362806    7093       cymbalta    4648\n",
              "Reviews    362769  250167                  41824\n",
              "Sex        362806       3         Female  238226\n",
              "Sides      362806    1651                  17460"
            ],
            "text/html": [
              "\n",
              "  <div id=\"df-5e13dc51-f0a7-42ce-821a-70db11b40c47\">\n",
              "    <div class=\"colab-df-container\">\n",
              "      <div>\n",
              "<style scoped>\n",
              "    .dataframe tbody tr th:only-of-type {\n",
              "        vertical-align: middle;\n",
              "    }\n",
              "\n",
              "    .dataframe tbody tr th {\n",
              "        vertical-align: top;\n",
              "    }\n",
              "\n",
              "    .dataframe thead th {\n",
              "        text-align: right;\n",
              "    }\n",
              "</style>\n",
              "<table border=\"1\" class=\"dataframe\">\n",
              "  <thead>\n",
              "    <tr style=\"text-align: right;\">\n",
              "      <th></th>\n",
              "      <th>count</th>\n",
              "      <th>unique</th>\n",
              "      <th>top</th>\n",
              "      <th>freq</th>\n",
              "    </tr>\n",
              "  </thead>\n",
              "  <tbody>\n",
              "    <tr>\n",
              "      <th>Name</th>\n",
              "      <td>362806</td>\n",
              "      <td>180949</td>\n",
              "      <td>Michael Smith</td>\n",
              "      <td>167</td>\n",
              "    </tr>\n",
              "    <tr>\n",
              "      <th>Race</th>\n",
              "      <td>362806</td>\n",
              "      <td>4</td>\n",
              "      <td>White</td>\n",
              "      <td>115926</td>\n",
              "    </tr>\n",
              "    <tr>\n",
              "      <th>Age</th>\n",
              "      <td>362806</td>\n",
              "      <td>12</td>\n",
              "      <td>45-54</td>\n",
              "      <td>80043</td>\n",
              "    </tr>\n",
              "    <tr>\n",
              "      <th>Condition</th>\n",
              "      <td>362806</td>\n",
              "      <td>1806</td>\n",
              "      <td>Other</td>\n",
              "      <td>49765</td>\n",
              "    </tr>\n",
              "    <tr>\n",
              "      <th>Date</th>\n",
              "      <td>362806</td>\n",
              "      <td>4524</td>\n",
              "      <td>10/29/2007</td>\n",
              "      <td>404</td>\n",
              "    </tr>\n",
              "    <tr>\n",
              "      <th>Drug</th>\n",
              "      <td>362806</td>\n",
              "      <td>7093</td>\n",
              "      <td>cymbalta</td>\n",
              "      <td>4648</td>\n",
              "    </tr>\n",
              "    <tr>\n",
              "      <th>Reviews</th>\n",
              "      <td>362769</td>\n",
              "      <td>250167</td>\n",
              "      <td></td>\n",
              "      <td>41824</td>\n",
              "    </tr>\n",
              "    <tr>\n",
              "      <th>Sex</th>\n",
              "      <td>362806</td>\n",
              "      <td>3</td>\n",
              "      <td>Female</td>\n",
              "      <td>238226</td>\n",
              "    </tr>\n",
              "    <tr>\n",
              "      <th>Sides</th>\n",
              "      <td>362806</td>\n",
              "      <td>1651</td>\n",
              "      <td></td>\n",
              "      <td>17460</td>\n",
              "    </tr>\n",
              "  </tbody>\n",
              "</table>\n",
              "</div>\n",
              "      <button class=\"colab-df-convert\" onclick=\"convertToInteractive('df-5e13dc51-f0a7-42ce-821a-70db11b40c47')\"\n",
              "              title=\"Convert this dataframe to an interactive table.\"\n",
              "              style=\"display:none;\">\n",
              "        \n",
              "  <svg xmlns=\"http://www.w3.org/2000/svg\" height=\"24px\"viewBox=\"0 0 24 24\"\n",
              "       width=\"24px\">\n",
              "    <path d=\"M0 0h24v24H0V0z\" fill=\"none\"/>\n",
              "    <path d=\"M18.56 5.44l.94 2.06.94-2.06 2.06-.94-2.06-.94-.94-2.06-.94 2.06-2.06.94zm-11 1L8.5 8.5l.94-2.06 2.06-.94-2.06-.94L8.5 2.5l-.94 2.06-2.06.94zm10 10l.94 2.06.94-2.06 2.06-.94-2.06-.94-.94-2.06-.94 2.06-2.06.94z\"/><path d=\"M17.41 7.96l-1.37-1.37c-.4-.4-.92-.59-1.43-.59-.52 0-1.04.2-1.43.59L10.3 9.45l-7.72 7.72c-.78.78-.78 2.05 0 2.83L4 21.41c.39.39.9.59 1.41.59.51 0 1.02-.2 1.41-.59l7.78-7.78 2.81-2.81c.8-.78.8-2.07 0-2.86zM5.41 20L4 18.59l7.72-7.72 1.47 1.35L5.41 20z\"/>\n",
              "  </svg>\n",
              "      </button>\n",
              "      \n",
              "  <style>\n",
              "    .colab-df-container {\n",
              "      display:flex;\n",
              "      flex-wrap:wrap;\n",
              "      gap: 12px;\n",
              "    }\n",
              "\n",
              "    .colab-df-convert {\n",
              "      background-color: #E8F0FE;\n",
              "      border: none;\n",
              "      border-radius: 50%;\n",
              "      cursor: pointer;\n",
              "      display: none;\n",
              "      fill: #1967D2;\n",
              "      height: 32px;\n",
              "      padding: 0 0 0 0;\n",
              "      width: 32px;\n",
              "    }\n",
              "\n",
              "    .colab-df-convert:hover {\n",
              "      background-color: #E2EBFA;\n",
              "      box-shadow: 0px 1px 2px rgba(60, 64, 67, 0.3), 0px 1px 3px 1px rgba(60, 64, 67, 0.15);\n",
              "      fill: #174EA6;\n",
              "    }\n",
              "\n",
              "    [theme=dark] .colab-df-convert {\n",
              "      background-color: #3B4455;\n",
              "      fill: #D2E3FC;\n",
              "    }\n",
              "\n",
              "    [theme=dark] .colab-df-convert:hover {\n",
              "      background-color: #434B5C;\n",
              "      box-shadow: 0px 1px 3px 1px rgba(0, 0, 0, 0.15);\n",
              "      filter: drop-shadow(0px 1px 2px rgba(0, 0, 0, 0.3));\n",
              "      fill: #FFFFFF;\n",
              "    }\n",
              "  </style>\n",
              "\n",
              "      <script>\n",
              "        const buttonEl =\n",
              "          document.querySelector('#df-5e13dc51-f0a7-42ce-821a-70db11b40c47 button.colab-df-convert');\n",
              "        buttonEl.style.display =\n",
              "          google.colab.kernel.accessAllowed ? 'block' : 'none';\n",
              "\n",
              "        async function convertToInteractive(key) {\n",
              "          const element = document.querySelector('#df-5e13dc51-f0a7-42ce-821a-70db11b40c47');\n",
              "          const dataTable =\n",
              "            await google.colab.kernel.invokeFunction('convertToInteractive',\n",
              "                                                     [key], {});\n",
              "          if (!dataTable) return;\n",
              "\n",
              "          const docLinkHtml = 'Like what you see? Visit the ' +\n",
              "            '<a target=\"_blank\" href=https://colab.research.google.com/notebooks/data_table.ipynb>data table notebook</a>'\n",
              "            + ' to learn more about interactive tables.';\n",
              "          element.innerHTML = '';\n",
              "          dataTable['output_type'] = 'display_data';\n",
              "          await google.colab.output.renderOutput(dataTable, element);\n",
              "          const docLink = document.createElement('div');\n",
              "          docLink.innerHTML = docLinkHtml;\n",
              "          element.appendChild(docLink);\n",
              "        }\n",
              "      </script>\n",
              "    </div>\n",
              "  </div>\n",
              "  "
            ]
          },
          "metadata": {},
          "execution_count": 29
        }
      ]
    },
    {
      "cell_type": "markdown",
      "source": [
        "**Insight:**\n",
        "Age group between 45 to 54 is the highest.\n",
        "\n",
        "Female patients are more than male patients.\n",
        "\n",
        "The use of cymbalta is highest when compared with other drugs."
      ],
      "metadata": {
        "id": "h9EMJ6IcvUfU"
      }
    },
    {
      "cell_type": "markdown",
      "source": [
        "**Checking for duplicate values:**"
      ],
      "metadata": {
        "id": "jUkv8ggQvbeV"
      }
    },
    {
      "cell_type": "code",
      "source": [
        "data.duplicated().sum()"
      ],
      "metadata": {
        "colab": {
          "base_uri": "https://localhost:8080/"
        },
        "id": "yFV0MXdbvUBf",
        "outputId": "333173c5-51be-4e90-8e13-bf888ed86cc9"
      },
      "execution_count": null,
      "outputs": [
        {
          "output_type": "execute_result",
          "data": {
            "text/plain": [
              "0"
            ]
          },
          "metadata": {},
          "execution_count": 30
        }
      ]
    },
    {
      "cell_type": "markdown",
      "source": [
        "**Insight:**\n",
        "There are no duplicate values present in the dataset.\n",
        "\n"
      ],
      "metadata": {
        "id": "1V6cYTiHvhUD"
      }
    },
    {
      "cell_type": "markdown",
      "source": [
        "**Exploring the column names:**"
      ],
      "metadata": {
        "id": "QxiLk1p5vpoL"
      }
    },
    {
      "cell_type": "code",
      "source": [
        "data.columns"
      ],
      "metadata": {
        "colab": {
          "base_uri": "https://localhost:8080/"
        },
        "id": "a4fDovQLvglQ",
        "outputId": "8ac3604b-d44d-4d3d-b97a-b6934614c426"
      },
      "execution_count": null,
      "outputs": [
        {
          "output_type": "execute_result",
          "data": {
            "text/plain": [
              "Index(['Name', 'Race', 'Age', 'Condition', 'Date', 'Drug', 'DrugId',\n",
              "       'EaseofUse', 'Effectiveness', 'Reviews', 'Satisfaction', 'Sex', 'Sides',\n",
              "       'UsefulCount'],\n",
              "      dtype='object')"
            ]
          },
          "metadata": {},
          "execution_count": 32
        }
      ]
    },
    {
      "cell_type": "markdown",
      "source": [
        "**Insight:**\n",
        "Displays names of columns in the dataset."
      ],
      "metadata": {
        "id": "cAFNNtkEv1pN"
      }
    },
    {
      "cell_type": "markdown",
      "source": [
        "**Unique occurrences of each variable:**"
      ],
      "metadata": {
        "id": "flxHottLwEJa"
      }
    },
    {
      "cell_type": "code",
      "source": [
        "for i in data.columns:\n",
        "    print(i,':',data[i].nunique(),'\\n')"
      ],
      "metadata": {
        "colab": {
          "base_uri": "https://localhost:8080/"
        },
        "id": "4jgXgg6Fvt-U",
        "outputId": "091ede3e-14f8-49cc-b2f9-6476ba89a852"
      },
      "execution_count": null,
      "outputs": [
        {
          "output_type": "stream",
          "name": "stdout",
          "text": [
            "Name : 180949 \n",
            "\n",
            "Race : 4 \n",
            "\n",
            "Age : 12 \n",
            "\n",
            "Condition : 1806 \n",
            "\n",
            "Date : 4524 \n",
            "\n",
            "Drug : 7093 \n",
            "\n",
            "DrugId : 6572 \n",
            "\n",
            "EaseofUse : 7 \n",
            "\n",
            "Effectiveness : 7 \n",
            "\n",
            "Reviews : 250167 \n",
            "\n",
            "Satisfaction : 7 \n",
            "\n",
            "Sex : 3 \n",
            "\n",
            "Sides : 1651 \n",
            "\n",
            "UsefulCount : 148 \n",
            "\n"
          ]
        }
      ]
    },
    {
      "cell_type": "markdown",
      "source": [
        "**Insight:**\n",
        "\n",
        "'Sex' has three categories.\n",
        "\n",
        "Four different races are present.\n",
        "\n",
        "'Drug' has more values than 'DrugId'.\n",
        "\n",
        "'Condition' has lesser values than 'Drug'/'DrugId'.\n",
        "\n",
        "'Reviews' has close to 70% unique values."
      ],
      "metadata": {
        "id": "DTPBIyPDwMZH"
      }
    },
    {
      "cell_type": "markdown",
      "source": [
        "**Creating the list of categorical variables:**"
      ],
      "metadata": {
        "id": "vwgCgAYtwR4Y"
      }
    },
    {
      "cell_type": "code",
      "source": [
        "cat_var = []\n",
        "\n",
        "for column in data:\n",
        "    if data[column].dtype == 'O':\n",
        "        cat_var.append(column)\n",
        "cat_var"
      ],
      "metadata": {
        "colab": {
          "base_uri": "https://localhost:8080/"
        },
        "id": "CyZB6OM7wJo9",
        "outputId": "82c4b31e-e1cf-4591-cd70-b6cead906730"
      },
      "execution_count": null,
      "outputs": [
        {
          "output_type": "execute_result",
          "data": {
            "text/plain": [
              "['Name', 'Race', 'Age', 'Condition', 'Date', 'Drug', 'Reviews', 'Sex', 'Sides']"
            ]
          },
          "metadata": {},
          "execution_count": 34
        }
      ]
    },
    {
      "cell_type": "code",
      "source": [
        "# finding the unique values in each categorical variables\n",
        "for col in cat_var:\n",
        "    print('\\n', col, '\\n', data[col].unique(), '\\n', '_' * 80)"
      ],
      "metadata": {
        "colab": {
          "base_uri": "https://localhost:8080/"
        },
        "id": "ph8K2UBBwWFb",
        "outputId": "996a5b27-a412-45a9-c285-c5ec91a2eba8"
      },
      "execution_count": null,
      "outputs": [
        {
          "output_type": "stream",
          "name": "stdout",
          "text": [
            "\n",
            " Name \n",
            " ['Danielle Cannon' 'Hunter Logan' 'Matthew Robertson' ... 'Lucas Tran'\n",
            " 'Isaiah Graham' 'Jesus Burns'] \n",
            " ________________________________________________________________________________\n",
            "\n",
            " Race \n",
            " ['Hispanic' 'White' 'Black' 'Asian'] \n",
            " ________________________________________________________________________________\n",
            "\n",
            " Age \n",
            " ['75 or over' '25-34' '65-74' '35-44' '55-64' '45-54' '19-24' ' ' '13-18'\n",
            " '7-12' '0-2' '3-6'] \n",
            " ________________________________________________________________________________\n",
            "\n",
            " Condition \n",
            " ['Stuffy Nose' 'Cold Symptoms' 'Other' ...\n",
            " 'Combative and Explosive Behavior' 'Lead Poisoning'\n",
            " 'Poisoning from Swallowed Unknown Substance'] \n",
            " ________________________________________________________________________________\n",
            "\n",
            " Date \n",
            " ['9/21/2014' '1/13/2011' '7/16/2012' ... '10/25/2019' '6/22/2019'\n",
            " '10/19/2019'] \n",
            " ________________________________________________________________________________\n",
            "\n",
            " Drug \n",
            " ['25dph-7.5peh' 'warfarin (bulk) 100 % powder' 'wymzya fe' ...\n",
            " 'chest congestion relief dm' 'chantix' 'chateal'] \n",
            " ________________________________________________________________________________\n",
            "\n",
            " Reviews \n",
            " [\"I'm a retired physician and of all the meds I have tried for my allergies (seasonal and not) - this one is the most effective for me.  When I first began using this drug some years ago - tiredness as a problem but is not currently.\"\n",
            " 'cleared me right up even with my throat hurting it went away after taking the medicine'\n",
            " 'why did my PTINR go from a normal of 2.5 to over \\n100?' ...\n",
            " \"As long as I was on chantix, I didn't smoke.  Terrible stomach upset after each dose, constipation, headaches constantly, crazy dreams and mood swings.  I have had to stop taking it and have found other ways to stop smoking.\"\n",
            " \"Started this medication Oct 5th 2008. Haven't smoked for 6 weeks and planning on the full 12 weeks program.  I have had some problems like getting sick after the meds but accually it helps because everytime I see a smoker or smell smoke I get sick, still want one but it offsets it.\"\n",
            " \"One year ago, I tried Chantix and had to stop taking it because I was so nauseous in the morning.  Three weeks ago I started it again and found that if I eat 10 minutes before taking the pill, I don't get nauseous at all.  I have been smoke free for two weeks and will never smoke again.  \"] \n",
            " ________________________________________________________________________________\n",
            "\n",
            " Sex \n",
            " ['Male' 'Female' ' '] \n",
            " ________________________________________________________________________________\n",
            "\n",
            " Sides \n",
            " ['Drowsiness,  dizziness ,  dry mouth /nose/throat,  headache ,  upset stomach ,  constipation , or  trouble sleeping  may occur.'\n",
            " ' '\n",
            " 'Nausea ,  vomiting ,  headache ,  bloating ,  breast  tenderness, swelling of the  ankles /feet (fluid retention), or  weight  change may occur.'\n",
            " ...\n",
            " 'Drowsiness,  dizziness ,  nausea ,  constipation ,  blurred vision , or  headache  may occur.'\n",
            " 'Drowsiness,  dizziness ,  dry mouth ,  blurred vision ,  constipation ,  bloating , trouble urinating, and  weight  gain may occur.'\n",
            " 'Diarrhea ,  nausea , or  heartburn  may occur.'] \n",
            " ________________________________________________________________________________\n"
          ]
        }
      ]
    },
    {
      "cell_type": "code",
      "source": [
        "data['Name'].value_counts()"
      ],
      "metadata": {
        "colab": {
          "base_uri": "https://localhost:8080/"
        },
        "id": "t7QPDkP9wX43",
        "outputId": "f37534ad-b83e-4d62-d126-24124f844b0a"
      },
      "execution_count": null,
      "outputs": [
        {
          "output_type": "execute_result",
          "data": {
            "text/plain": [
              "Michael Smith        167\n",
              "Michael Johnson      119\n",
              "Christopher Smith    118\n",
              "Jennifer Smith       116\n",
              "Robert Smith         113\n",
              "                    ... \n",
              "Renee Caldwell         1\n",
              "Brittney Larsen        1\n",
              "Michaela Hamilton      1\n",
              "Harold Alvarez         1\n",
              "Jesus Burns            1\n",
              "Name: Name, Length: 180949, dtype: int64"
            ]
          },
          "metadata": {},
          "execution_count": 36
        }
      ]
    },
    {
      "cell_type": "code",
      "source": [
        "data['Race'].value_counts()"
      ],
      "metadata": {
        "colab": {
          "base_uri": "https://localhost:8080/"
        },
        "id": "vBiAAfUOwars",
        "outputId": "96fc75ea-3c08-46b3-e79f-4c7007495223"
      },
      "execution_count": null,
      "outputs": [
        {
          "output_type": "execute_result",
          "data": {
            "text/plain": [
              "White       115926\n",
              "Hispanic    101545\n",
              "Black        80110\n",
              "Asian        65225\n",
              "Name: Race, dtype: int64"
            ]
          },
          "metadata": {},
          "execution_count": 37
        }
      ]
    },
    {
      "cell_type": "code",
      "source": [
        "data['Age'].value_counts()"
      ],
      "metadata": {
        "colab": {
          "base_uri": "https://localhost:8080/"
        },
        "id": "8qW1_t4RwcT_",
        "outputId": "f8d5a15b-10bf-4f24-c885-34d160bb98a9"
      },
      "execution_count": null,
      "outputs": [
        {
          "output_type": "execute_result",
          "data": {
            "text/plain": [
              "45-54         80043\n",
              "55-64         75136\n",
              "35-44         55011\n",
              "25-34         49718\n",
              "65-74         41216\n",
              "19-24         24230\n",
              "75 or over    15226\n",
              "              12202\n",
              "13-18          7045\n",
              "7-12           1644\n",
              "3-6             838\n",
              "0-2             497\n",
              "Name: Age, dtype: int64"
            ]
          },
          "metadata": {},
          "execution_count": 38
        }
      ]
    },
    {
      "cell_type": "code",
      "source": [
        "data['Date'].value_counts()"
      ],
      "metadata": {
        "colab": {
          "base_uri": "https://localhost:8080/"
        },
        "id": "zvtxOut1wdue",
        "outputId": "5a3c3ef0-4295-4d0d-914b-a42c833584bf"
      },
      "execution_count": null,
      "outputs": [
        {
          "output_type": "execute_result",
          "data": {
            "text/plain": [
              "10/29/2007    404\n",
              "10/30/2007    316\n",
              "10/28/2007    315\n",
              "3/15/2010     308\n",
              "3/16/2010     295\n",
              "             ... \n",
              "10/19/2019      2\n",
              "10/27/2019      1\n",
              "10/20/2019      1\n",
              "6/28/2019       1\n",
              "6/22/2019       1\n",
              "Name: Date, Length: 4524, dtype: int64"
            ]
          },
          "metadata": {},
          "execution_count": 39
        }
      ]
    },
    {
      "cell_type": "code",
      "source": [
        "data['Drug'].value_counts()"
      ],
      "metadata": {
        "colab": {
          "base_uri": "https://localhost:8080/"
        },
        "id": "bR-4LH1LwfIc",
        "outputId": "7999e89c-261b-4e70-888b-0b5d8fe6d125"
      },
      "execution_count": null,
      "outputs": [
        {
          "output_type": "execute_result",
          "data": {
            "text/plain": [
              "cymbalta                               4648\n",
              "lisinopril                             4269\n",
              "lisinopril solution                    4269\n",
              "lexapro                                4134\n",
              "hydrocodone-acetaminophen              3944\n",
              "                                       ... \n",
              "sorbsan bandage                           1\n",
              "sorbsan topical wound dressing 3\" x       1\n",
              "q-pap extra strength                      1\n",
              "symax                                     1\n",
              "vanadium granules                         1\n",
              "Name: Drug, Length: 7093, dtype: int64"
            ]
          },
          "metadata": {},
          "execution_count": 40
        }
      ]
    },
    {
      "cell_type": "code",
      "source": [
        "data['DrugId'].value_counts()"
      ],
      "metadata": {
        "colab": {
          "base_uri": "https://localhost:8080/"
        },
        "id": "bzVrrEpIwhU6",
        "outputId": "a6f5b668-6ef3-4a75-b3b5-07eab1f98923"
      },
      "execution_count": null,
      "outputs": [
        {
          "output_type": "execute_result",
          "data": {
            "text/plain": [
              "6873      8538\n",
              "1025      7868\n",
              "6007      7728\n",
              "4398      5864\n",
              "14208     5451\n",
              "          ... \n",
              "4118         1\n",
              "165948       1\n",
              "54215        1\n",
              "154021       1\n",
              "149247       1\n",
              "Name: DrugId, Length: 6572, dtype: int64"
            ]
          },
          "metadata": {},
          "execution_count": 41
        }
      ]
    },
    {
      "cell_type": "code",
      "source": [
        "data['EaseofUse'].value_counts()"
      ],
      "metadata": {
        "colab": {
          "base_uri": "https://localhost:8080/"
        },
        "id": "-b2E4VAWwi-R",
        "outputId": "940140e4-5e93-4656-8824-4192d47be578"
      },
      "execution_count": null,
      "outputs": [
        {
          "output_type": "execute_result",
          "data": {
            "text/plain": [
              "5     192650\n",
              "4      74732\n",
              "3      41303\n",
              "1      35927\n",
              "2      18191\n",
              "6          2\n",
              "10         1\n",
              "Name: EaseofUse, dtype: int64"
            ]
          },
          "metadata": {},
          "execution_count": 42
        }
      ]
    },
    {
      "cell_type": "code",
      "source": [
        "data['Effectiveness'].value_counts()"
      ],
      "metadata": {
        "colab": {
          "base_uri": "https://localhost:8080/"
        },
        "id": "u52s_hj4wkun",
        "outputId": "e12197ac-56f0-4188-be81-3d99e8ed06c6"
      },
      "execution_count": null,
      "outputs": [
        {
          "output_type": "execute_result",
          "data": {
            "text/plain": [
              "5     130388\n",
              "4      81821\n",
              "3      60406\n",
              "1      59387\n",
              "2      30801\n",
              "6          2\n",
              "10         1\n",
              "Name: Effectiveness, dtype: int64"
            ]
          },
          "metadata": {},
          "execution_count": 43
        }
      ]
    },
    {
      "cell_type": "code",
      "source": [
        "data['Reviews'].value_counts()"
      ],
      "metadata": {
        "colab": {
          "base_uri": "https://localhost:8080/"
        },
        "id": "qUHsN-8OwmVv",
        "outputId": "182f6a01-6465-4ff6-b32e-43f7f4a78491"
      },
      "execution_count": null,
      "outputs": [
        {
          "output_type": "execute_result",
          "data": {
            "text/plain": [
              "                                                                                                                                                                                                                                                                                                                                                                                                                                                                                                                                                                                                                                                                           41824\n",
              "good                                                                                                                                                                                                                                                                                                                                                                                                                                                                                                                                                                                                                                                                         183\n",
              "this treatment is awsome.  I love drugs.                                                                                                                                                                                                                                                                                                                                                                                                                                                                                                                                                                                                                                     172\n",
              "This drug is awesome.  I love drugs.                                                                                                                                                                                                                                                                                                                                                                                                                                                                                                                                                                                                                                         128\n",
              "No Script or health Insurance needed to place and order with 10% discount for all purchased. It was nice to have some from them, I just hit them at. WhatsApp only:+1(775)7735306,\\nCall/Text:+1(775)7735306,\\nWickr or Kik: peterking2014.\\nEmail: peterkings2014@gmail.com.\\nMessage code: (Med16) Discreet Delivery                                                                                                                                                                                                                                                                                                                                                        90\n",
              "                                                                                                                                                                                                                                                                                                                                                                                                                                                                                                                                                                                                                                                                           ...  \n",
              "OMG!! Is this shot painful or what!! Received Synvisc-one yesterday and almost passed out from the pain. Only one knee was causing me alot of problems and the other one was just starting to. Now, after receiving an injection in both knees, I am having to rely on crutches and pain meds. It feels like someone stuffed a rubber eraser under both my kneecaps. When is this nightmare going to get better? I was optimistic that relief would happen after I left the doctor's office. The only thing lighter was my check book. I think inject 6ml of thick gel is too much to do at one time. I'll have to give it some time before I EVER go thru this again.         1\n",
              "Just take it now for 3 weeks\\nFeel a little better but still had a little weightgain. muscle  hurting.But overall feel better.                                                                                                                                                                                                                                                                                                                                                                                                                                                                                                                                                 1\n",
              "This has been a miracle drug for.  Yes I gained some wieght, but it was well worth it.  For the first time in years, I am not suicidal and I don't have sickening thoughts.  This medication has helped my greatly.                                                                                                                                                                                                                                                                                                                                                                                                                                                            1\n",
              "worked quickly, got out of bed and had energy for first time in months.                                                                                                                                                                                                                                                                                                                                                                                                                                                                                                                                                                                                        1\n",
              "One year ago, I tried Chantix and had to stop taking it because I was so nauseous in the morning.  Three weeks ago I started it again and found that if I eat 10 minutes before taking the pill, I don't get nauseous at all.  I have been smoke free for two weeks and will never smoke again.                                                                                                                                                                                                                                                                                                                                                                                1\n",
              "Name: Reviews, Length: 250167, dtype: int64"
            ]
          },
          "metadata": {},
          "execution_count": 44
        }
      ]
    },
    {
      "cell_type": "code",
      "source": [
        "data['Satisfaction'].value_counts()"
      ],
      "metadata": {
        "colab": {
          "base_uri": "https://localhost:8080/"
        },
        "id": "esICMRr-wn9l",
        "outputId": "e03f5d70-4077-4462-868e-f662a3dfe64e"
      },
      "execution_count": null,
      "outputs": [
        {
          "output_type": "execute_result",
          "data": {
            "text/plain": [
              "5     111550\n",
              "1     100901\n",
              "4      63158\n",
              "3      51852\n",
              "2      35342\n",
              "6          2\n",
              "10         1\n",
              "Name: Satisfaction, dtype: int64"
            ]
          },
          "metadata": {},
          "execution_count": 45
        }
      ]
    },
    {
      "cell_type": "code",
      "source": [
        "data['Sex'].value_counts()"
      ],
      "metadata": {
        "colab": {
          "base_uri": "https://localhost:8080/"
        },
        "id": "g-6dax9Awp7f",
        "outputId": "f6f78596-a686-4a90-8a3a-b36d65deee7c"
      },
      "execution_count": null,
      "outputs": [
        {
          "output_type": "execute_result",
          "data": {
            "text/plain": [
              "Female    238226\n",
              "Male       98043\n",
              "           26537\n",
              "Name: Sex, dtype: int64"
            ]
          },
          "metadata": {},
          "execution_count": 46
        }
      ]
    },
    {
      "cell_type": "code",
      "source": [
        "data['Sides'].value_counts()"
      ],
      "metadata": {
        "colab": {
          "base_uri": "https://localhost:8080/"
        },
        "id": "vVEb29JZwrp5",
        "outputId": "801ee931-0790-47c2-bea2-e53e2bc84d8f"
      },
      "execution_count": null,
      "outputs": [
        {
          "output_type": "execute_result",
          "data": {
            "text/plain": [
              "                                                                                                                                                       17460\n",
              "Nausea ,  vomiting ,  constipation ,  lightheadedness ,  dizziness , or drowsiness may occur.                                                          15563\n",
              "Nausea ,  vomiting ,  headache ,  bloating ,  breast  tenderness, swelling of the  ankles /feet (fluid retention), or  weight  change may occur.       12116\n",
              "Dizziness ,  lightheadedness , tiredness, or  headache  may occur as your body adjusts to the  medication . Dry  cough  may also occur.                 9162\n",
              "Drowsiness,  dizziness , loss of coordination, tiredness, blurred/ double vision , unusual  eye  movements, or shaking (tremor) may occur.              7790\n",
              "                                                                                                                                                       ...  \n",
              "Nausea ,  vomiting ,  stomach / abdominal pain , gas,  diarrhea ,  weight loss ,  headache ,  muscle cramps ,  dizziness , or  weakness  may occur.        1\n",
              "Headache ,  nausea , chills, or fever may occur.                                                                                                           1\n",
              "Nausea ,  vomiting ,  diarrhea , abdominal/ stomach pain ,  cough ,  dizziness ,  headache , flushing, or loss of appetite may occur.                      1\n",
              "Mild  skin  burning, redness, and peeling of the treated area may occur as expected.                                                                       1\n",
              "Diarrhea ,  nausea , or  heartburn  may occur.                                                                                                             1\n",
              "Name: Sides, Length: 1651, dtype: int64"
            ]
          },
          "metadata": {},
          "execution_count": 47
        }
      ]
    },
    {
      "cell_type": "code",
      "source": [
        "data['UsefulCount'].value_counts()"
      ],
      "metadata": {
        "colab": {
          "base_uri": "https://localhost:8080/"
        },
        "id": "64P-lY4RwtUP",
        "outputId": "98ca7c20-c61c-46fe-b19d-67eb1daa3c53"
      },
      "execution_count": null,
      "outputs": [
        {
          "output_type": "execute_result",
          "data": {
            "text/plain": [
              "0      71608\n",
              "1      46240\n",
              "2      34701\n",
              "3      27307\n",
              "4      22862\n",
              "       ...  \n",
              "136        1\n",
              "178        1\n",
              "176        1\n",
              "169        1\n",
              "95         1\n",
              "Name: UsefulCount, Length: 148, dtype: int64"
            ]
          },
          "metadata": {},
          "execution_count": 48
        }
      ]
    },
    {
      "cell_type": "code",
      "source": [
        "data['Condition'].value_counts()"
      ],
      "metadata": {
        "colab": {
          "base_uri": "https://localhost:8080/"
        },
        "id": "Bg3EUEdnwvBS",
        "outputId": "aa34dd36-c754-4af4-968a-9e6641bdf889"
      },
      "execution_count": null,
      "outputs": [
        {
          "output_type": "execute_result",
          "data": {
            "text/plain": [
              "Other                                                  49765\n",
              "Pain                                                   25232\n",
              "High Blood Pressure                                    23275\n",
              "Depression                                             14509\n",
              "Birth Control                                          12253\n",
              "                                                       ...  \n",
              "Diagnostic Test for Myasthenia Gravis                      1\n",
              "Myelodysplastic Syndrome with 5q Deletion Gene Type        1\n",
              "Hunter Syndrome                                            1\n",
              "Increased Uric Acid due to Cancer Chemotherapy             1\n",
              "Adverse Effect of Benzodiazepine-Based Tranquilizer        1\n",
              "Name: Condition, Length: 1806, dtype: int64"
            ]
          },
          "metadata": {},
          "execution_count": 49
        }
      ]
    },
    {
      "cell_type": "code",
      "source": [
        "\n",
        "data['Drug'].value_counts().head(20)"
      ],
      "metadata": {
        "colab": {
          "base_uri": "https://localhost:8080/"
        },
        "id": "xDD1cPodwwoH",
        "outputId": "87a3997b-b361-445e-9dbe-3c9ef2cb809c"
      },
      "execution_count": null,
      "outputs": [
        {
          "output_type": "execute_result",
          "data": {
            "text/plain": [
              "cymbalta                                               4648\n",
              "lisinopril                                             4269\n",
              "lisinopril solution                                    4269\n",
              "lexapro                                                4134\n",
              "hydrocodone-acetaminophen                              3944\n",
              "effexor xr                                             3486\n",
              "lyrica                                                 3069\n",
              "tramadol hcl er                                        2932\n",
              "tramadol hcl                                           2932\n",
              "zoloft                                                 2662\n",
              "prednisone tablet, delayed release (enteric coated)    2576\n",
              "prednisone concentrate                                 2576\n",
              "prednisone                                             2576\n",
              "seroquel                                               2446\n",
              "phentermine hcl                                        2367\n",
              "celexa                                                 2224\n",
              "topamax                                                2148\n",
              "topamax capsule, sprinkle                              2148\n",
              "trazodone hcl                                          2099\n",
              "neurontin capsule                                      2078\n",
              "Name: Drug, dtype: int64"
            ]
          },
          "metadata": {},
          "execution_count": 50
        }
      ]
    },
    {
      "cell_type": "markdown",
      "source": [
        "**Selection of drug: A particular drug named Topamax with DrugId 14494 is selected in building a classification model to determine side effects**"
      ],
      "metadata": {
        "id": "oWXu6EI5wy5b"
      }
    },
    {
      "cell_type": "code",
      "source": [
        "drug_topamax= data.loc[(data['Drug'] =='topamax')]\n",
        "drug_topamax.head(5)"
      ],
      "metadata": {
        "colab": {
          "base_uri": "https://localhost:8080/",
          "height": 337
        },
        "id": "VZsx_UDVwySu",
        "outputId": "7bd93b4e-b125-447c-8c26-95c95938f89c"
      },
      "execution_count": null,
      "outputs": [
        {
          "output_type": "execute_result",
          "data": {
            "text/plain": [
              "                     Name      Race    Age                Condition  \\\n",
              "191568        David White     White  45-54      Migraine Prevention   \n",
              "191575     Matthew Nguyen     Black  35-44  Simple Partial Seizures   \n",
              "191582       James Hughes     White  13-18      Migraine Prevention   \n",
              "191589       Meghan Lloyd  Hispanic  65-74         Essential Tremor   \n",
              "191596  Jillian Dickerson     White  45-54      Migraine Prevention   \n",
              "\n",
              "             Date     Drug  DrugId  EaseofUse  Effectiveness  \\\n",
              "191568  9/22/2019  topamax   14494          4              4   \n",
              "191575   9/2/2019  topamax   14494          4              4   \n",
              "191582   8/9/2019  topamax   14494          1              1   \n",
              "191589  7/21/2019  topamax   14494          4              4   \n",
              "191596  4/30/2019  topamax   14494          5              5   \n",
              "\n",
              "                                                  Reviews  Satisfaction Sex  \\\n",
              "191568  I was on this drug for 5 years, 100mg for the ...             1       \n",
              "191575  I have partial seizures. It didn't help for a ...             4       \n",
              "191582  I have been having migraines and headaches eve...             1       \n",
              "191589  This is the only medication I have taken for t...             3       \n",
              "191596  I suffered from debilitating Cluster Headaches...             5       \n",
              "\n",
              "                                                    Sides  UsefulCount  \n",
              "191568  Tiredness, drowsiness,  dizziness , loss of co...            5  \n",
              "191575  Tiredness, drowsiness,  dizziness , loss of co...            0  \n",
              "191582  Tiredness, drowsiness,  dizziness , loss of co...            6  \n",
              "191589  Tiredness, drowsiness,  dizziness , loss of co...            0  \n",
              "191596  Tiredness, drowsiness,  dizziness , loss of co...            2  "
            ],
            "text/html": [
              "\n",
              "  <div id=\"df-c8311413-6089-4089-b4ab-77b3f23905f4\">\n",
              "    <div class=\"colab-df-container\">\n",
              "      <div>\n",
              "<style scoped>\n",
              "    .dataframe tbody tr th:only-of-type {\n",
              "        vertical-align: middle;\n",
              "    }\n",
              "\n",
              "    .dataframe tbody tr th {\n",
              "        vertical-align: top;\n",
              "    }\n",
              "\n",
              "    .dataframe thead th {\n",
              "        text-align: right;\n",
              "    }\n",
              "</style>\n",
              "<table border=\"1\" class=\"dataframe\">\n",
              "  <thead>\n",
              "    <tr style=\"text-align: right;\">\n",
              "      <th></th>\n",
              "      <th>Name</th>\n",
              "      <th>Race</th>\n",
              "      <th>Age</th>\n",
              "      <th>Condition</th>\n",
              "      <th>Date</th>\n",
              "      <th>Drug</th>\n",
              "      <th>DrugId</th>\n",
              "      <th>EaseofUse</th>\n",
              "      <th>Effectiveness</th>\n",
              "      <th>Reviews</th>\n",
              "      <th>Satisfaction</th>\n",
              "      <th>Sex</th>\n",
              "      <th>Sides</th>\n",
              "      <th>UsefulCount</th>\n",
              "    </tr>\n",
              "  </thead>\n",
              "  <tbody>\n",
              "    <tr>\n",
              "      <th>191568</th>\n",
              "      <td>David White</td>\n",
              "      <td>White</td>\n",
              "      <td>45-54</td>\n",
              "      <td>Migraine Prevention</td>\n",
              "      <td>9/22/2019</td>\n",
              "      <td>topamax</td>\n",
              "      <td>14494</td>\n",
              "      <td>4</td>\n",
              "      <td>4</td>\n",
              "      <td>I was on this drug for 5 years, 100mg for the ...</td>\n",
              "      <td>1</td>\n",
              "      <td></td>\n",
              "      <td>Tiredness, drowsiness,  dizziness , loss of co...</td>\n",
              "      <td>5</td>\n",
              "    </tr>\n",
              "    <tr>\n",
              "      <th>191575</th>\n",
              "      <td>Matthew Nguyen</td>\n",
              "      <td>Black</td>\n",
              "      <td>35-44</td>\n",
              "      <td>Simple Partial Seizures</td>\n",
              "      <td>9/2/2019</td>\n",
              "      <td>topamax</td>\n",
              "      <td>14494</td>\n",
              "      <td>4</td>\n",
              "      <td>4</td>\n",
              "      <td>I have partial seizures. It didn't help for a ...</td>\n",
              "      <td>4</td>\n",
              "      <td></td>\n",
              "      <td>Tiredness, drowsiness,  dizziness , loss of co...</td>\n",
              "      <td>0</td>\n",
              "    </tr>\n",
              "    <tr>\n",
              "      <th>191582</th>\n",
              "      <td>James Hughes</td>\n",
              "      <td>White</td>\n",
              "      <td>13-18</td>\n",
              "      <td>Migraine Prevention</td>\n",
              "      <td>8/9/2019</td>\n",
              "      <td>topamax</td>\n",
              "      <td>14494</td>\n",
              "      <td>1</td>\n",
              "      <td>1</td>\n",
              "      <td>I have been having migraines and headaches eve...</td>\n",
              "      <td>1</td>\n",
              "      <td></td>\n",
              "      <td>Tiredness, drowsiness,  dizziness , loss of co...</td>\n",
              "      <td>6</td>\n",
              "    </tr>\n",
              "    <tr>\n",
              "      <th>191589</th>\n",
              "      <td>Meghan Lloyd</td>\n",
              "      <td>Hispanic</td>\n",
              "      <td>65-74</td>\n",
              "      <td>Essential Tremor</td>\n",
              "      <td>7/21/2019</td>\n",
              "      <td>topamax</td>\n",
              "      <td>14494</td>\n",
              "      <td>4</td>\n",
              "      <td>4</td>\n",
              "      <td>This is the only medication I have taken for t...</td>\n",
              "      <td>3</td>\n",
              "      <td></td>\n",
              "      <td>Tiredness, drowsiness,  dizziness , loss of co...</td>\n",
              "      <td>0</td>\n",
              "    </tr>\n",
              "    <tr>\n",
              "      <th>191596</th>\n",
              "      <td>Jillian Dickerson</td>\n",
              "      <td>White</td>\n",
              "      <td>45-54</td>\n",
              "      <td>Migraine Prevention</td>\n",
              "      <td>4/30/2019</td>\n",
              "      <td>topamax</td>\n",
              "      <td>14494</td>\n",
              "      <td>5</td>\n",
              "      <td>5</td>\n",
              "      <td>I suffered from debilitating Cluster Headaches...</td>\n",
              "      <td>5</td>\n",
              "      <td></td>\n",
              "      <td>Tiredness, drowsiness,  dizziness , loss of co...</td>\n",
              "      <td>2</td>\n",
              "    </tr>\n",
              "  </tbody>\n",
              "</table>\n",
              "</div>\n",
              "      <button class=\"colab-df-convert\" onclick=\"convertToInteractive('df-c8311413-6089-4089-b4ab-77b3f23905f4')\"\n",
              "              title=\"Convert this dataframe to an interactive table.\"\n",
              "              style=\"display:none;\">\n",
              "        \n",
              "  <svg xmlns=\"http://www.w3.org/2000/svg\" height=\"24px\"viewBox=\"0 0 24 24\"\n",
              "       width=\"24px\">\n",
              "    <path d=\"M0 0h24v24H0V0z\" fill=\"none\"/>\n",
              "    <path d=\"M18.56 5.44l.94 2.06.94-2.06 2.06-.94-2.06-.94-.94-2.06-.94 2.06-2.06.94zm-11 1L8.5 8.5l.94-2.06 2.06-.94-2.06-.94L8.5 2.5l-.94 2.06-2.06.94zm10 10l.94 2.06.94-2.06 2.06-.94-2.06-.94-.94-2.06-.94 2.06-2.06.94z\"/><path d=\"M17.41 7.96l-1.37-1.37c-.4-.4-.92-.59-1.43-.59-.52 0-1.04.2-1.43.59L10.3 9.45l-7.72 7.72c-.78.78-.78 2.05 0 2.83L4 21.41c.39.39.9.59 1.41.59.51 0 1.02-.2 1.41-.59l7.78-7.78 2.81-2.81c.8-.78.8-2.07 0-2.86zM5.41 20L4 18.59l7.72-7.72 1.47 1.35L5.41 20z\"/>\n",
              "  </svg>\n",
              "      </button>\n",
              "      \n",
              "  <style>\n",
              "    .colab-df-container {\n",
              "      display:flex;\n",
              "      flex-wrap:wrap;\n",
              "      gap: 12px;\n",
              "    }\n",
              "\n",
              "    .colab-df-convert {\n",
              "      background-color: #E8F0FE;\n",
              "      border: none;\n",
              "      border-radius: 50%;\n",
              "      cursor: pointer;\n",
              "      display: none;\n",
              "      fill: #1967D2;\n",
              "      height: 32px;\n",
              "      padding: 0 0 0 0;\n",
              "      width: 32px;\n",
              "    }\n",
              "\n",
              "    .colab-df-convert:hover {\n",
              "      background-color: #E2EBFA;\n",
              "      box-shadow: 0px 1px 2px rgba(60, 64, 67, 0.3), 0px 1px 3px 1px rgba(60, 64, 67, 0.15);\n",
              "      fill: #174EA6;\n",
              "    }\n",
              "\n",
              "    [theme=dark] .colab-df-convert {\n",
              "      background-color: #3B4455;\n",
              "      fill: #D2E3FC;\n",
              "    }\n",
              "\n",
              "    [theme=dark] .colab-df-convert:hover {\n",
              "      background-color: #434B5C;\n",
              "      box-shadow: 0px 1px 3px 1px rgba(0, 0, 0, 0.15);\n",
              "      filter: drop-shadow(0px 1px 2px rgba(0, 0, 0, 0.3));\n",
              "      fill: #FFFFFF;\n",
              "    }\n",
              "  </style>\n",
              "\n",
              "      <script>\n",
              "        const buttonEl =\n",
              "          document.querySelector('#df-c8311413-6089-4089-b4ab-77b3f23905f4 button.colab-df-convert');\n",
              "        buttonEl.style.display =\n",
              "          google.colab.kernel.accessAllowed ? 'block' : 'none';\n",
              "\n",
              "        async function convertToInteractive(key) {\n",
              "          const element = document.querySelector('#df-c8311413-6089-4089-b4ab-77b3f23905f4');\n",
              "          const dataTable =\n",
              "            await google.colab.kernel.invokeFunction('convertToInteractive',\n",
              "                                                     [key], {});\n",
              "          if (!dataTable) return;\n",
              "\n",
              "          const docLinkHtml = 'Like what you see? Visit the ' +\n",
              "            '<a target=\"_blank\" href=https://colab.research.google.com/notebooks/data_table.ipynb>data table notebook</a>'\n",
              "            + ' to learn more about interactive tables.';\n",
              "          element.innerHTML = '';\n",
              "          dataTable['output_type'] = 'display_data';\n",
              "          await google.colab.output.renderOutput(dataTable, element);\n",
              "          const docLink = document.createElement('div');\n",
              "          docLink.innerHTML = docLinkHtml;\n",
              "          element.appendChild(docLink);\n",
              "        }\n",
              "      </script>\n",
              "    </div>\n",
              "  </div>\n",
              "  "
            ]
          },
          "metadata": {},
          "execution_count": 51
        }
      ]
    },
    {
      "cell_type": "code",
      "source": [
        "drug_topamax.shape"
      ],
      "metadata": {
        "colab": {
          "base_uri": "https://localhost:8080/"
        },
        "id": "OZGop9jow5J3",
        "outputId": "0dc5f302-2e34-4e49-f38d-7ca5498c0b48"
      },
      "execution_count": null,
      "outputs": [
        {
          "output_type": "execute_result",
          "data": {
            "text/plain": [
              "(2148, 14)"
            ]
          },
          "metadata": {},
          "execution_count": 52
        }
      ]
    },
    {
      "cell_type": "code",
      "source": [
        "drug_topamax['Condition'].value_counts()"
      ],
      "metadata": {
        "colab": {
          "base_uri": "https://localhost:8080/"
        },
        "id": "58BQHWTzw66X",
        "outputId": "dca9ac72-8966-4874-d379-2f9772de8c66"
      },
      "execution_count": null,
      "outputs": [
        {
          "output_type": "execute_result",
          "data": {
            "text/plain": [
              "Migraine Prevention                                1380\n",
              "Other                                               460\n",
              "Simple Partial Seizures                              68\n",
              "Convulsive Seizures                                  63\n",
              "Tonic-Clonic Epilepsy                                48\n",
              "Additional Medication to Treat Partial Seizures      48\n",
              "Habit of Drinking Too Much Alcohol                   27\n",
              "Essential Tremor                                     24\n",
              "Additional Medication for Tonic-Clonic Epilepsy      15\n",
              "Involuntary Quivering                                10\n",
              "Epilepsy of the Lennox Gastaut Syndrome               4\n",
              "Binge Eating Disorder                                 1\n",
              "Name: Condition, dtype: int64"
            ]
          },
          "metadata": {},
          "execution_count": 53
        }
      ]
    },
    {
      "cell_type": "code",
      "source": [
        "drug_topamax['Condition'].value_counts().sum()"
      ],
      "metadata": {
        "colab": {
          "base_uri": "https://localhost:8080/"
        },
        "id": "-uoCoONpw8j6",
        "outputId": "2a2245a2-d88f-4435-9064-94e8d580674a"
      },
      "execution_count": null,
      "outputs": [
        {
          "output_type": "execute_result",
          "data": {
            "text/plain": [
              "2148"
            ]
          },
          "metadata": {},
          "execution_count": 54
        }
      ]
    },
    {
      "cell_type": "code",
      "source": [
        "data_new = drug_topamax.copy()\n",
        "data_copy = data.copy()"
      ],
      "metadata": {
        "id": "VGvhAgN4w-vo"
      },
      "execution_count": null,
      "outputs": []
    },
    {
      "cell_type": "markdown",
      "source": [
        "**DATA PRE-PROCESSING**\n",
        "\n",
        "\n",
        "\n",
        "**1. HANDLING WHITESPACES**"
      ],
      "metadata": {
        "id": "YxZTOwhWxEoT"
      }
    },
    {
      "cell_type": "code",
      "source": [
        "# Handling instances with whitespaces\n",
        "for i in data_new:\n",
        "    data_new[i]=np.where(data_new[i]==\" \",np.NAN,data_new[i])"
      ],
      "metadata": {
        "id": "3M96Rio4xB9C"
      },
      "execution_count": null,
      "outputs": []
    },
    {
      "cell_type": "code",
      "source": [
        "data_new.head()"
      ],
      "metadata": {
        "colab": {
          "base_uri": "https://localhost:8080/",
          "height": 337
        },
        "id": "OpgetqkXxQyB",
        "outputId": "42536290-be42-422f-9bc3-4e66bbc3a82c"
      },
      "execution_count": null,
      "outputs": [
        {
          "output_type": "execute_result",
          "data": {
            "text/plain": [
              "                     Name      Race    Age                Condition  \\\n",
              "191568        David White     White  45-54      Migraine Prevention   \n",
              "191575     Matthew Nguyen     Black  35-44  Simple Partial Seizures   \n",
              "191582       James Hughes     White  13-18      Migraine Prevention   \n",
              "191589       Meghan Lloyd  Hispanic  65-74         Essential Tremor   \n",
              "191596  Jillian Dickerson     White  45-54      Migraine Prevention   \n",
              "\n",
              "             Date     Drug   DrugId  EaseofUse  Effectiveness  \\\n",
              "191568  9/22/2019  topamax  14494.0        4.0            4.0   \n",
              "191575   9/2/2019  topamax  14494.0        4.0            4.0   \n",
              "191582   8/9/2019  topamax  14494.0        1.0            1.0   \n",
              "191589  7/21/2019  topamax  14494.0        4.0            4.0   \n",
              "191596  4/30/2019  topamax  14494.0        5.0            5.0   \n",
              "\n",
              "                                                  Reviews  Satisfaction  Sex  \\\n",
              "191568  I was on this drug for 5 years, 100mg for the ...           1.0  NaN   \n",
              "191575  I have partial seizures. It didn't help for a ...           4.0  NaN   \n",
              "191582  I have been having migraines and headaches eve...           1.0  NaN   \n",
              "191589  This is the only medication I have taken for t...           3.0  NaN   \n",
              "191596  I suffered from debilitating Cluster Headaches...           5.0  NaN   \n",
              "\n",
              "                                                    Sides  UsefulCount  \n",
              "191568  Tiredness, drowsiness,  dizziness , loss of co...          5.0  \n",
              "191575  Tiredness, drowsiness,  dizziness , loss of co...          0.0  \n",
              "191582  Tiredness, drowsiness,  dizziness , loss of co...          6.0  \n",
              "191589  Tiredness, drowsiness,  dizziness , loss of co...          0.0  \n",
              "191596  Tiredness, drowsiness,  dizziness , loss of co...          2.0  "
            ],
            "text/html": [
              "\n",
              "  <div id=\"df-08d46402-ed18-4e70-b64f-a02058455aef\">\n",
              "    <div class=\"colab-df-container\">\n",
              "      <div>\n",
              "<style scoped>\n",
              "    .dataframe tbody tr th:only-of-type {\n",
              "        vertical-align: middle;\n",
              "    }\n",
              "\n",
              "    .dataframe tbody tr th {\n",
              "        vertical-align: top;\n",
              "    }\n",
              "\n",
              "    .dataframe thead th {\n",
              "        text-align: right;\n",
              "    }\n",
              "</style>\n",
              "<table border=\"1\" class=\"dataframe\">\n",
              "  <thead>\n",
              "    <tr style=\"text-align: right;\">\n",
              "      <th></th>\n",
              "      <th>Name</th>\n",
              "      <th>Race</th>\n",
              "      <th>Age</th>\n",
              "      <th>Condition</th>\n",
              "      <th>Date</th>\n",
              "      <th>Drug</th>\n",
              "      <th>DrugId</th>\n",
              "      <th>EaseofUse</th>\n",
              "      <th>Effectiveness</th>\n",
              "      <th>Reviews</th>\n",
              "      <th>Satisfaction</th>\n",
              "      <th>Sex</th>\n",
              "      <th>Sides</th>\n",
              "      <th>UsefulCount</th>\n",
              "    </tr>\n",
              "  </thead>\n",
              "  <tbody>\n",
              "    <tr>\n",
              "      <th>191568</th>\n",
              "      <td>David White</td>\n",
              "      <td>White</td>\n",
              "      <td>45-54</td>\n",
              "      <td>Migraine Prevention</td>\n",
              "      <td>9/22/2019</td>\n",
              "      <td>topamax</td>\n",
              "      <td>14494.0</td>\n",
              "      <td>4.0</td>\n",
              "      <td>4.0</td>\n",
              "      <td>I was on this drug for 5 years, 100mg for the ...</td>\n",
              "      <td>1.0</td>\n",
              "      <td>NaN</td>\n",
              "      <td>Tiredness, drowsiness,  dizziness , loss of co...</td>\n",
              "      <td>5.0</td>\n",
              "    </tr>\n",
              "    <tr>\n",
              "      <th>191575</th>\n",
              "      <td>Matthew Nguyen</td>\n",
              "      <td>Black</td>\n",
              "      <td>35-44</td>\n",
              "      <td>Simple Partial Seizures</td>\n",
              "      <td>9/2/2019</td>\n",
              "      <td>topamax</td>\n",
              "      <td>14494.0</td>\n",
              "      <td>4.0</td>\n",
              "      <td>4.0</td>\n",
              "      <td>I have partial seizures. It didn't help for a ...</td>\n",
              "      <td>4.0</td>\n",
              "      <td>NaN</td>\n",
              "      <td>Tiredness, drowsiness,  dizziness , loss of co...</td>\n",
              "      <td>0.0</td>\n",
              "    </tr>\n",
              "    <tr>\n",
              "      <th>191582</th>\n",
              "      <td>James Hughes</td>\n",
              "      <td>White</td>\n",
              "      <td>13-18</td>\n",
              "      <td>Migraine Prevention</td>\n",
              "      <td>8/9/2019</td>\n",
              "      <td>topamax</td>\n",
              "      <td>14494.0</td>\n",
              "      <td>1.0</td>\n",
              "      <td>1.0</td>\n",
              "      <td>I have been having migraines and headaches eve...</td>\n",
              "      <td>1.0</td>\n",
              "      <td>NaN</td>\n",
              "      <td>Tiredness, drowsiness,  dizziness , loss of co...</td>\n",
              "      <td>6.0</td>\n",
              "    </tr>\n",
              "    <tr>\n",
              "      <th>191589</th>\n",
              "      <td>Meghan Lloyd</td>\n",
              "      <td>Hispanic</td>\n",
              "      <td>65-74</td>\n",
              "      <td>Essential Tremor</td>\n",
              "      <td>7/21/2019</td>\n",
              "      <td>topamax</td>\n",
              "      <td>14494.0</td>\n",
              "      <td>4.0</td>\n",
              "      <td>4.0</td>\n",
              "      <td>This is the only medication I have taken for t...</td>\n",
              "      <td>3.0</td>\n",
              "      <td>NaN</td>\n",
              "      <td>Tiredness, drowsiness,  dizziness , loss of co...</td>\n",
              "      <td>0.0</td>\n",
              "    </tr>\n",
              "    <tr>\n",
              "      <th>191596</th>\n",
              "      <td>Jillian Dickerson</td>\n",
              "      <td>White</td>\n",
              "      <td>45-54</td>\n",
              "      <td>Migraine Prevention</td>\n",
              "      <td>4/30/2019</td>\n",
              "      <td>topamax</td>\n",
              "      <td>14494.0</td>\n",
              "      <td>5.0</td>\n",
              "      <td>5.0</td>\n",
              "      <td>I suffered from debilitating Cluster Headaches...</td>\n",
              "      <td>5.0</td>\n",
              "      <td>NaN</td>\n",
              "      <td>Tiredness, drowsiness,  dizziness , loss of co...</td>\n",
              "      <td>2.0</td>\n",
              "    </tr>\n",
              "  </tbody>\n",
              "</table>\n",
              "</div>\n",
              "      <button class=\"colab-df-convert\" onclick=\"convertToInteractive('df-08d46402-ed18-4e70-b64f-a02058455aef')\"\n",
              "              title=\"Convert this dataframe to an interactive table.\"\n",
              "              style=\"display:none;\">\n",
              "        \n",
              "  <svg xmlns=\"http://www.w3.org/2000/svg\" height=\"24px\"viewBox=\"0 0 24 24\"\n",
              "       width=\"24px\">\n",
              "    <path d=\"M0 0h24v24H0V0z\" fill=\"none\"/>\n",
              "    <path d=\"M18.56 5.44l.94 2.06.94-2.06 2.06-.94-2.06-.94-.94-2.06-.94 2.06-2.06.94zm-11 1L8.5 8.5l.94-2.06 2.06-.94-2.06-.94L8.5 2.5l-.94 2.06-2.06.94zm10 10l.94 2.06.94-2.06 2.06-.94-2.06-.94-.94-2.06-.94 2.06-2.06.94z\"/><path d=\"M17.41 7.96l-1.37-1.37c-.4-.4-.92-.59-1.43-.59-.52 0-1.04.2-1.43.59L10.3 9.45l-7.72 7.72c-.78.78-.78 2.05 0 2.83L4 21.41c.39.39.9.59 1.41.59.51 0 1.02-.2 1.41-.59l7.78-7.78 2.81-2.81c.8-.78.8-2.07 0-2.86zM5.41 20L4 18.59l7.72-7.72 1.47 1.35L5.41 20z\"/>\n",
              "  </svg>\n",
              "      </button>\n",
              "      \n",
              "  <style>\n",
              "    .colab-df-container {\n",
              "      display:flex;\n",
              "      flex-wrap:wrap;\n",
              "      gap: 12px;\n",
              "    }\n",
              "\n",
              "    .colab-df-convert {\n",
              "      background-color: #E8F0FE;\n",
              "      border: none;\n",
              "      border-radius: 50%;\n",
              "      cursor: pointer;\n",
              "      display: none;\n",
              "      fill: #1967D2;\n",
              "      height: 32px;\n",
              "      padding: 0 0 0 0;\n",
              "      width: 32px;\n",
              "    }\n",
              "\n",
              "    .colab-df-convert:hover {\n",
              "      background-color: #E2EBFA;\n",
              "      box-shadow: 0px 1px 2px rgba(60, 64, 67, 0.3), 0px 1px 3px 1px rgba(60, 64, 67, 0.15);\n",
              "      fill: #174EA6;\n",
              "    }\n",
              "\n",
              "    [theme=dark] .colab-df-convert {\n",
              "      background-color: #3B4455;\n",
              "      fill: #D2E3FC;\n",
              "    }\n",
              "\n",
              "    [theme=dark] .colab-df-convert:hover {\n",
              "      background-color: #434B5C;\n",
              "      box-shadow: 0px 1px 3px 1px rgba(0, 0, 0, 0.15);\n",
              "      filter: drop-shadow(0px 1px 2px rgba(0, 0, 0, 0.3));\n",
              "      fill: #FFFFFF;\n",
              "    }\n",
              "  </style>\n",
              "\n",
              "      <script>\n",
              "        const buttonEl =\n",
              "          document.querySelector('#df-08d46402-ed18-4e70-b64f-a02058455aef button.colab-df-convert');\n",
              "        buttonEl.style.display =\n",
              "          google.colab.kernel.accessAllowed ? 'block' : 'none';\n",
              "\n",
              "        async function convertToInteractive(key) {\n",
              "          const element = document.querySelector('#df-08d46402-ed18-4e70-b64f-a02058455aef');\n",
              "          const dataTable =\n",
              "            await google.colab.kernel.invokeFunction('convertToInteractive',\n",
              "                                                     [key], {});\n",
              "          if (!dataTable) return;\n",
              "\n",
              "          const docLinkHtml = 'Like what you see? Visit the ' +\n",
              "            '<a target=\"_blank\" href=https://colab.research.google.com/notebooks/data_table.ipynb>data table notebook</a>'\n",
              "            + ' to learn more about interactive tables.';\n",
              "          element.innerHTML = '';\n",
              "          dataTable['output_type'] = 'display_data';\n",
              "          await google.colab.output.renderOutput(dataTable, element);\n",
              "          const docLink = document.createElement('div');\n",
              "          docLink.innerHTML = docLinkHtml;\n",
              "          element.appendChild(docLink);\n",
              "        }\n",
              "      </script>\n",
              "    </div>\n",
              "  </div>\n",
              "  "
            ]
          },
          "metadata": {},
          "execution_count": 57
        }
      ]
    },
    {
      "cell_type": "markdown",
      "source": [
        "\n",
        "**2. MISSING VALUES**"
      ],
      "metadata": {
        "id": "ExoL0S9CzVQo"
      }
    },
    {
      "cell_type": "code",
      "source": [
        "#checking missing values\n",
        "data_new.isnull().sum()"
      ],
      "metadata": {
        "colab": {
          "base_uri": "https://localhost:8080/"
        },
        "id": "sCP-3en4xSAm",
        "outputId": "c687a0af-20b2-4643-e9e1-6a9f3aaaab12"
      },
      "execution_count": null,
      "outputs": [
        {
          "output_type": "execute_result",
          "data": {
            "text/plain": [
              "Name               0\n",
              "Race               0\n",
              "Age               75\n",
              "Condition          0\n",
              "Date               0\n",
              "Drug               0\n",
              "DrugId             0\n",
              "EaseofUse          0\n",
              "Effectiveness      0\n",
              "Reviews          200\n",
              "Satisfaction       0\n",
              "Sex              103\n",
              "Sides              0\n",
              "UsefulCount        0\n",
              "dtype: int64"
            ]
          },
          "metadata": {},
          "execution_count": 58
        }
      ]
    },
    {
      "cell_type": "markdown",
      "source": [
        "**Bar plot showing the null value count of each feature**"
      ],
      "metadata": {
        "id": "GA4bkuqwzda-"
      }
    },
    {
      "cell_type": "code",
      "source": [
        "missing = (data_new.isnull().sum()).sort_values(ascending=False)\n",
        "missing.plot(kind=\"bar\", figsize = (12,6), fontsize = 10, color='violet')\n",
        "plt.xlabel(\"Columns\", fontsize = 20)\n",
        "plt.ylabel(\"\", fontsize = 20)\n",
        "plt.title(\"Total Missing Values\", fontsize = 20)"
      ],
      "metadata": {
        "colab": {
          "base_uri": "https://localhost:8080/",
          "height": 682
        },
        "id": "WNLChAytzcq8",
        "outputId": "0fa5b181-bc33-421a-981d-19c5147edeb6"
      },
      "execution_count": null,
      "outputs": [
        {
          "output_type": "execute_result",
          "data": {
            "text/plain": [
              "Text(0.5, 1.0, 'Total Missing Values')"
            ]
          },
          "metadata": {},
          "execution_count": 60
        },
        {
          "output_type": "display_data",
          "data": {
            "text/plain": [
              "<Figure size 1200x600 with 1 Axes>"
            ],
            "image/png": "[encoded data removed]"
          },
          "metadata": {}
        }
      ]
    },
    {
      "cell_type": "code",
      "source": [
        "# Removing rows with null data\n",
        "data_new=data_new.dropna(axis=0)\n",
        "\n",
        "data_new.isnull().sum()"
      ],
      "metadata": {
        "colab": {
          "base_uri": "https://localhost:8080/"
        },
        "id": "TK7lskg6zjDZ",
        "outputId": "b17ada4b-88d5-4cac-f4ec-bce98fedf44e"
      },
      "execution_count": null,
      "outputs": [
        {
          "output_type": "execute_result",
          "data": {
            "text/plain": [
              "Name             0\n",
              "Race             0\n",
              "Age              0\n",
              "Condition        0\n",
              "Date             0\n",
              "Drug             0\n",
              "DrugId           0\n",
              "EaseofUse        0\n",
              "Effectiveness    0\n",
              "Reviews          0\n",
              "Satisfaction     0\n",
              "Sex              0\n",
              "Sides            0\n",
              "UsefulCount      0\n",
              "dtype: int64"
            ]
          },
          "metadata": {},
          "execution_count": 61
        }
      ]
    },
    {
      "cell_type": "code",
      "source": [
        "data_new.shape"
      ],
      "metadata": {
        "colab": {
          "base_uri": "https://localhost:8080/"
        },
        "id": "OzPtqh8szoGd",
        "outputId": "5e0fc142-4f22-4025-edfd-0d8cb8019664"
      },
      "execution_count": null,
      "outputs": [
        {
          "output_type": "execute_result",
          "data": {
            "text/plain": [
              "(1830, 14)"
            ]
          },
          "metadata": {},
          "execution_count": 62
        }
      ]
    },
    {
      "cell_type": "markdown",
      "source": [
        "**3.GENDER**"
      ],
      "metadata": {
        "id": "fgRaV2gtzr-V"
      }
    },
    {
      "cell_type": "code",
      "source": [
        "data_new['Sex'].value_counts()"
      ],
      "metadata": {
        "colab": {
          "base_uri": "https://localhost:8080/"
        },
        "id": "KyODUjkRzw80",
        "outputId": "786ea8d9-8ae1-4e53-f238-fa9a44f6073b"
      },
      "execution_count": null,
      "outputs": [
        {
          "output_type": "execute_result",
          "data": {
            "text/plain": [
              "Female    1669\n",
              "Male       161\n",
              "Name: Sex, dtype: int64"
            ]
          },
          "metadata": {},
          "execution_count": 65
        }
      ]
    },
    {
      "cell_type": "markdown",
      "source": [
        "**4.HANDLING AGE GROUP**"
      ],
      "metadata": {
        "id": "lE-MtN_x0LtN"
      }
    },
    {
      "cell_type": "code",
      "source": [
        "data_new['Age'].value_counts()\n"
      ],
      "metadata": {
        "colab": {
          "base_uri": "https://localhost:8080/"
        },
        "id": "xg7kvtzB0E37",
        "outputId": "bfb56c96-0c8e-4c9a-c307-153d550924f4"
      },
      "execution_count": null,
      "outputs": [
        {
          "output_type": "execute_result",
          "data": {
            "text/plain": [
              "45-54         463\n",
              "35-44         455\n",
              "25-34         423\n",
              "55-64         196\n",
              "19-24         184\n",
              "13-18          51\n",
              "65-74          37\n",
              "7-12            8\n",
              "75 or over      8\n",
              "3-6             3\n",
              "0-2             2\n",
              "Name: Age, dtype: int64"
            ]
          },
          "metadata": {},
          "execution_count": 66
        }
      ]
    },
    {
      "cell_type": "code",
      "source": [
        "data_new['Age'].unique()\n"
      ],
      "metadata": {
        "colab": {
          "base_uri": "https://localhost:8080/"
        },
        "id": "lk0a2DED0SgD",
        "outputId": "8a1f5d47-2a3e-492c-fb98-a5f27e1a8083"
      },
      "execution_count": null,
      "outputs": [
        {
          "output_type": "execute_result",
          "data": {
            "text/plain": [
              "array(['7-12', '25-34', '45-54', '65-74', '55-64', '35-44', '19-24',\n",
              "       '13-18', '75 or over', '3-6', '0-2'], dtype=object)"
            ]
          },
          "metadata": {},
          "execution_count": 67
        }
      ]
    },
    {
      "cell_type": "code",
      "source": [
        "data_new['Age']=data_new['Age'].str.replace('75 or over','75-100')\n"
      ],
      "metadata": {
        "id": "S1mB3PRN0Vh2"
      },
      "execution_count": null,
      "outputs": []
    },
    {
      "cell_type": "code",
      "source": [
        "data_new['Age'].value_counts()\n"
      ],
      "metadata": {
        "colab": {
          "base_uri": "https://localhost:8080/"
        },
        "id": "v47Fyeks0Xf8",
        "outputId": "8729f896-bde1-4ffc-f86f-43c217ab7a6a"
      },
      "execution_count": null,
      "outputs": [
        {
          "output_type": "execute_result",
          "data": {
            "text/plain": [
              "45-54     463\n",
              "35-44     455\n",
              "25-34     423\n",
              "55-64     196\n",
              "19-24     184\n",
              "13-18      51\n",
              "65-74      37\n",
              "7-12        8\n",
              "75-100      8\n",
              "3-6         3\n",
              "0-2         2\n",
              "Name: Age, dtype: int64"
            ]
          },
          "metadata": {},
          "execution_count": 69
        }
      ]
    },
    {
      "cell_type": "markdown",
      "source": [
        "**5.OUTLIER DETECTION**"
      ],
      "metadata": {
        "id": "MpAQ8eiw1JL8"
      }
    },
    {
      "cell_type": "code",
      "source": [
        "plt.figure(figsize=(10,6))\n",
        "\n",
        "plt.subplot(2,2,1)\n",
        "plt.boxplot(data_new[\"EaseofUse\"])\n",
        "plt.title(\" Ease Of Use\")\n",
        "\n",
        "plt.subplot(2,2,2)\n",
        "plt.boxplot(data_new[\"Effectiveness\"])\n",
        "plt.title(\" Effectiveness\")\n",
        "\n",
        "plt.subplot(2,2,3)\n",
        "plt.boxplot(data_new[\"Satisfaction\"])\n",
        "plt.title(\" Satisfaction\")\n",
        "\n",
        "plt.subplot(2,2,4)\n",
        "plt.boxplot(data_new[\"UsefulCount\"])\n",
        "plt.title(\" Useful Count\")\n",
        "plt.show()"
      ],
      "metadata": {
        "colab": {
          "base_uri": "https://localhost:8080/",
          "height": 545
        },
        "id": "b2JPqDFd1MRr",
        "outputId": "d4f14223-327e-4d85-b2ff-6b880e23a072"
      },
      "execution_count": null,
      "outputs": [
        {
          "output_type": "display_data",
          "data": {
            "text/plain": [
              "<Figure size 1000x600 with 4 Axes>"
            ],
            "image/png": "[encoded data removed]"
          },
          "metadata": {}
        }
      ]
    },
    {
      "cell_type": "markdown",
      "source": [
        "**Insight:**\n",
        "Outliers are present in EaseofUse and UsefulCount columns.\n",
        "\n"
      ],
      "metadata": {
        "id": "9M5tjTkt1R11"
      }
    },
    {
      "cell_type": "markdown",
      "source": [
        "**Removing outliers**"
      ],
      "metadata": {
        "id": "Z-lW_Kho1b-Z"
      }
    },
    {
      "cell_type": "code",
      "source": [
        "# define a function called 'outliers' which returns a list of outliers\n",
        "def outliers(df,ft):\n",
        "    Q1=df[ft].quantile(0.25)\n",
        "    Q3=df[ft].quantile(0.75)\n",
        "    IQR=Q3-Q1\n",
        "    lower=Q1-1.5*IQR\n",
        "    upper=Q3+1.5*IQR\n",
        "#create list to store indexes of outliers\n",
        "    ls= df.index[(df[ft]<lower) | (df[ft]>upper)]\n",
        "    return ls"
      ],
      "metadata": {
        "id": "b2iL8uKx1PRR"
      },
      "execution_count": null,
      "outputs": []
    },
    {
      "cell_type": "code",
      "source": [
        "#create an empty list to store indexes from multiple columns\n",
        "index_list=[]\n",
        "for feature in ['UsefulCount', 'EaseofUse']:\n",
        "    index_list.extend(outliers(data_new,feature))\n",
        "index_list"
      ],
      "metadata": {
        "colab": {
          "base_uri": "https://localhost:8080/"
        },
        "id": "84LnyYOp1fzv",
        "outputId": "3c4af1a2-01ef-4fb4-abae-c890078a9763"
      },
      "execution_count": null,
      "outputs": [
        {
          "output_type": "execute_result",
          "data": {
            "text/plain": [
              "[191785,\n",
              " 191911,\n",
              " 191925,\n",
              " 191939,\n",
              " 192009,\n",
              " 192016,\n",
              " 192023,\n",
              " 192030,\n",
              " 192058,\n",
              " 192275,\n",
              " 192317,\n",
              " 192492,\n",
              " 192888,\n",
              " 193037,\n",
              " 193082,\n",
              " 193286,\n",
              " 193316,\n",
              " 193319,\n",
              " 193337,\n",
              " 193340,\n",
              " 193472,\n",
              " 193502,\n",
              " 193505,\n",
              " 193508,\n",
              " 193520,\n",
              " 193535,\n",
              " 193571,\n",
              " 194130,\n",
              " 194146,\n",
              " 194264,\n",
              " 194282,\n",
              " 194300,\n",
              " 194336,\n",
              " 194344,\n",
              " 194390,\n",
              " 194496,\n",
              " 194740,\n",
              " 194818,\n",
              " 194890,\n",
              " 194914,\n",
              " 194946,\n",
              " 195358,\n",
              " 195382,\n",
              " 195420,\n",
              " 195448,\n",
              " 195494,\n",
              " 195526,\n",
              " 195940,\n",
              " 195988,\n",
              " 196040,\n",
              " 196076,\n",
              " 196134,\n",
              " 196162,\n",
              " 196340,\n",
              " 196400,\n",
              " 196410,\n",
              " 196510,\n",
              " 196756,\n",
              " 196774,\n",
              " 197000,\n",
              " 197184,\n",
              " 197188,\n",
              " 197198,\n",
              " 191624,\n",
              " 191631,\n",
              " 191757,\n",
              " 191862,\n",
              " 191911,\n",
              " 191939,\n",
              " 192128,\n",
              " 192135,\n",
              " 192142,\n",
              " 192163,\n",
              " 192219,\n",
              " 192226,\n",
              " 192289,\n",
              " 192303,\n",
              " 192317,\n",
              " 192324,\n",
              " 192457,\n",
              " 192485,\n",
              " 192499,\n",
              " 192527,\n",
              " 192548,\n",
              " 192674,\n",
              " 192737,\n",
              " 192779,\n",
              " 192800,\n",
              " 192929,\n",
              " 192959,\n",
              " 192965,\n",
              " 193022,\n",
              " 193025,\n",
              " 193031,\n",
              " 193055,\n",
              " 193085,\n",
              " 193118,\n",
              " 193124,\n",
              " 193151,\n",
              " 193178,\n",
              " 193274,\n",
              " 193331,\n",
              " 193352,\n",
              " 193394,\n",
              " 193436,\n",
              " 193445,\n",
              " 193514,\n",
              " 193517,\n",
              " 193586,\n",
              " 193607,\n",
              " 193616,\n",
              " 193628,\n",
              " 193631,\n",
              " 193649,\n",
              " 193661,\n",
              " 193667,\n",
              " 193679,\n",
              " 193700,\n",
              " 193703,\n",
              " 193730,\n",
              " 193787,\n",
              " 193838,\n",
              " 193907,\n",
              " 193919,\n",
              " 193922,\n",
              " 193925,\n",
              " 194063,\n",
              " 194084,\n",
              " 194110,\n",
              " 194126,\n",
              " 194156,\n",
              " 194178,\n",
              " 194190,\n",
              " 194192,\n",
              " 194202,\n",
              " 194210,\n",
              " 194212,\n",
              " 194234,\n",
              " 194274,\n",
              " 194292,\n",
              " 194314,\n",
              " 194334,\n",
              " 194338,\n",
              " 194350,\n",
              " 194374,\n",
              " 194378,\n",
              " 194412,\n",
              " 194426,\n",
              " 194482,\n",
              " 194492,\n",
              " 194508,\n",
              " 194558,\n",
              " 194576,\n",
              " 194592,\n",
              " 194658,\n",
              " 194662,\n",
              " 194672,\n",
              " 194684,\n",
              " 194692,\n",
              " 194698,\n",
              " 194718,\n",
              " 194720,\n",
              " 194786,\n",
              " 194832,\n",
              " 194834,\n",
              " 194844,\n",
              " 194882,\n",
              " 194898,\n",
              " 194910,\n",
              " 194912,\n",
              " 194926,\n",
              " 194950,\n",
              " 194954,\n",
              " 194974,\n",
              " 195030,\n",
              " 195032,\n",
              " 195050,\n",
              " 195054,\n",
              " 195066,\n",
              " 195078,\n",
              " 195092,\n",
              " 195096,\n",
              " 195122,\n",
              " 195126,\n",
              " 195138,\n",
              " 195156,\n",
              " 195158,\n",
              " 195166,\n",
              " 195212,\n",
              " 195276,\n",
              " 195286,\n",
              " 195312,\n",
              " 195354,\n",
              " 195370,\n",
              " 195378,\n",
              " 195402,\n",
              " 195406,\n",
              " 195460,\n",
              " 195462,\n",
              " 195464,\n",
              " 195548,\n",
              " 195552,\n",
              " 195584,\n",
              " 195602,\n",
              " 195606,\n",
              " 195610,\n",
              " 195652,\n",
              " 195666,\n",
              " 195668,\n",
              " 195670,\n",
              " 195682,\n",
              " 195690,\n",
              " 195722,\n",
              " 195734,\n",
              " 195770,\n",
              " 195776,\n",
              " 195796,\n",
              " 195802,\n",
              " 195828,\n",
              " 195848,\n",
              " 195852,\n",
              " 195886,\n",
              " 195892,\n",
              " 195926,\n",
              " 195954,\n",
              " 195964,\n",
              " 195970,\n",
              " 195984,\n",
              " 195994,\n",
              " 196000,\n",
              " 196010,\n",
              " 196020,\n",
              " 196038,\n",
              " 196044,\n",
              " 196046,\n",
              " 196088,\n",
              " 196106,\n",
              " 196108,\n",
              " 196150,\n",
              " 196172,\n",
              " 196230,\n",
              " 196236,\n",
              " 196240,\n",
              " 196336,\n",
              " 196352,\n",
              " 196364,\n",
              " 196380,\n",
              " 196404,\n",
              " 196420,\n",
              " 196424,\n",
              " 196428,\n",
              " 196460,\n",
              " 196504,\n",
              " 196556,\n",
              " 196602,\n",
              " 196620,\n",
              " 196662,\n",
              " 196678,\n",
              " 196682,\n",
              " 196700,\n",
              " 196706,\n",
              " 196766,\n",
              " 196778,\n",
              " 196820,\n",
              " 196834,\n",
              " 196856,\n",
              " 196872,\n",
              " 196878,\n",
              " 196884,\n",
              " 196896,\n",
              " 196914,\n",
              " 196926,\n",
              " 196928,\n",
              " 196986,\n",
              " 197008,\n",
              " 197010,\n",
              " 197016,\n",
              " 197048,\n",
              " 197070,\n",
              " 197076,\n",
              " 197086,\n",
              " 197152,\n",
              " 197154,\n",
              " 197164,\n",
              " 197195]"
            ]
          },
          "metadata": {},
          "execution_count": 72
        }
      ]
    },
    {
      "cell_type": "code",
      "source": [
        "#define a function called 'remove' which returns a cleaned data without outliers\n",
        "def remove(df,ls):\n",
        "    ls=sorted(set(ls)) #to sort and remove multiple copies(to get unique)\n",
        "    df=df.drop(ls)\n",
        "    return df"
      ],
      "metadata": {
        "id": "tltUwu4s1hqz"
      },
      "execution_count": null,
      "outputs": []
    },
    {
      "cell_type": "code",
      "source": [
        "data_new.shape"
      ],
      "metadata": {
        "colab": {
          "base_uri": "https://localhost:8080/"
        },
        "id": "-0BranqE1lGs",
        "outputId": "df1018c6-6565-4941-98e9-d89f56dcddc2"
      },
      "execution_count": null,
      "outputs": [
        {
          "output_type": "execute_result",
          "data": {
            "text/plain": [
              "(1830, 14)"
            ]
          },
          "metadata": {},
          "execution_count": 74
        }
      ]
    },
    {
      "cell_type": "code",
      "source": [
        "data_new=remove(data_new,index_list)"
      ],
      "metadata": {
        "id": "nhUbldbI1mlg"
      },
      "execution_count": null,
      "outputs": []
    },
    {
      "cell_type": "code",
      "source": [
        "data_new.shape"
      ],
      "metadata": {
        "colab": {
          "base_uri": "https://localhost:8080/"
        },
        "id": "uOcnHLW-1oP0",
        "outputId": "2467f7de-bc9b-46d0-e915-9d8ccdaa6577"
      },
      "execution_count": null,
      "outputs": [
        {
          "output_type": "execute_result",
          "data": {
            "text/plain": [
              "(1548, 14)"
            ]
          },
          "metadata": {},
          "execution_count": 76
        }
      ]
    },
    {
      "cell_type": "markdown",
      "source": [
        "**UsefulCount and EasofUse columns post outliers removal**"
      ],
      "metadata": {
        "id": "5Z6EHsVI1u74"
      }
    },
    {
      "cell_type": "code",
      "source": [
        "plt.boxplot(data_new[\"UsefulCount\"])\n",
        "plt.title('Box plot of Useful Count')"
      ],
      "metadata": {
        "colab": {
          "base_uri": "https://localhost:8080/",
          "height": 469
        },
        "id": "xaVqO-mz1smH",
        "outputId": "18398742-e9f4-4211-9829-77b706429ebd"
      },
      "execution_count": null,
      "outputs": [
        {
          "output_type": "execute_result",
          "data": {
            "text/plain": [
              "Text(0.5, 1.0, 'Box plot of Useful Count')"
            ]
          },
          "metadata": {},
          "execution_count": 77
        },
        {
          "output_type": "display_data",
          "data": {
            "text/plain": [
              "<Figure size 640x480 with 1 Axes>"
            ],
            "image/png": "[encoded data removed]"
          },
          "metadata": {}
        }
      ]
    },
    {
      "cell_type": "code",
      "source": [
        "plt.boxplot(data_new[\"EaseofUse\"])\n",
        "plt.title('Box plot of Ease Of Use')"
      ],
      "metadata": {
        "colab": {
          "base_uri": "https://localhost:8080/",
          "height": 469
        },
        "id": "mnNApbtC1ysD",
        "outputId": "fd8dcb7b-6862-4b77-d3b3-48232b399314"
      },
      "execution_count": null,
      "outputs": [
        {
          "output_type": "execute_result",
          "data": {
            "text/plain": [
              "Text(0.5, 1.0, 'Box plot of Ease Of Use')"
            ]
          },
          "metadata": {},
          "execution_count": 78
        },
        {
          "output_type": "display_data",
          "data": {
            "text/plain": [
              "<Figure size 640x480 with 1 Axes>"
            ],
            "image/png": "[encoded data removed]"
          },
          "metadata": {}
        }
      ]
    },
    {
      "cell_type": "markdown",
      "source": [
        "**Satisfaction column**"
      ],
      "metadata": {
        "id": "hfV8FqOO12iC"
      }
    },
    {
      "cell_type": "code",
      "source": [
        "data_new['Satisfaction'].value_counts()\n"
      ],
      "metadata": {
        "colab": {
          "base_uri": "https://localhost:8080/"
        },
        "id": "nsE3yRK-10Fs",
        "outputId": "1e20b189-77ff-4630-819a-fdb3cbfcb778"
      },
      "execution_count": null,
      "outputs": [
        {
          "output_type": "execute_result",
          "data": {
            "text/plain": [
              "5.0    545\n",
              "4.0    334\n",
              "1.0    309\n",
              "3.0    229\n",
              "2.0    130\n",
              "6.0      1\n",
              "Name: Satisfaction, dtype: int64"
            ]
          },
          "metadata": {},
          "execution_count": 79
        }
      ]
    },
    {
      "cell_type": "code",
      "source": [
        "data_new[data_new['Satisfaction'] > 5]\n"
      ],
      "metadata": {
        "colab": {
          "base_uri": "https://localhost:8080/",
          "height": 142
        },
        "id": "6f66YSzu16cD",
        "outputId": "d708f0f1-e876-4209-8f59-9739619a9a79"
      },
      "execution_count": null,
      "outputs": [
        {
          "output_type": "execute_result",
          "data": {
            "text/plain": [
              "                 Name   Race    Age            Condition       Date     Drug  \\\n",
              "195282  Teresa Martin  Black  35-44  Migraine Prevention  5/18/2009  topamax   \n",
              "\n",
              "         DrugId  EaseofUse  Effectiveness  \\\n",
              "195282  14494.0        6.0            6.0   \n",
              "\n",
              "                                                  Reviews  Satisfaction  \\\n",
              "195282  ahoj som zo slovenska dlhe roky mam migreny tu...           6.0   \n",
              "\n",
              "           Sex                                              Sides  UsefulCount  \n",
              "195282  Female  Tiredness, drowsiness,  dizziness , loss of co...          0.0  "
            ],
            "text/html": [
              "\n",
              "  <div id=\"df-50054417-9a32-45c2-8df7-b7830c168589\">\n",
              "    <div class=\"colab-df-container\">\n",
              "      <div>\n",
              "<style scoped>\n",
              "    .dataframe tbody tr th:only-of-type {\n",
              "        vertical-align: middle;\n",
              "    }\n",
              "\n",
              "    .dataframe tbody tr th {\n",
              "        vertical-align: top;\n",
              "    }\n",
              "\n",
              "    .dataframe thead th {\n",
              "        text-align: right;\n",
              "    }\n",
              "</style>\n",
              "<table border=\"1\" class=\"dataframe\">\n",
              "  <thead>\n",
              "    <tr style=\"text-align: right;\">\n",
              "      <th></th>\n",
              "      <th>Name</th>\n",
              "      <th>Race</th>\n",
              "      <th>Age</th>\n",
              "      <th>Condition</th>\n",
              "      <th>Date</th>\n",
              "      <th>Drug</th>\n",
              "      <th>DrugId</th>\n",
              "      <th>EaseofUse</th>\n",
              "      <th>Effectiveness</th>\n",
              "      <th>Reviews</th>\n",
              "      <th>Satisfaction</th>\n",
              "      <th>Sex</th>\n",
              "      <th>Sides</th>\n",
              "      <th>UsefulCount</th>\n",
              "    </tr>\n",
              "  </thead>\n",
              "  <tbody>\n",
              "    <tr>\n",
              "      <th>195282</th>\n",
              "      <td>Teresa Martin</td>\n",
              "      <td>Black</td>\n",
              "      <td>35-44</td>\n",
              "      <td>Migraine Prevention</td>\n",
              "      <td>5/18/2009</td>\n",
              "      <td>topamax</td>\n",
              "      <td>14494.0</td>\n",
              "      <td>6.0</td>\n",
              "      <td>6.0</td>\n",
              "      <td>ahoj som zo slovenska dlhe roky mam migreny tu...</td>\n",
              "      <td>6.0</td>\n",
              "      <td>Female</td>\n",
              "      <td>Tiredness, drowsiness,  dizziness , loss of co...</td>\n",
              "      <td>0.0</td>\n",
              "    </tr>\n",
              "  </tbody>\n",
              "</table>\n",
              "</div>\n",
              "      <button class=\"colab-df-convert\" onclick=\"convertToInteractive('df-50054417-9a32-45c2-8df7-b7830c168589')\"\n",
              "              title=\"Convert this dataframe to an interactive table.\"\n",
              "              style=\"display:none;\">\n",
              "        \n",
              "  <svg xmlns=\"http://www.w3.org/2000/svg\" height=\"24px\"viewBox=\"0 0 24 24\"\n",
              "       width=\"24px\">\n",
              "    <path d=\"M0 0h24v24H0V0z\" fill=\"none\"/>\n",
              "    <path d=\"M18.56 5.44l.94 2.06.94-2.06 2.06-.94-2.06-.94-.94-2.06-.94 2.06-2.06.94zm-11 1L8.5 8.5l.94-2.06 2.06-.94-2.06-.94L8.5 2.5l-.94 2.06-2.06.94zm10 10l.94 2.06.94-2.06 2.06-.94-2.06-.94-.94-2.06-.94 2.06-2.06.94z\"/><path d=\"M17.41 7.96l-1.37-1.37c-.4-.4-.92-.59-1.43-.59-.52 0-1.04.2-1.43.59L10.3 9.45l-7.72 7.72c-.78.78-.78 2.05 0 2.83L4 21.41c.39.39.9.59 1.41.59.51 0 1.02-.2 1.41-.59l7.78-7.78 2.81-2.81c.8-.78.8-2.07 0-2.86zM5.41 20L4 18.59l7.72-7.72 1.47 1.35L5.41 20z\"/>\n",
              "  </svg>\n",
              "      </button>\n",
              "      \n",
              "  <style>\n",
              "    .colab-df-container {\n",
              "      display:flex;\n",
              "      flex-wrap:wrap;\n",
              "      gap: 12px;\n",
              "    }\n",
              "\n",
              "    .colab-df-convert {\n",
              "      background-color: #E8F0FE;\n",
              "      border: none;\n",
              "      border-radius: 50%;\n",
              "      cursor: pointer;\n",
              "      display: none;\n",
              "      fill: #1967D2;\n",
              "      height: 32px;\n",
              "      padding: 0 0 0 0;\n",
              "      width: 32px;\n",
              "    }\n",
              "\n",
              "    .colab-df-convert:hover {\n",
              "      background-color: #E2EBFA;\n",
              "      box-shadow: 0px 1px 2px rgba(60, 64, 67, 0.3), 0px 1px 3px 1px rgba(60, 64, 67, 0.15);\n",
              "      fill: #174EA6;\n",
              "    }\n",
              "\n",
              "    [theme=dark] .colab-df-convert {\n",
              "      background-color: #3B4455;\n",
              "      fill: #D2E3FC;\n",
              "    }\n",
              "\n",
              "    [theme=dark] .colab-df-convert:hover {\n",
              "      background-color: #434B5C;\n",
              "      box-shadow: 0px 1px 3px 1px rgba(0, 0, 0, 0.15);\n",
              "      filter: drop-shadow(0px 1px 2px rgba(0, 0, 0, 0.3));\n",
              "      fill: #FFFFFF;\n",
              "    }\n",
              "  </style>\n",
              "\n",
              "      <script>\n",
              "        const buttonEl =\n",
              "          document.querySelector('#df-50054417-9a32-45c2-8df7-b7830c168589 button.colab-df-convert');\n",
              "        buttonEl.style.display =\n",
              "          google.colab.kernel.accessAllowed ? 'block' : 'none';\n",
              "\n",
              "        async function convertToInteractive(key) {\n",
              "          const element = document.querySelector('#df-50054417-9a32-45c2-8df7-b7830c168589');\n",
              "          const dataTable =\n",
              "            await google.colab.kernel.invokeFunction('convertToInteractive',\n",
              "                                                     [key], {});\n",
              "          if (!dataTable) return;\n",
              "\n",
              "          const docLinkHtml = 'Like what you see? Visit the ' +\n",
              "            '<a target=\"_blank\" href=https://colab.research.google.com/notebooks/data_table.ipynb>data table notebook</a>'\n",
              "            + ' to learn more about interactive tables.';\n",
              "          element.innerHTML = '';\n",
              "          dataTable['output_type'] = 'display_data';\n",
              "          await google.colab.output.renderOutput(dataTable, element);\n",
              "          const docLink = document.createElement('div');\n",
              "          docLink.innerHTML = docLinkHtml;\n",
              "          element.appendChild(docLink);\n",
              "        }\n",
              "      </script>\n",
              "    </div>\n",
              "  </div>\n",
              "  "
            ]
          },
          "metadata": {},
          "execution_count": 80
        }
      ]
    },
    {
      "cell_type": "markdown",
      "source": [
        "**Deleting values greater than 5 from Satisfaction column**"
      ],
      "metadata": {
        "id": "IgwlVH2C1944"
      }
    },
    {
      "cell_type": "code",
      "source": [
        "data_new.drop(labels = data_new[data_new['Satisfaction'] == 6].index, axis = 0, inplace = True)\n",
        "data_new[data_new['Satisfaction'] == 6]\n"
      ],
      "metadata": {
        "colab": {
          "base_uri": "https://localhost:8080/",
          "height": 49
        },
        "id": "enQCopfs17q9",
        "outputId": "a7567ce1-2e6d-43c4-ab3d-dd6035f0c47b"
      },
      "execution_count": null,
      "outputs": [
        {
          "output_type": "execute_result",
          "data": {
            "text/plain": [
              "Empty DataFrame\n",
              "Columns: [Name, Race, Age, Condition, Date, Drug, DrugId, EaseofUse, Effectiveness, Reviews, Satisfaction, Sex, Sides, UsefulCount]\n",
              "Index: []"
            ],
            "text/html": [
              "\n",
              "  <div id=\"df-8e61ca04-3058-4a8b-bb97-ddaf2cb7c723\">\n",
              "    <div class=\"colab-df-container\">\n",
              "      <div>\n",
              "<style scoped>\n",
              "    .dataframe tbody tr th:only-of-type {\n",
              "        vertical-align: middle;\n",
              "    }\n",
              "\n",
              "    .dataframe tbody tr th {\n",
              "        vertical-align: top;\n",
              "    }\n",
              "\n",
              "    .dataframe thead th {\n",
              "        text-align: right;\n",
              "    }\n",
              "</style>\n",
              "<table border=\"1\" class=\"dataframe\">\n",
              "  <thead>\n",
              "    <tr style=\"text-align: right;\">\n",
              "      <th></th>\n",
              "      <th>Name</th>\n",
              "      <th>Race</th>\n",
              "      <th>Age</th>\n",
              "      <th>Condition</th>\n",
              "      <th>Date</th>\n",
              "      <th>Drug</th>\n",
              "      <th>DrugId</th>\n",
              "      <th>EaseofUse</th>\n",
              "      <th>Effectiveness</th>\n",
              "      <th>Reviews</th>\n",
              "      <th>Satisfaction</th>\n",
              "      <th>Sex</th>\n",
              "      <th>Sides</th>\n",
              "      <th>UsefulCount</th>\n",
              "    </tr>\n",
              "  </thead>\n",
              "  <tbody>\n",
              "  </tbody>\n",
              "</table>\n",
              "</div>\n",
              "      <button class=\"colab-df-convert\" onclick=\"convertToInteractive('df-8e61ca04-3058-4a8b-bb97-ddaf2cb7c723')\"\n",
              "              title=\"Convert this dataframe to an interactive table.\"\n",
              "              style=\"display:none;\">\n",
              "        \n",
              "  <svg xmlns=\"http://www.w3.org/2000/svg\" height=\"24px\"viewBox=\"0 0 24 24\"\n",
              "       width=\"24px\">\n",
              "    <path d=\"M0 0h24v24H0V0z\" fill=\"none\"/>\n",
              "    <path d=\"M18.56 5.44l.94 2.06.94-2.06 2.06-.94-2.06-.94-.94-2.06-.94 2.06-2.06.94zm-11 1L8.5 8.5l.94-2.06 2.06-.94-2.06-.94L8.5 2.5l-.94 2.06-2.06.94zm10 10l.94 2.06.94-2.06 2.06-.94-2.06-.94-.94-2.06-.94 2.06-2.06.94z\"/><path d=\"M17.41 7.96l-1.37-1.37c-.4-.4-.92-.59-1.43-.59-.52 0-1.04.2-1.43.59L10.3 9.45l-7.72 7.72c-.78.78-.78 2.05 0 2.83L4 21.41c.39.39.9.59 1.41.59.51 0 1.02-.2 1.41-.59l7.78-7.78 2.81-2.81c.8-.78.8-2.07 0-2.86zM5.41 20L4 18.59l7.72-7.72 1.47 1.35L5.41 20z\"/>\n",
              "  </svg>\n",
              "      </button>\n",
              "      \n",
              "  <style>\n",
              "    .colab-df-container {\n",
              "      display:flex;\n",
              "      flex-wrap:wrap;\n",
              "      gap: 12px;\n",
              "    }\n",
              "\n",
              "    .colab-df-convert {\n",
              "      background-color: #E8F0FE;\n",
              "      border: none;\n",
              "      border-radius: 50%;\n",
              "      cursor: pointer;\n",
              "      display: none;\n",
              "      fill: #1967D2;\n",
              "      height: 32px;\n",
              "      padding: 0 0 0 0;\n",
              "      width: 32px;\n",
              "    }\n",
              "\n",
              "    .colab-df-convert:hover {\n",
              "      background-color: #E2EBFA;\n",
              "      box-shadow: 0px 1px 2px rgba(60, 64, 67, 0.3), 0px 1px 3px 1px rgba(60, 64, 67, 0.15);\n",
              "      fill: #174EA6;\n",
              "    }\n",
              "\n",
              "    [theme=dark] .colab-df-convert {\n",
              "      background-color: #3B4455;\n",
              "      fill: #D2E3FC;\n",
              "    }\n",
              "\n",
              "    [theme=dark] .colab-df-convert:hover {\n",
              "      background-color: #434B5C;\n",
              "      box-shadow: 0px 1px 3px 1px rgba(0, 0, 0, 0.15);\n",
              "      filter: drop-shadow(0px 1px 2px rgba(0, 0, 0, 0.3));\n",
              "      fill: #FFFFFF;\n",
              "    }\n",
              "  </style>\n",
              "\n",
              "      <script>\n",
              "        const buttonEl =\n",
              "          document.querySelector('#df-8e61ca04-3058-4a8b-bb97-ddaf2cb7c723 button.colab-df-convert');\n",
              "        buttonEl.style.display =\n",
              "          google.colab.kernel.accessAllowed ? 'block' : 'none';\n",
              "\n",
              "        async function convertToInteractive(key) {\n",
              "          const element = document.querySelector('#df-8e61ca04-3058-4a8b-bb97-ddaf2cb7c723');\n",
              "          const dataTable =\n",
              "            await google.colab.kernel.invokeFunction('convertToInteractive',\n",
              "                                                     [key], {});\n",
              "          if (!dataTable) return;\n",
              "\n",
              "          const docLinkHtml = 'Like what you see? Visit the ' +\n",
              "            '<a target=\"_blank\" href=https://colab.research.google.com/notebooks/data_table.ipynb>data table notebook</a>'\n",
              "            + ' to learn more about interactive tables.';\n",
              "          element.innerHTML = '';\n",
              "          dataTable['output_type'] = 'display_data';\n",
              "          await google.colab.output.renderOutput(dataTable, element);\n",
              "          const docLink = document.createElement('div');\n",
              "          docLink.innerHTML = docLinkHtml;\n",
              "          element.appendChild(docLink);\n",
              "        }\n",
              "      </script>\n",
              "    </div>\n",
              "  </div>\n",
              "  "
            ]
          },
          "metadata": {},
          "execution_count": 81
        }
      ]
    },
    {
      "cell_type": "markdown",
      "source": [
        "**6. FEATURE ENGINEERING**"
      ],
      "metadata": {
        "id": "ALHscXEO2Ir9"
      }
    },
    {
      "cell_type": "markdown",
      "source": [
        "**Creation of a new SideEffects column**"
      ],
      "metadata": {
        "id": "CwZILllG2fRj"
      }
    },
    {
      "cell_type": "code",
      "source": [
        "data1=np.where(data_new['Satisfaction'] == 1.0, \"Nil\", data_new['Satisfaction'])\n",
        "data1=np.where(data_new['Satisfaction'] == 2.0, \"Mild\",data1)\n",
        "data1=np.where(data_new['Satisfaction'] == 3.0, \"Moderate\", data1)\n",
        "data1=np.where(data_new['Satisfaction'] == 4.0, \"Severe\", data1)\n",
        "data1=np.where(data_new['Satisfaction'] == 5.0, \"Extreme\",data1)"
      ],
      "metadata": {
        "id": "rjeFHJqv2CWF"
      },
      "execution_count": null,
      "outputs": []
    },
    {
      "cell_type": "code",
      "source": [
        "data_new['SideEffects']=data1\n"
      ],
      "metadata": {
        "id": "VcN5xzSR2lML"
      },
      "execution_count": null,
      "outputs": []
    },
    {
      "cell_type": "markdown",
      "source": [],
      "metadata": {
        "id": "oL-tsrAL2pml"
      }
    },
    {
      "cell_type": "markdown",
      "source": [
        "**Since DrugId is the same, dropping the column**"
      ],
      "metadata": {
        "id": "3G0i71lw2pqp"
      }
    },
    {
      "cell_type": "code",
      "source": [
        "data_new.drop(['Satisfaction','DrugId'], inplace=True, axis=1)\n",
        "data_new.head()"
      ],
      "metadata": {
        "colab": {
          "base_uri": "https://localhost:8080/",
          "height": 337
        },
        "id": "wnxfDilx2ncj",
        "outputId": "52caa001-4880-4d46-d5df-b23af585ab81"
      },
      "execution_count": null,
      "outputs": [
        {
          "output_type": "execute_result",
          "data": {
            "text/plain": [
              "                      Name      Race    Age                Condition  \\\n",
              "191610  Miss Tiffany Simon     Black   7-12  Simple Partial Seizures   \n",
              "191638        Jeffrey Choi     White  65-74      Migraine Prevention   \n",
              "191645    Jillian Harrison     Asian  55-64                    Other   \n",
              "191652         Paul Murphy  Hispanic  45-54      Migraine Prevention   \n",
              "191659         Holly Gross     Asian  25-34    Tonic-Clonic Epilepsy   \n",
              "\n",
              "              Date     Drug  EaseofUse  Effectiveness  \\\n",
              "191610   2/26/2019  topamax        4.0            5.0   \n",
              "191638   6/22/2014  topamax        5.0            5.0   \n",
              "191645  12/27/2018  topamax        5.0            5.0   \n",
              "191652  12/17/2018  topamax        5.0            3.0   \n",
              "191659  10/18/2018  topamax        5.0            5.0   \n",
              "\n",
              "                                                  Reviews     Sex  \\\n",
              "191610  I'm now 30 years old, but I was 12 when I was ...    Male   \n",
              "191638  I have been taking Topamax for exactly four ye...  Female   \n",
              "191645  I suffer with spinal degeneration that I am su...  Female   \n",
              "191652  I have been taking 50 mg 2x a day since 11/30/...  Female   \n",
              "191659  The important thin I want to say is Topamax is...    Male   \n",
              "\n",
              "                                                    Sides  UsefulCount  \\\n",
              "191610  Tiredness, drowsiness,  dizziness , loss of co...          0.0   \n",
              "191638  Tiredness, drowsiness,  dizziness , loss of co...          9.0   \n",
              "191645  Tiredness, drowsiness,  dizziness , loss of co...          0.0   \n",
              "191652  Tiredness, drowsiness,  dizziness , loss of co...          7.0   \n",
              "191659  Tiredness, drowsiness,  dizziness , loss of co...          1.0   \n",
              "\n",
              "       SideEffects  \n",
              "191610     Extreme  \n",
              "191638     Extreme  \n",
              "191645     Extreme  \n",
              "191652        Mild  \n",
              "191659     Extreme  "
            ],
            "text/html": [
              "\n",
              "  <div id=\"df-95ca21f4-9641-43b0-a932-f4d586b00444\">\n",
              "    <div class=\"colab-df-container\">\n",
              "      <div>\n",
              "<style scoped>\n",
              "    .dataframe tbody tr th:only-of-type {\n",
              "        vertical-align: middle;\n",
              "    }\n",
              "\n",
              "    .dataframe tbody tr th {\n",
              "        vertical-align: top;\n",
              "    }\n",
              "\n",
              "    .dataframe thead th {\n",
              "        text-align: right;\n",
              "    }\n",
              "</style>\n",
              "<table border=\"1\" class=\"dataframe\">\n",
              "  <thead>\n",
              "    <tr style=\"text-align: right;\">\n",
              "      <th></th>\n",
              "      <th>Name</th>\n",
              "      <th>Race</th>\n",
              "      <th>Age</th>\n",
              "      <th>Condition</th>\n",
              "      <th>Date</th>\n",
              "      <th>Drug</th>\n",
              "      <th>EaseofUse</th>\n",
              "      <th>Effectiveness</th>\n",
              "      <th>Reviews</th>\n",
              "      <th>Sex</th>\n",
              "      <th>Sides</th>\n",
              "      <th>UsefulCount</th>\n",
              "      <th>SideEffects</th>\n",
              "    </tr>\n",
              "  </thead>\n",
              "  <tbody>\n",
              "    <tr>\n",
              "      <th>191610</th>\n",
              "      <td>Miss Tiffany Simon</td>\n",
              "      <td>Black</td>\n",
              "      <td>7-12</td>\n",
              "      <td>Simple Partial Seizures</td>\n",
              "      <td>2/26/2019</td>\n",
              "      <td>topamax</td>\n",
              "      <td>4.0</td>\n",
              "      <td>5.0</td>\n",
              "      <td>I'm now 30 years old, but I was 12 when I was ...</td>\n",
              "      <td>Male</td>\n",
              "      <td>Tiredness, drowsiness,  dizziness , loss of co...</td>\n",
              "      <td>0.0</td>\n",
              "      <td>Extreme</td>\n",
              "    </tr>\n",
              "    <tr>\n",
              "      <th>191638</th>\n",
              "      <td>Jeffrey Choi</td>\n",
              "      <td>White</td>\n",
              "      <td>65-74</td>\n",
              "      <td>Migraine Prevention</td>\n",
              "      <td>6/22/2014</td>\n",
              "      <td>topamax</td>\n",
              "      <td>5.0</td>\n",
              "      <td>5.0</td>\n",
              "      <td>I have been taking Topamax for exactly four ye...</td>\n",
              "      <td>Female</td>\n",
              "      <td>Tiredness, drowsiness,  dizziness , loss of co...</td>\n",
              "      <td>9.0</td>\n",
              "      <td>Extreme</td>\n",
              "    </tr>\n",
              "    <tr>\n",
              "      <th>191645</th>\n",
              "      <td>Jillian Harrison</td>\n",
              "      <td>Asian</td>\n",
              "      <td>55-64</td>\n",
              "      <td>Other</td>\n",
              "      <td>12/27/2018</td>\n",
              "      <td>topamax</td>\n",
              "      <td>5.0</td>\n",
              "      <td>5.0</td>\n",
              "      <td>I suffer with spinal degeneration that I am su...</td>\n",
              "      <td>Female</td>\n",
              "      <td>Tiredness, drowsiness,  dizziness , loss of co...</td>\n",
              "      <td>0.0</td>\n",
              "      <td>Extreme</td>\n",
              "    </tr>\n",
              "    <tr>\n",
              "      <th>191652</th>\n",
              "      <td>Paul Murphy</td>\n",
              "      <td>Hispanic</td>\n",
              "      <td>45-54</td>\n",
              "      <td>Migraine Prevention</td>\n",
              "      <td>12/17/2018</td>\n",
              "      <td>topamax</td>\n",
              "      <td>5.0</td>\n",
              "      <td>3.0</td>\n",
              "      <td>I have been taking 50 mg 2x a day since 11/30/...</td>\n",
              "      <td>Female</td>\n",
              "      <td>Tiredness, drowsiness,  dizziness , loss of co...</td>\n",
              "      <td>7.0</td>\n",
              "      <td>Mild</td>\n",
              "    </tr>\n",
              "    <tr>\n",
              "      <th>191659</th>\n",
              "      <td>Holly Gross</td>\n",
              "      <td>Asian</td>\n",
              "      <td>25-34</td>\n",
              "      <td>Tonic-Clonic Epilepsy</td>\n",
              "      <td>10/18/2018</td>\n",
              "      <td>topamax</td>\n",
              "      <td>5.0</td>\n",
              "      <td>5.0</td>\n",
              "      <td>The important thin I want to say is Topamax is...</td>\n",
              "      <td>Male</td>\n",
              "      <td>Tiredness, drowsiness,  dizziness , loss of co...</td>\n",
              "      <td>1.0</td>\n",
              "      <td>Extreme</td>\n",
              "    </tr>\n",
              "  </tbody>\n",
              "</table>\n",
              "</div>\n",
              "      <button class=\"colab-df-convert\" onclick=\"convertToInteractive('df-95ca21f4-9641-43b0-a932-f4d586b00444')\"\n",
              "              title=\"Convert this dataframe to an interactive table.\"\n",
              "              style=\"display:none;\">\n",
              "        \n",
              "  <svg xmlns=\"http://www.w3.org/2000/svg\" height=\"24px\"viewBox=\"0 0 24 24\"\n",
              "       width=\"24px\">\n",
              "    <path d=\"M0 0h24v24H0V0z\" fill=\"none\"/>\n",
              "    <path d=\"M18.56 5.44l.94 2.06.94-2.06 2.06-.94-2.06-.94-.94-2.06-.94 2.06-2.06.94zm-11 1L8.5 8.5l.94-2.06 2.06-.94-2.06-.94L8.5 2.5l-.94 2.06-2.06.94zm10 10l.94 2.06.94-2.06 2.06-.94-2.06-.94-.94-2.06-.94 2.06-2.06.94z\"/><path d=\"M17.41 7.96l-1.37-1.37c-.4-.4-.92-.59-1.43-.59-.52 0-1.04.2-1.43.59L10.3 9.45l-7.72 7.72c-.78.78-.78 2.05 0 2.83L4 21.41c.39.39.9.59 1.41.59.51 0 1.02-.2 1.41-.59l7.78-7.78 2.81-2.81c.8-.78.8-2.07 0-2.86zM5.41 20L4 18.59l7.72-7.72 1.47 1.35L5.41 20z\"/>\n",
              "  </svg>\n",
              "      </button>\n",
              "      \n",
              "  <style>\n",
              "    .colab-df-container {\n",
              "      display:flex;\n",
              "      flex-wrap:wrap;\n",
              "      gap: 12px;\n",
              "    }\n",
              "\n",
              "    .colab-df-convert {\n",
              "      background-color: #E8F0FE;\n",
              "      border: none;\n",
              "      border-radius: 50%;\n",
              "      cursor: pointer;\n",
              "      display: none;\n",
              "      fill: #1967D2;\n",
              "      height: 32px;\n",
              "      padding: 0 0 0 0;\n",
              "      width: 32px;\n",
              "    }\n",
              "\n",
              "    .colab-df-convert:hover {\n",
              "      background-color: #E2EBFA;\n",
              "      box-shadow: 0px 1px 2px rgba(60, 64, 67, 0.3), 0px 1px 3px 1px rgba(60, 64, 67, 0.15);\n",
              "      fill: #174EA6;\n",
              "    }\n",
              "\n",
              "    [theme=dark] .colab-df-convert {\n",
              "      background-color: #3B4455;\n",
              "      fill: #D2E3FC;\n",
              "    }\n",
              "\n",
              "    [theme=dark] .colab-df-convert:hover {\n",
              "      background-color: #434B5C;\n",
              "      box-shadow: 0px 1px 3px 1px rgba(0, 0, 0, 0.15);\n",
              "      filter: drop-shadow(0px 1px 2px rgba(0, 0, 0, 0.3));\n",
              "      fill: #FFFFFF;\n",
              "    }\n",
              "  </style>\n",
              "\n",
              "      <script>\n",
              "        const buttonEl =\n",
              "          document.querySelector('#df-95ca21f4-9641-43b0-a932-f4d586b00444 button.colab-df-convert');\n",
              "        buttonEl.style.display =\n",
              "          google.colab.kernel.accessAllowed ? 'block' : 'none';\n",
              "\n",
              "        async function convertToInteractive(key) {\n",
              "          const element = document.querySelector('#df-95ca21f4-9641-43b0-a932-f4d586b00444');\n",
              "          const dataTable =\n",
              "            await google.colab.kernel.invokeFunction('convertToInteractive',\n",
              "                                                     [key], {});\n",
              "          if (!dataTable) return;\n",
              "\n",
              "          const docLinkHtml = 'Like what you see? Visit the ' +\n",
              "            '<a target=\"_blank\" href=https://colab.research.google.com/notebooks/data_table.ipynb>data table notebook</a>'\n",
              "            + ' to learn more about interactive tables.';\n",
              "          element.innerHTML = '';\n",
              "          dataTable['output_type'] = 'display_data';\n",
              "          await google.colab.output.renderOutput(dataTable, element);\n",
              "          const docLink = document.createElement('div');\n",
              "          docLink.innerHTML = docLinkHtml;\n",
              "          element.appendChild(docLink);\n",
              "        }\n",
              "      </script>\n",
              "    </div>\n",
              "  </div>\n",
              "  "
            ]
          },
          "metadata": {},
          "execution_count": 84
        }
      ]
    },
    {
      "cell_type": "code",
      "source": [
        "#data_new.to_csv('drug_topamax_eda.csv', index=False)\n",
        "data_copy = data_new.copy()"
      ],
      "metadata": {
        "id": "8Vzv74_U2uHx"
      },
      "execution_count": null,
      "outputs": []
    }
  ]
}